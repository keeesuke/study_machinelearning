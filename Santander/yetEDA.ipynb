{
 "cells": [
  {
   "cell_type": "markdown",
   "metadata": {
    "_uuid": "1d25efdd1d4a98fb6dd8bac9713e79c4a9e47d6b"
   },
   "source": [
    "## Overview\n",
    "\n",
    "The purpose of this kernel is to take a look at the data, come up with some insights, and attempt to create a predictive model or two. So let's get started!\n",
    "\n",
    "## Packages\n",
    "\n",
    "First, let's load a few useful Python packages. This section will keep growing in subsequent versions of this EDA."
   ]
  },
  {
   "cell_type": "code",
   "execution_count": 1,
   "metadata": {
    "_cell_guid": "b1076dfc-b9ad-4769-8c92-a6c4dae69d19",
    "_uuid": "8f2839f25d086af736a60e9eeb907d3b93b6e0e5"
   },
   "outputs": [],
   "source": [
    "import numpy as np # linear algebra\n",
    "import pandas as pd # data processing, CSV file I/O (e.g. pd.read_csv)\n",
    "import os\n",
    "import operator\n",
    "#import gc\n",
    "import matplotlib.pyplot as plt\n",
    "import seaborn as sns\n",
    "from scipy.stats import describe\n",
    "%matplotlib inline\n",
    "\n",
    "from sklearn.model_selection import KFold\n",
    "from sklearn.metrics import mean_squared_error\n",
    "import lightgbm as lgb\n",
    "import xgboost as xgb"
   ]
  },
  {
   "cell_type": "markdown",
   "metadata": {
    "_uuid": "8a0d066154bede603d868fab8a177b6d354308c3"
   },
   "source": [
    "Now let us look at the input folder. Here we find all the relevant files for this competition."
   ]
  },
  {
   "cell_type": "code",
   "execution_count": 5,
   "metadata": {
    "_uuid": "364e9aeaeab5fe13cd4ad4b4af65ebe25c60c0a5"
   },
   "outputs": [
    {
     "name": "stdout",
     "output_type": "stream",
     "text": [
      "['.DS_Store', '.ipynb_checkpoints', 'data_decomposition.ipynb', 'kernel.ipynb', 'sample_submission.csv', 'sample_submission.csv.zip', 'submission.csv', 'test.csv', 'test.csv.zip', 'train.csv', 'train.csv.zip', 'yetEDA.ipynb']\n"
     ]
    }
   ],
   "source": [
    "print(os.listdir(\"/Users/keisuke/Downloads/code/machineLearning/Santander\"))"
   ]
  },
  {
   "cell_type": "markdown",
   "metadata": {
    "_uuid": "ab7d6e3f8f154265b496eda020d96d32c841840d"
   },
   "source": [
    "We see that the input folder only contains three files ```train.csv```, ```test.csv```, and ```sample_submission.csv```. It seems that for this competition we don't have to do any complicated combination and mergers of files.\n",
    "\n",
    "Now let's import and take a glimpse at these files."
   ]
  },
  {
   "cell_type": "code",
   "execution_count": 6,
   "metadata": {
    "_cell_guid": "79c7e3d0-c299-4dcb-8224-4455121ee9b0",
    "_uuid": "d629ff2d2480ee46fbb7e2d37f6b5fab8052498a"
   },
   "outputs": [
    {
     "data": {
      "text/html": [
       "<div>\n",
       "<style scoped>\n",
       "    .dataframe tbody tr th:only-of-type {\n",
       "        vertical-align: middle;\n",
       "    }\n",
       "\n",
       "    .dataframe tbody tr th {\n",
       "        vertical-align: top;\n",
       "    }\n",
       "\n",
       "    .dataframe thead th {\n",
       "        text-align: right;\n",
       "    }\n",
       "</style>\n",
       "<table border=\"1\" class=\"dataframe\">\n",
       "  <thead>\n",
       "    <tr style=\"text-align: right;\">\n",
       "      <th></th>\n",
       "      <th>ID</th>\n",
       "      <th>target</th>\n",
       "      <th>48df886f9</th>\n",
       "      <th>0deb4b6a8</th>\n",
       "      <th>34b15f335</th>\n",
       "      <th>a8cb14b00</th>\n",
       "      <th>2f0771a37</th>\n",
       "      <th>30347e683</th>\n",
       "      <th>d08d1fbe3</th>\n",
       "      <th>6ee66e115</th>\n",
       "      <th>...</th>\n",
       "      <th>3ecc09859</th>\n",
       "      <th>9281abeea</th>\n",
       "      <th>8675bec0b</th>\n",
       "      <th>3a13ed79a</th>\n",
       "      <th>f677d4d13</th>\n",
       "      <th>71b203550</th>\n",
       "      <th>137efaa80</th>\n",
       "      <th>fb36b89d9</th>\n",
       "      <th>7e293fbaf</th>\n",
       "      <th>9fc776466</th>\n",
       "    </tr>\n",
       "  </thead>\n",
       "  <tbody>\n",
       "    <tr>\n",
       "      <th>0</th>\n",
       "      <td>000d6aaf2</td>\n",
       "      <td>38000000.0</td>\n",
       "      <td>0.0</td>\n",
       "      <td>0</td>\n",
       "      <td>0.0</td>\n",
       "      <td>0</td>\n",
       "      <td>0</td>\n",
       "      <td>0</td>\n",
       "      <td>0</td>\n",
       "      <td>0</td>\n",
       "      <td>...</td>\n",
       "      <td>0.0</td>\n",
       "      <td>0.0</td>\n",
       "      <td>0.0</td>\n",
       "      <td>0</td>\n",
       "      <td>0</td>\n",
       "      <td>0</td>\n",
       "      <td>0</td>\n",
       "      <td>0</td>\n",
       "      <td>0</td>\n",
       "      <td>0</td>\n",
       "    </tr>\n",
       "    <tr>\n",
       "      <th>1</th>\n",
       "      <td>000fbd867</td>\n",
       "      <td>600000.0</td>\n",
       "      <td>0.0</td>\n",
       "      <td>0</td>\n",
       "      <td>0.0</td>\n",
       "      <td>0</td>\n",
       "      <td>0</td>\n",
       "      <td>0</td>\n",
       "      <td>0</td>\n",
       "      <td>0</td>\n",
       "      <td>...</td>\n",
       "      <td>0.0</td>\n",
       "      <td>0.0</td>\n",
       "      <td>0.0</td>\n",
       "      <td>0</td>\n",
       "      <td>0</td>\n",
       "      <td>0</td>\n",
       "      <td>0</td>\n",
       "      <td>0</td>\n",
       "      <td>0</td>\n",
       "      <td>0</td>\n",
       "    </tr>\n",
       "    <tr>\n",
       "      <th>2</th>\n",
       "      <td>0027d6b71</td>\n",
       "      <td>10000000.0</td>\n",
       "      <td>0.0</td>\n",
       "      <td>0</td>\n",
       "      <td>0.0</td>\n",
       "      <td>0</td>\n",
       "      <td>0</td>\n",
       "      <td>0</td>\n",
       "      <td>0</td>\n",
       "      <td>0</td>\n",
       "      <td>...</td>\n",
       "      <td>0.0</td>\n",
       "      <td>0.0</td>\n",
       "      <td>0.0</td>\n",
       "      <td>0</td>\n",
       "      <td>0</td>\n",
       "      <td>0</td>\n",
       "      <td>0</td>\n",
       "      <td>0</td>\n",
       "      <td>0</td>\n",
       "      <td>0</td>\n",
       "    </tr>\n",
       "    <tr>\n",
       "      <th>3</th>\n",
       "      <td>0028cbf45</td>\n",
       "      <td>2000000.0</td>\n",
       "      <td>0.0</td>\n",
       "      <td>0</td>\n",
       "      <td>0.0</td>\n",
       "      <td>0</td>\n",
       "      <td>0</td>\n",
       "      <td>0</td>\n",
       "      <td>0</td>\n",
       "      <td>0</td>\n",
       "      <td>...</td>\n",
       "      <td>0.0</td>\n",
       "      <td>0.0</td>\n",
       "      <td>0.0</td>\n",
       "      <td>0</td>\n",
       "      <td>0</td>\n",
       "      <td>0</td>\n",
       "      <td>0</td>\n",
       "      <td>0</td>\n",
       "      <td>0</td>\n",
       "      <td>0</td>\n",
       "    </tr>\n",
       "    <tr>\n",
       "      <th>4</th>\n",
       "      <td>002a68644</td>\n",
       "      <td>14400000.0</td>\n",
       "      <td>0.0</td>\n",
       "      <td>0</td>\n",
       "      <td>0.0</td>\n",
       "      <td>0</td>\n",
       "      <td>0</td>\n",
       "      <td>0</td>\n",
       "      <td>0</td>\n",
       "      <td>0</td>\n",
       "      <td>...</td>\n",
       "      <td>0.0</td>\n",
       "      <td>0.0</td>\n",
       "      <td>0.0</td>\n",
       "      <td>0</td>\n",
       "      <td>0</td>\n",
       "      <td>0</td>\n",
       "      <td>0</td>\n",
       "      <td>0</td>\n",
       "      <td>0</td>\n",
       "      <td>0</td>\n",
       "    </tr>\n",
       "  </tbody>\n",
       "</table>\n",
       "<p>5 rows × 4993 columns</p>\n",
       "</div>"
      ],
      "text/plain": [
       "          ID      target  48df886f9  0deb4b6a8  34b15f335  a8cb14b00  \\\n",
       "0  000d6aaf2  38000000.0        0.0          0        0.0          0   \n",
       "1  000fbd867    600000.0        0.0          0        0.0          0   \n",
       "2  0027d6b71  10000000.0        0.0          0        0.0          0   \n",
       "3  0028cbf45   2000000.0        0.0          0        0.0          0   \n",
       "4  002a68644  14400000.0        0.0          0        0.0          0   \n",
       "\n",
       "   2f0771a37  30347e683  d08d1fbe3  6ee66e115    ...      3ecc09859  \\\n",
       "0          0          0          0          0    ...            0.0   \n",
       "1          0          0          0          0    ...            0.0   \n",
       "2          0          0          0          0    ...            0.0   \n",
       "3          0          0          0          0    ...            0.0   \n",
       "4          0          0          0          0    ...            0.0   \n",
       "\n",
       "   9281abeea  8675bec0b  3a13ed79a  f677d4d13  71b203550  137efaa80  \\\n",
       "0        0.0        0.0          0          0          0          0   \n",
       "1        0.0        0.0          0          0          0          0   \n",
       "2        0.0        0.0          0          0          0          0   \n",
       "3        0.0        0.0          0          0          0          0   \n",
       "4        0.0        0.0          0          0          0          0   \n",
       "\n",
       "   fb36b89d9  7e293fbaf  9fc776466  \n",
       "0          0          0          0  \n",
       "1          0          0          0  \n",
       "2          0          0          0  \n",
       "3          0          0          0  \n",
       "4          0          0          0  \n",
       "\n",
       "[5 rows x 4993 columns]"
      ]
     },
     "execution_count": 6,
     "metadata": {},
     "output_type": "execute_result"
    }
   ],
   "source": [
    "train_df = pd.read_csv('train.csv')\n",
    "train_df.head()"
   ]
  },
  {
   "cell_type": "code",
   "execution_count": 7,
   "metadata": {
    "_uuid": "289c27a69e66bf37a0253e1377747984cc3d6a25"
   },
   "outputs": [
    {
     "data": {
      "text/plain": [
       "(4459, 4993)"
      ]
     },
     "execution_count": 7,
     "metadata": {},
     "output_type": "execute_result"
    }
   ],
   "source": [
    "train_df.shape"
   ]
  },
  {
   "cell_type": "code",
   "execution_count": 8,
   "metadata": {
    "_uuid": "80c5ea30234a44f367859a8091eaa5fbfc2f1d3a"
   },
   "outputs": [
    {
     "name": "stdout",
     "output_type": "stream",
     "text": [
      "<class 'pandas.core.frame.DataFrame'>\n",
      "RangeIndex: 4459 entries, 0 to 4458\n",
      "Columns: 4993 entries, ID to 9fc776466\n",
      "dtypes: float64(1845), int64(3147), object(1)\n",
      "memory usage: 169.9+ MB\n"
     ]
    }
   ],
   "source": [
    "train_df.info()"
   ]
  },
  {
   "cell_type": "code",
   "execution_count": 11,
   "metadata": {
    "_uuid": "f0bc6cc7fe7015081088285aada122fac4a5a37b"
   },
   "outputs": [
    {
     "data": {
      "text/plain": [
       "False"
      ]
     },
     "execution_count": 11,
     "metadata": {},
     "output_type": "execute_result"
    }
   ],
   "source": [
    "train_df.isnull().values.any()"
   ]
  },
  {
   "cell_type": "markdown",
   "metadata": {
    "_uuid": "c50d9055156062b435f0dff064d5c00a08e89e22"
   },
   "source": [
    "A few things immediately stand out:\n",
    "\n",
    "1. As advertised, features are numeric and anonymized. \n",
    "2. Features seem sparse. We'll have to investigate this further. \n",
    "3. There are a LOT of features! Almost 5000! And they outnumber the number of rows in the training set!\n",
    "4. There are less than 5000 training rows. In fact, there are fewer rows than columns, which means we'll have to invest a lot of effort into feature selection / feature engineering. \n",
    "5. The memory size of the train dataset is fairly large - 170 MB, which is to be expected. \n",
    "6. Pandas is treating 1845 features as float, and 3147 as integer. It is possible that some of those int features are one-hot-encoded or label-encoded categorical variables. We'll have to investigate this later, and possibly do some reverse-engineering. :)\n",
    "7. There doesn't appear to be any missing values in the train set. This is, IMHO, overall a good thing, although a lot of times there is some signal in the missing values that's valuable and worth exploring. \n",
    "\n",
    "This is going to be a very, very, interesting competition. :)\n",
    "\n",
    "Now let's take a look at the test dataset."
   ]
  },
  {
   "cell_type": "code",
   "execution_count": 12,
   "metadata": {
    "_uuid": "5700f9315f65a472e26d8e9f87f232dabcf9a72c"
   },
   "outputs": [
    {
     "data": {
      "text/html": [
       "<div>\n",
       "<style scoped>\n",
       "    .dataframe tbody tr th:only-of-type {\n",
       "        vertical-align: middle;\n",
       "    }\n",
       "\n",
       "    .dataframe tbody tr th {\n",
       "        vertical-align: top;\n",
       "    }\n",
       "\n",
       "    .dataframe thead th {\n",
       "        text-align: right;\n",
       "    }\n",
       "</style>\n",
       "<table border=\"1\" class=\"dataframe\">\n",
       "  <thead>\n",
       "    <tr style=\"text-align: right;\">\n",
       "      <th></th>\n",
       "      <th>ID</th>\n",
       "      <th>48df886f9</th>\n",
       "      <th>0deb4b6a8</th>\n",
       "      <th>34b15f335</th>\n",
       "      <th>a8cb14b00</th>\n",
       "      <th>2f0771a37</th>\n",
       "      <th>30347e683</th>\n",
       "      <th>d08d1fbe3</th>\n",
       "      <th>6ee66e115</th>\n",
       "      <th>20aa07010</th>\n",
       "      <th>...</th>\n",
       "      <th>3ecc09859</th>\n",
       "      <th>9281abeea</th>\n",
       "      <th>8675bec0b</th>\n",
       "      <th>3a13ed79a</th>\n",
       "      <th>f677d4d13</th>\n",
       "      <th>71b203550</th>\n",
       "      <th>137efaa80</th>\n",
       "      <th>fb36b89d9</th>\n",
       "      <th>7e293fbaf</th>\n",
       "      <th>9fc776466</th>\n",
       "    </tr>\n",
       "  </thead>\n",
       "  <tbody>\n",
       "    <tr>\n",
       "      <th>0</th>\n",
       "      <td>000137c73</td>\n",
       "      <td>0.0</td>\n",
       "      <td>0.0</td>\n",
       "      <td>0.0</td>\n",
       "      <td>0.0</td>\n",
       "      <td>0.0</td>\n",
       "      <td>0.0</td>\n",
       "      <td>0.0</td>\n",
       "      <td>0.0</td>\n",
       "      <td>0.0</td>\n",
       "      <td>...</td>\n",
       "      <td>0.0</td>\n",
       "      <td>0.0</td>\n",
       "      <td>0.0</td>\n",
       "      <td>0.0</td>\n",
       "      <td>0.0</td>\n",
       "      <td>0.0</td>\n",
       "      <td>0.0</td>\n",
       "      <td>0.0</td>\n",
       "      <td>0.0</td>\n",
       "      <td>0.0</td>\n",
       "    </tr>\n",
       "    <tr>\n",
       "      <th>1</th>\n",
       "      <td>00021489f</td>\n",
       "      <td>0.0</td>\n",
       "      <td>0.0</td>\n",
       "      <td>0.0</td>\n",
       "      <td>0.0</td>\n",
       "      <td>0.0</td>\n",
       "      <td>0.0</td>\n",
       "      <td>0.0</td>\n",
       "      <td>0.0</td>\n",
       "      <td>0.0</td>\n",
       "      <td>...</td>\n",
       "      <td>0.0</td>\n",
       "      <td>0.0</td>\n",
       "      <td>0.0</td>\n",
       "      <td>0.0</td>\n",
       "      <td>0.0</td>\n",
       "      <td>0.0</td>\n",
       "      <td>0.0</td>\n",
       "      <td>0.0</td>\n",
       "      <td>0.0</td>\n",
       "      <td>0.0</td>\n",
       "    </tr>\n",
       "    <tr>\n",
       "      <th>2</th>\n",
       "      <td>0004d7953</td>\n",
       "      <td>0.0</td>\n",
       "      <td>0.0</td>\n",
       "      <td>0.0</td>\n",
       "      <td>0.0</td>\n",
       "      <td>0.0</td>\n",
       "      <td>0.0</td>\n",
       "      <td>0.0</td>\n",
       "      <td>0.0</td>\n",
       "      <td>0.0</td>\n",
       "      <td>...</td>\n",
       "      <td>0.0</td>\n",
       "      <td>0.0</td>\n",
       "      <td>0.0</td>\n",
       "      <td>0.0</td>\n",
       "      <td>0.0</td>\n",
       "      <td>0.0</td>\n",
       "      <td>0.0</td>\n",
       "      <td>0.0</td>\n",
       "      <td>0.0</td>\n",
       "      <td>0.0</td>\n",
       "    </tr>\n",
       "    <tr>\n",
       "      <th>3</th>\n",
       "      <td>00056a333</td>\n",
       "      <td>0.0</td>\n",
       "      <td>0.0</td>\n",
       "      <td>0.0</td>\n",
       "      <td>0.0</td>\n",
       "      <td>0.0</td>\n",
       "      <td>0.0</td>\n",
       "      <td>0.0</td>\n",
       "      <td>0.0</td>\n",
       "      <td>0.0</td>\n",
       "      <td>...</td>\n",
       "      <td>0.0</td>\n",
       "      <td>0.0</td>\n",
       "      <td>0.0</td>\n",
       "      <td>0.0</td>\n",
       "      <td>0.0</td>\n",
       "      <td>0.0</td>\n",
       "      <td>0.0</td>\n",
       "      <td>0.0</td>\n",
       "      <td>0.0</td>\n",
       "      <td>0.0</td>\n",
       "    </tr>\n",
       "    <tr>\n",
       "      <th>4</th>\n",
       "      <td>00056d8eb</td>\n",
       "      <td>0.0</td>\n",
       "      <td>0.0</td>\n",
       "      <td>0.0</td>\n",
       "      <td>0.0</td>\n",
       "      <td>0.0</td>\n",
       "      <td>0.0</td>\n",
       "      <td>0.0</td>\n",
       "      <td>0.0</td>\n",
       "      <td>0.0</td>\n",
       "      <td>...</td>\n",
       "      <td>0.0</td>\n",
       "      <td>0.0</td>\n",
       "      <td>0.0</td>\n",
       "      <td>0.0</td>\n",
       "      <td>0.0</td>\n",
       "      <td>0.0</td>\n",
       "      <td>0.0</td>\n",
       "      <td>0.0</td>\n",
       "      <td>0.0</td>\n",
       "      <td>0.0</td>\n",
       "    </tr>\n",
       "  </tbody>\n",
       "</table>\n",
       "<p>5 rows × 4992 columns</p>\n",
       "</div>"
      ],
      "text/plain": [
       "          ID  48df886f9  0deb4b6a8  34b15f335  a8cb14b00  2f0771a37  \\\n",
       "0  000137c73        0.0        0.0        0.0        0.0        0.0   \n",
       "1  00021489f        0.0        0.0        0.0        0.0        0.0   \n",
       "2  0004d7953        0.0        0.0        0.0        0.0        0.0   \n",
       "3  00056a333        0.0        0.0        0.0        0.0        0.0   \n",
       "4  00056d8eb        0.0        0.0        0.0        0.0        0.0   \n",
       "\n",
       "   30347e683  d08d1fbe3  6ee66e115  20aa07010    ...      3ecc09859  \\\n",
       "0        0.0        0.0        0.0        0.0    ...            0.0   \n",
       "1        0.0        0.0        0.0        0.0    ...            0.0   \n",
       "2        0.0        0.0        0.0        0.0    ...            0.0   \n",
       "3        0.0        0.0        0.0        0.0    ...            0.0   \n",
       "4        0.0        0.0        0.0        0.0    ...            0.0   \n",
       "\n",
       "   9281abeea  8675bec0b  3a13ed79a  f677d4d13  71b203550  137efaa80  \\\n",
       "0        0.0        0.0        0.0        0.0        0.0        0.0   \n",
       "1        0.0        0.0        0.0        0.0        0.0        0.0   \n",
       "2        0.0        0.0        0.0        0.0        0.0        0.0   \n",
       "3        0.0        0.0        0.0        0.0        0.0        0.0   \n",
       "4        0.0        0.0        0.0        0.0        0.0        0.0   \n",
       "\n",
       "   fb36b89d9  7e293fbaf  9fc776466  \n",
       "0        0.0        0.0        0.0  \n",
       "1        0.0        0.0        0.0  \n",
       "2        0.0        0.0        0.0  \n",
       "3        0.0        0.0        0.0  \n",
       "4        0.0        0.0        0.0  \n",
       "\n",
       "[5 rows x 4992 columns]"
      ]
     },
     "execution_count": 12,
     "metadata": {},
     "output_type": "execute_result"
    }
   ],
   "source": [
    "test_df = pd.read_csv('test.csv')\n",
    "test_df.head()"
   ]
  },
  {
   "cell_type": "code",
   "execution_count": 13,
   "metadata": {
    "_uuid": "b91ebc5a68adad1f478cf99953110412723e9dc6"
   },
   "outputs": [
    {
     "data": {
      "text/plain": [
       "(49342, 4992)"
      ]
     },
     "execution_count": 13,
     "metadata": {},
     "output_type": "execute_result"
    }
   ],
   "source": [
    "test_df.shape"
   ]
  },
  {
   "cell_type": "code",
   "execution_count": 14,
   "metadata": {
    "_uuid": "ee5d6807a37212719669366fe977bb4b3d079cc1"
   },
   "outputs": [
    {
     "name": "stdout",
     "output_type": "stream",
     "text": [
      "<class 'pandas.core.frame.DataFrame'>\n",
      "RangeIndex: 49342 entries, 0 to 49341\n",
      "Columns: 4992 entries, ID to 9fc776466\n",
      "dtypes: float64(4991), object(1)\n",
      "memory usage: 1.8+ GB\n"
     ]
    }
   ],
   "source": [
    "test_df.info()"
   ]
  },
  {
   "cell_type": "code",
   "execution_count": 15,
   "metadata": {
    "_uuid": "923e79dfb4670a4addbc5865674ad93b53fc8241"
   },
   "outputs": [
    {
     "data": {
      "text/plain": [
       "False"
      ]
     },
     "execution_count": 15,
     "metadata": {},
     "output_type": "execute_result"
    }
   ],
   "source": [
    "test_df.isnull().values.any()"
   ]
  },
  {
   "cell_type": "markdown",
   "metadata": {
    "_uuid": "542d068e3ebf543ec365d5958b383f9f73d6f28b"
   },
   "source": [
    "Here we see that the number of features in the test set (4992) matches the number in the train set. Sanity check is always a good thing, and at leas at this level, hte Kaggle people did not mess things up.\n",
    "\n",
    "According to Pandas, there are no ```int``` values in the test set. Now I'm really curious about those ... \n",
    "\n",
    "There also doesn't seem to be any missing values in the test set. \n",
    "\n",
    "We also see that the number of rows in the test set far surpasses the number of rows in the train set. Yes, a very *interesting* competition indeed ...\n",
    "\n",
    "\n",
    "\n",
    "Now let's see some basic descriptive statistics for the train and test dataframes."
   ]
  },
  {
   "cell_type": "code",
   "execution_count": 16,
   "metadata": {
    "_uuid": "017b21d1c2f8101fc8e3764f410deebe68f19f62"
   },
   "outputs": [
    {
     "data": {
      "text/html": [
       "<div>\n",
       "<style scoped>\n",
       "    .dataframe tbody tr th:only-of-type {\n",
       "        vertical-align: middle;\n",
       "    }\n",
       "\n",
       "    .dataframe tbody tr th {\n",
       "        vertical-align: top;\n",
       "    }\n",
       "\n",
       "    .dataframe thead th {\n",
       "        text-align: right;\n",
       "    }\n",
       "</style>\n",
       "<table border=\"1\" class=\"dataframe\">\n",
       "  <thead>\n",
       "    <tr style=\"text-align: right;\">\n",
       "      <th></th>\n",
       "      <th>target</th>\n",
       "      <th>48df886f9</th>\n",
       "      <th>0deb4b6a8</th>\n",
       "      <th>34b15f335</th>\n",
       "      <th>a8cb14b00</th>\n",
       "      <th>2f0771a37</th>\n",
       "      <th>30347e683</th>\n",
       "      <th>d08d1fbe3</th>\n",
       "      <th>6ee66e115</th>\n",
       "      <th>20aa07010</th>\n",
       "      <th>...</th>\n",
       "      <th>3ecc09859</th>\n",
       "      <th>9281abeea</th>\n",
       "      <th>8675bec0b</th>\n",
       "      <th>3a13ed79a</th>\n",
       "      <th>f677d4d13</th>\n",
       "      <th>71b203550</th>\n",
       "      <th>137efaa80</th>\n",
       "      <th>fb36b89d9</th>\n",
       "      <th>7e293fbaf</th>\n",
       "      <th>9fc776466</th>\n",
       "    </tr>\n",
       "  </thead>\n",
       "  <tbody>\n",
       "    <tr>\n",
       "      <th>count</th>\n",
       "      <td>4.459000e+03</td>\n",
       "      <td>4.459000e+03</td>\n",
       "      <td>4.459000e+03</td>\n",
       "      <td>4.459000e+03</td>\n",
       "      <td>4.459000e+03</td>\n",
       "      <td>4.459000e+03</td>\n",
       "      <td>4.459000e+03</td>\n",
       "      <td>4.459000e+03</td>\n",
       "      <td>4.459000e+03</td>\n",
       "      <td>4.459000e+03</td>\n",
       "      <td>...</td>\n",
       "      <td>4.459000e+03</td>\n",
       "      <td>4.459000e+03</td>\n",
       "      <td>4.459000e+03</td>\n",
       "      <td>4.459000e+03</td>\n",
       "      <td>4459.000000</td>\n",
       "      <td>4.459000e+03</td>\n",
       "      <td>4.459000e+03</td>\n",
       "      <td>4.459000e+03</td>\n",
       "      <td>4.459000e+03</td>\n",
       "      <td>4.459000e+03</td>\n",
       "    </tr>\n",
       "    <tr>\n",
       "      <th>mean</th>\n",
       "      <td>5.944923e+06</td>\n",
       "      <td>1.465493e+04</td>\n",
       "      <td>1.390895e+03</td>\n",
       "      <td>2.672245e+04</td>\n",
       "      <td>4.530164e+03</td>\n",
       "      <td>2.640996e+04</td>\n",
       "      <td>3.070811e+04</td>\n",
       "      <td>1.686522e+04</td>\n",
       "      <td>4.669208e+03</td>\n",
       "      <td>2.569407e+06</td>\n",
       "      <td>...</td>\n",
       "      <td>4.676057e+05</td>\n",
       "      <td>4.446239e+05</td>\n",
       "      <td>8.056219e+05</td>\n",
       "      <td>7.812966e+05</td>\n",
       "      <td>143.529939</td>\n",
       "      <td>1.213809e+05</td>\n",
       "      <td>3.573451e+04</td>\n",
       "      <td>3.123741e+05</td>\n",
       "      <td>9.219960e+04</td>\n",
       "      <td>2.279100e+05</td>\n",
       "    </tr>\n",
       "    <tr>\n",
       "      <th>std</th>\n",
       "      <td>8.234312e+06</td>\n",
       "      <td>3.893298e+05</td>\n",
       "      <td>6.428302e+04</td>\n",
       "      <td>5.699652e+05</td>\n",
       "      <td>2.359124e+05</td>\n",
       "      <td>1.514730e+06</td>\n",
       "      <td>5.770590e+05</td>\n",
       "      <td>7.512756e+05</td>\n",
       "      <td>1.879449e+05</td>\n",
       "      <td>9.610183e+06</td>\n",
       "      <td>...</td>\n",
       "      <td>4.068038e+06</td>\n",
       "      <td>4.428889e+06</td>\n",
       "      <td>4.513246e+06</td>\n",
       "      <td>6.839451e+06</td>\n",
       "      <td>9584.318507</td>\n",
       "      <td>4.720709e+06</td>\n",
       "      <td>1.614622e+06</td>\n",
       "      <td>4.318501e+06</td>\n",
       "      <td>1.635993e+06</td>\n",
       "      <td>1.811139e+06</td>\n",
       "    </tr>\n",
       "    <tr>\n",
       "      <th>min</th>\n",
       "      <td>3.000000e+04</td>\n",
       "      <td>0.000000e+00</td>\n",
       "      <td>0.000000e+00</td>\n",
       "      <td>0.000000e+00</td>\n",
       "      <td>0.000000e+00</td>\n",
       "      <td>0.000000e+00</td>\n",
       "      <td>0.000000e+00</td>\n",
       "      <td>0.000000e+00</td>\n",
       "      <td>0.000000e+00</td>\n",
       "      <td>0.000000e+00</td>\n",
       "      <td>...</td>\n",
       "      <td>0.000000e+00</td>\n",
       "      <td>0.000000e+00</td>\n",
       "      <td>0.000000e+00</td>\n",
       "      <td>0.000000e+00</td>\n",
       "      <td>0.000000</td>\n",
       "      <td>0.000000e+00</td>\n",
       "      <td>0.000000e+00</td>\n",
       "      <td>0.000000e+00</td>\n",
       "      <td>0.000000e+00</td>\n",
       "      <td>0.000000e+00</td>\n",
       "    </tr>\n",
       "    <tr>\n",
       "      <th>25%</th>\n",
       "      <td>6.000000e+05</td>\n",
       "      <td>0.000000e+00</td>\n",
       "      <td>0.000000e+00</td>\n",
       "      <td>0.000000e+00</td>\n",
       "      <td>0.000000e+00</td>\n",
       "      <td>0.000000e+00</td>\n",
       "      <td>0.000000e+00</td>\n",
       "      <td>0.000000e+00</td>\n",
       "      <td>0.000000e+00</td>\n",
       "      <td>0.000000e+00</td>\n",
       "      <td>...</td>\n",
       "      <td>0.000000e+00</td>\n",
       "      <td>0.000000e+00</td>\n",
       "      <td>0.000000e+00</td>\n",
       "      <td>0.000000e+00</td>\n",
       "      <td>0.000000</td>\n",
       "      <td>0.000000e+00</td>\n",
       "      <td>0.000000e+00</td>\n",
       "      <td>0.000000e+00</td>\n",
       "      <td>0.000000e+00</td>\n",
       "      <td>0.000000e+00</td>\n",
       "    </tr>\n",
       "    <tr>\n",
       "      <th>50%</th>\n",
       "      <td>2.260000e+06</td>\n",
       "      <td>0.000000e+00</td>\n",
       "      <td>0.000000e+00</td>\n",
       "      <td>0.000000e+00</td>\n",
       "      <td>0.000000e+00</td>\n",
       "      <td>0.000000e+00</td>\n",
       "      <td>0.000000e+00</td>\n",
       "      <td>0.000000e+00</td>\n",
       "      <td>0.000000e+00</td>\n",
       "      <td>0.000000e+00</td>\n",
       "      <td>...</td>\n",
       "      <td>0.000000e+00</td>\n",
       "      <td>0.000000e+00</td>\n",
       "      <td>0.000000e+00</td>\n",
       "      <td>0.000000e+00</td>\n",
       "      <td>0.000000</td>\n",
       "      <td>0.000000e+00</td>\n",
       "      <td>0.000000e+00</td>\n",
       "      <td>0.000000e+00</td>\n",
       "      <td>0.000000e+00</td>\n",
       "      <td>0.000000e+00</td>\n",
       "    </tr>\n",
       "    <tr>\n",
       "      <th>75%</th>\n",
       "      <td>8.000000e+06</td>\n",
       "      <td>0.000000e+00</td>\n",
       "      <td>0.000000e+00</td>\n",
       "      <td>0.000000e+00</td>\n",
       "      <td>0.000000e+00</td>\n",
       "      <td>0.000000e+00</td>\n",
       "      <td>0.000000e+00</td>\n",
       "      <td>0.000000e+00</td>\n",
       "      <td>0.000000e+00</td>\n",
       "      <td>6.000000e+05</td>\n",
       "      <td>...</td>\n",
       "      <td>0.000000e+00</td>\n",
       "      <td>0.000000e+00</td>\n",
       "      <td>0.000000e+00</td>\n",
       "      <td>0.000000e+00</td>\n",
       "      <td>0.000000</td>\n",
       "      <td>0.000000e+00</td>\n",
       "      <td>0.000000e+00</td>\n",
       "      <td>0.000000e+00</td>\n",
       "      <td>0.000000e+00</td>\n",
       "      <td>0.000000e+00</td>\n",
       "    </tr>\n",
       "    <tr>\n",
       "      <th>max</th>\n",
       "      <td>4.000000e+07</td>\n",
       "      <td>2.000000e+07</td>\n",
       "      <td>4.000000e+06</td>\n",
       "      <td>2.000000e+07</td>\n",
       "      <td>1.480000e+07</td>\n",
       "      <td>1.000000e+08</td>\n",
       "      <td>2.070800e+07</td>\n",
       "      <td>4.000000e+07</td>\n",
       "      <td>1.040000e+07</td>\n",
       "      <td>3.196120e+08</td>\n",
       "      <td>...</td>\n",
       "      <td>7.600000e+07</td>\n",
       "      <td>1.235880e+08</td>\n",
       "      <td>1.300000e+08</td>\n",
       "      <td>1.444000e+08</td>\n",
       "      <td>640000.000000</td>\n",
       "      <td>3.013120e+08</td>\n",
       "      <td>1.064200e+08</td>\n",
       "      <td>1.400000e+08</td>\n",
       "      <td>6.176800e+07</td>\n",
       "      <td>4.320000e+07</td>\n",
       "    </tr>\n",
       "  </tbody>\n",
       "</table>\n",
       "<p>8 rows × 4992 columns</p>\n",
       "</div>"
      ],
      "text/plain": [
       "             target     48df886f9     0deb4b6a8     34b15f335     a8cb14b00  \\\n",
       "count  4.459000e+03  4.459000e+03  4.459000e+03  4.459000e+03  4.459000e+03   \n",
       "mean   5.944923e+06  1.465493e+04  1.390895e+03  2.672245e+04  4.530164e+03   \n",
       "std    8.234312e+06  3.893298e+05  6.428302e+04  5.699652e+05  2.359124e+05   \n",
       "min    3.000000e+04  0.000000e+00  0.000000e+00  0.000000e+00  0.000000e+00   \n",
       "25%    6.000000e+05  0.000000e+00  0.000000e+00  0.000000e+00  0.000000e+00   \n",
       "50%    2.260000e+06  0.000000e+00  0.000000e+00  0.000000e+00  0.000000e+00   \n",
       "75%    8.000000e+06  0.000000e+00  0.000000e+00  0.000000e+00  0.000000e+00   \n",
       "max    4.000000e+07  2.000000e+07  4.000000e+06  2.000000e+07  1.480000e+07   \n",
       "\n",
       "          2f0771a37     30347e683     d08d1fbe3     6ee66e115     20aa07010  \\\n",
       "count  4.459000e+03  4.459000e+03  4.459000e+03  4.459000e+03  4.459000e+03   \n",
       "mean   2.640996e+04  3.070811e+04  1.686522e+04  4.669208e+03  2.569407e+06   \n",
       "std    1.514730e+06  5.770590e+05  7.512756e+05  1.879449e+05  9.610183e+06   \n",
       "min    0.000000e+00  0.000000e+00  0.000000e+00  0.000000e+00  0.000000e+00   \n",
       "25%    0.000000e+00  0.000000e+00  0.000000e+00  0.000000e+00  0.000000e+00   \n",
       "50%    0.000000e+00  0.000000e+00  0.000000e+00  0.000000e+00  0.000000e+00   \n",
       "75%    0.000000e+00  0.000000e+00  0.000000e+00  0.000000e+00  6.000000e+05   \n",
       "max    1.000000e+08  2.070800e+07  4.000000e+07  1.040000e+07  3.196120e+08   \n",
       "\n",
       "           ...          3ecc09859     9281abeea     8675bec0b     3a13ed79a  \\\n",
       "count      ...       4.459000e+03  4.459000e+03  4.459000e+03  4.459000e+03   \n",
       "mean       ...       4.676057e+05  4.446239e+05  8.056219e+05  7.812966e+05   \n",
       "std        ...       4.068038e+06  4.428889e+06  4.513246e+06  6.839451e+06   \n",
       "min        ...       0.000000e+00  0.000000e+00  0.000000e+00  0.000000e+00   \n",
       "25%        ...       0.000000e+00  0.000000e+00  0.000000e+00  0.000000e+00   \n",
       "50%        ...       0.000000e+00  0.000000e+00  0.000000e+00  0.000000e+00   \n",
       "75%        ...       0.000000e+00  0.000000e+00  0.000000e+00  0.000000e+00   \n",
       "max        ...       7.600000e+07  1.235880e+08  1.300000e+08  1.444000e+08   \n",
       "\n",
       "           f677d4d13     71b203550     137efaa80     fb36b89d9     7e293fbaf  \\\n",
       "count    4459.000000  4.459000e+03  4.459000e+03  4.459000e+03  4.459000e+03   \n",
       "mean      143.529939  1.213809e+05  3.573451e+04  3.123741e+05  9.219960e+04   \n",
       "std      9584.318507  4.720709e+06  1.614622e+06  4.318501e+06  1.635993e+06   \n",
       "min         0.000000  0.000000e+00  0.000000e+00  0.000000e+00  0.000000e+00   \n",
       "25%         0.000000  0.000000e+00  0.000000e+00  0.000000e+00  0.000000e+00   \n",
       "50%         0.000000  0.000000e+00  0.000000e+00  0.000000e+00  0.000000e+00   \n",
       "75%         0.000000  0.000000e+00  0.000000e+00  0.000000e+00  0.000000e+00   \n",
       "max    640000.000000  3.013120e+08  1.064200e+08  1.400000e+08  6.176800e+07   \n",
       "\n",
       "          9fc776466  \n",
       "count  4.459000e+03  \n",
       "mean   2.279100e+05  \n",
       "std    1.811139e+06  \n",
       "min    0.000000e+00  \n",
       "25%    0.000000e+00  \n",
       "50%    0.000000e+00  \n",
       "75%    0.000000e+00  \n",
       "max    4.320000e+07  \n",
       "\n",
       "[8 rows x 4992 columns]"
      ]
     },
     "execution_count": 16,
     "metadata": {},
     "output_type": "execute_result"
    }
   ],
   "source": [
    "train_df_describe = train_df.describe()\n",
    "train_df_describe"
   ]
  },
  {
   "cell_type": "markdown",
   "metadata": {
    "_uuid": "b02009cd7d5d9c1078ad82e168a812063924a745"
   },
   "source": [
    "A few things to notice:\n",
    "\n",
    "1.  Target variable ranges over 4 orders of magnitude. (factor of 10,000)\n",
    "2. Most features have 0.0 for 75% - another indication that we are probably dealing with sparse data.\n",
    "3. Most features seem to have similarly wide spread of values as the target variable. Hmm, interesting ...\n",
    "4. The standard deviation for most features seems larger than the feature mean. \n",
    "5.. There are a few features (such as ```d5308d8bc```, ```c330f1a67```) that seem to be filled with zeros. These will need to be eliminated.\n",
    "\n",
    "Now let's look at the test set. "
   ]
  },
  {
   "cell_type": "code",
   "execution_count": 17,
   "metadata": {
    "_uuid": "f82085798ab2713c38240f2cf16e148f9dfa9ffa"
   },
   "outputs": [
    {
     "data": {
      "text/html": [
       "<div>\n",
       "<style scoped>\n",
       "    .dataframe tbody tr th:only-of-type {\n",
       "        vertical-align: middle;\n",
       "    }\n",
       "\n",
       "    .dataframe tbody tr th {\n",
       "        vertical-align: top;\n",
       "    }\n",
       "\n",
       "    .dataframe thead th {\n",
       "        text-align: right;\n",
       "    }\n",
       "</style>\n",
       "<table border=\"1\" class=\"dataframe\">\n",
       "  <thead>\n",
       "    <tr style=\"text-align: right;\">\n",
       "      <th></th>\n",
       "      <th>48df886f9</th>\n",
       "      <th>0deb4b6a8</th>\n",
       "      <th>34b15f335</th>\n",
       "      <th>a8cb14b00</th>\n",
       "      <th>2f0771a37</th>\n",
       "      <th>30347e683</th>\n",
       "      <th>d08d1fbe3</th>\n",
       "      <th>6ee66e115</th>\n",
       "      <th>20aa07010</th>\n",
       "      <th>dc5a8f1d8</th>\n",
       "      <th>...</th>\n",
       "      <th>3ecc09859</th>\n",
       "      <th>9281abeea</th>\n",
       "      <th>8675bec0b</th>\n",
       "      <th>3a13ed79a</th>\n",
       "      <th>f677d4d13</th>\n",
       "      <th>71b203550</th>\n",
       "      <th>137efaa80</th>\n",
       "      <th>fb36b89d9</th>\n",
       "      <th>7e293fbaf</th>\n",
       "      <th>9fc776466</th>\n",
       "    </tr>\n",
       "  </thead>\n",
       "  <tbody>\n",
       "    <tr>\n",
       "      <th>count</th>\n",
       "      <td>4.934200e+04</td>\n",
       "      <td>4.934200e+04</td>\n",
       "      <td>4.934200e+04</td>\n",
       "      <td>4.934200e+04</td>\n",
       "      <td>4.934200e+04</td>\n",
       "      <td>4.934200e+04</td>\n",
       "      <td>4.934200e+04</td>\n",
       "      <td>4.934200e+04</td>\n",
       "      <td>4.934200e+04</td>\n",
       "      <td>4.934200e+04</td>\n",
       "      <td>...</td>\n",
       "      <td>4.934200e+04</td>\n",
       "      <td>4.934200e+04</td>\n",
       "      <td>4.934200e+04</td>\n",
       "      <td>4.934200e+04</td>\n",
       "      <td>4.934200e+04</td>\n",
       "      <td>4.934200e+04</td>\n",
       "      <td>4.934200e+04</td>\n",
       "      <td>4.934200e+04</td>\n",
       "      <td>4.934200e+04</td>\n",
       "      <td>4.934200e+04</td>\n",
       "    </tr>\n",
       "    <tr>\n",
       "      <th>mean</th>\n",
       "      <td>5.773787e+04</td>\n",
       "      <td>6.258726e+04</td>\n",
       "      <td>1.036752e+05</td>\n",
       "      <td>6.289853e+04</td>\n",
       "      <td>6.713354e+04</td>\n",
       "      <td>8.083879e+04</td>\n",
       "      <td>6.181014e+04</td>\n",
       "      <td>5.515752e+04</td>\n",
       "      <td>1.406324e+06</td>\n",
       "      <td>8.128668e+04</td>\n",
       "      <td>...</td>\n",
       "      <td>1.193910e+05</td>\n",
       "      <td>1.355955e+05</td>\n",
       "      <td>3.242217e+05</td>\n",
       "      <td>1.437856e+05</td>\n",
       "      <td>9.302367e+04</td>\n",
       "      <td>8.047145e+04</td>\n",
       "      <td>6.076865e+04</td>\n",
       "      <td>1.323210e+05</td>\n",
       "      <td>1.675766e+05</td>\n",
       "      <td>1.282487e+05</td>\n",
       "    </tr>\n",
       "    <tr>\n",
       "      <th>std</th>\n",
       "      <td>1.745182e+06</td>\n",
       "      <td>2.322787e+06</td>\n",
       "      <td>2.586951e+06</td>\n",
       "      <td>2.765941e+06</td>\n",
       "      <td>3.206124e+06</td>\n",
       "      <td>2.845031e+06</td>\n",
       "      <td>2.780137e+06</td>\n",
       "      <td>1.923517e+06</td>\n",
       "      <td>6.872366e+06</td>\n",
       "      <td>2.378938e+06</td>\n",
       "      <td>...</td>\n",
       "      <td>3.115190e+06</td>\n",
       "      <td>2.598454e+06</td>\n",
       "      <td>3.782996e+06</td>\n",
       "      <td>3.663374e+06</td>\n",
       "      <td>5.041000e+06</td>\n",
       "      <td>2.100210e+06</td>\n",
       "      <td>2.040655e+06</td>\n",
       "      <td>3.592018e+06</td>\n",
       "      <td>3.761816e+06</td>\n",
       "      <td>2.413798e+06</td>\n",
       "    </tr>\n",
       "    <tr>\n",
       "      <th>min</th>\n",
       "      <td>0.000000e+00</td>\n",
       "      <td>0.000000e+00</td>\n",
       "      <td>0.000000e+00</td>\n",
       "      <td>0.000000e+00</td>\n",
       "      <td>0.000000e+00</td>\n",
       "      <td>0.000000e+00</td>\n",
       "      <td>0.000000e+00</td>\n",
       "      <td>0.000000e+00</td>\n",
       "      <td>0.000000e+00</td>\n",
       "      <td>0.000000e+00</td>\n",
       "      <td>...</td>\n",
       "      <td>0.000000e+00</td>\n",
       "      <td>0.000000e+00</td>\n",
       "      <td>0.000000e+00</td>\n",
       "      <td>0.000000e+00</td>\n",
       "      <td>0.000000e+00</td>\n",
       "      <td>0.000000e+00</td>\n",
       "      <td>0.000000e+00</td>\n",
       "      <td>0.000000e+00</td>\n",
       "      <td>0.000000e+00</td>\n",
       "      <td>0.000000e+00</td>\n",
       "    </tr>\n",
       "    <tr>\n",
       "      <th>25%</th>\n",
       "      <td>0.000000e+00</td>\n",
       "      <td>0.000000e+00</td>\n",
       "      <td>0.000000e+00</td>\n",
       "      <td>0.000000e+00</td>\n",
       "      <td>0.000000e+00</td>\n",
       "      <td>0.000000e+00</td>\n",
       "      <td>0.000000e+00</td>\n",
       "      <td>0.000000e+00</td>\n",
       "      <td>0.000000e+00</td>\n",
       "      <td>0.000000e+00</td>\n",
       "      <td>...</td>\n",
       "      <td>0.000000e+00</td>\n",
       "      <td>0.000000e+00</td>\n",
       "      <td>0.000000e+00</td>\n",
       "      <td>0.000000e+00</td>\n",
       "      <td>0.000000e+00</td>\n",
       "      <td>0.000000e+00</td>\n",
       "      <td>0.000000e+00</td>\n",
       "      <td>0.000000e+00</td>\n",
       "      <td>0.000000e+00</td>\n",
       "      <td>0.000000e+00</td>\n",
       "    </tr>\n",
       "    <tr>\n",
       "      <th>50%</th>\n",
       "      <td>0.000000e+00</td>\n",
       "      <td>0.000000e+00</td>\n",
       "      <td>0.000000e+00</td>\n",
       "      <td>0.000000e+00</td>\n",
       "      <td>0.000000e+00</td>\n",
       "      <td>0.000000e+00</td>\n",
       "      <td>0.000000e+00</td>\n",
       "      <td>0.000000e+00</td>\n",
       "      <td>0.000000e+00</td>\n",
       "      <td>0.000000e+00</td>\n",
       "      <td>...</td>\n",
       "      <td>0.000000e+00</td>\n",
       "      <td>0.000000e+00</td>\n",
       "      <td>0.000000e+00</td>\n",
       "      <td>0.000000e+00</td>\n",
       "      <td>0.000000e+00</td>\n",
       "      <td>0.000000e+00</td>\n",
       "      <td>0.000000e+00</td>\n",
       "      <td>0.000000e+00</td>\n",
       "      <td>0.000000e+00</td>\n",
       "      <td>0.000000e+00</td>\n",
       "    </tr>\n",
       "    <tr>\n",
       "      <th>75%</th>\n",
       "      <td>0.000000e+00</td>\n",
       "      <td>0.000000e+00</td>\n",
       "      <td>0.000000e+00</td>\n",
       "      <td>0.000000e+00</td>\n",
       "      <td>0.000000e+00</td>\n",
       "      <td>0.000000e+00</td>\n",
       "      <td>0.000000e+00</td>\n",
       "      <td>0.000000e+00</td>\n",
       "      <td>0.000000e+00</td>\n",
       "      <td>0.000000e+00</td>\n",
       "      <td>...</td>\n",
       "      <td>0.000000e+00</td>\n",
       "      <td>0.000000e+00</td>\n",
       "      <td>0.000000e+00</td>\n",
       "      <td>0.000000e+00</td>\n",
       "      <td>0.000000e+00</td>\n",
       "      <td>0.000000e+00</td>\n",
       "      <td>0.000000e+00</td>\n",
       "      <td>0.000000e+00</td>\n",
       "      <td>0.000000e+00</td>\n",
       "      <td>0.000000e+00</td>\n",
       "    </tr>\n",
       "    <tr>\n",
       "      <th>max</th>\n",
       "      <td>1.504447e+08</td>\n",
       "      <td>2.283295e+08</td>\n",
       "      <td>2.758171e+08</td>\n",
       "      <td>3.972621e+08</td>\n",
       "      <td>4.667591e+08</td>\n",
       "      <td>2.852223e+08</td>\n",
       "      <td>4.863751e+08</td>\n",
       "      <td>2.043290e+08</td>\n",
       "      <td>3.435658e+08</td>\n",
       "      <td>2.310167e+08</td>\n",
       "      <td>...</td>\n",
       "      <td>5.351692e+08</td>\n",
       "      <td>1.236547e+08</td>\n",
       "      <td>3.793398e+08</td>\n",
       "      <td>4.025480e+08</td>\n",
       "      <td>9.657530e+08</td>\n",
       "      <td>1.680065e+08</td>\n",
       "      <td>2.497913e+08</td>\n",
       "      <td>3.200000e+08</td>\n",
       "      <td>3.186300e+08</td>\n",
       "      <td>2.189782e+08</td>\n",
       "    </tr>\n",
       "  </tbody>\n",
       "</table>\n",
       "<p>8 rows × 4991 columns</p>\n",
       "</div>"
      ],
      "text/plain": [
       "          48df886f9     0deb4b6a8     34b15f335     a8cb14b00     2f0771a37  \\\n",
       "count  4.934200e+04  4.934200e+04  4.934200e+04  4.934200e+04  4.934200e+04   \n",
       "mean   5.773787e+04  6.258726e+04  1.036752e+05  6.289853e+04  6.713354e+04   \n",
       "std    1.745182e+06  2.322787e+06  2.586951e+06  2.765941e+06  3.206124e+06   \n",
       "min    0.000000e+00  0.000000e+00  0.000000e+00  0.000000e+00  0.000000e+00   \n",
       "25%    0.000000e+00  0.000000e+00  0.000000e+00  0.000000e+00  0.000000e+00   \n",
       "50%    0.000000e+00  0.000000e+00  0.000000e+00  0.000000e+00  0.000000e+00   \n",
       "75%    0.000000e+00  0.000000e+00  0.000000e+00  0.000000e+00  0.000000e+00   \n",
       "max    1.504447e+08  2.283295e+08  2.758171e+08  3.972621e+08  4.667591e+08   \n",
       "\n",
       "          30347e683     d08d1fbe3     6ee66e115     20aa07010     dc5a8f1d8  \\\n",
       "count  4.934200e+04  4.934200e+04  4.934200e+04  4.934200e+04  4.934200e+04   \n",
       "mean   8.083879e+04  6.181014e+04  5.515752e+04  1.406324e+06  8.128668e+04   \n",
       "std    2.845031e+06  2.780137e+06  1.923517e+06  6.872366e+06  2.378938e+06   \n",
       "min    0.000000e+00  0.000000e+00  0.000000e+00  0.000000e+00  0.000000e+00   \n",
       "25%    0.000000e+00  0.000000e+00  0.000000e+00  0.000000e+00  0.000000e+00   \n",
       "50%    0.000000e+00  0.000000e+00  0.000000e+00  0.000000e+00  0.000000e+00   \n",
       "75%    0.000000e+00  0.000000e+00  0.000000e+00  0.000000e+00  0.000000e+00   \n",
       "max    2.852223e+08  4.863751e+08  2.043290e+08  3.435658e+08  2.310167e+08   \n",
       "\n",
       "           ...          3ecc09859     9281abeea     8675bec0b     3a13ed79a  \\\n",
       "count      ...       4.934200e+04  4.934200e+04  4.934200e+04  4.934200e+04   \n",
       "mean       ...       1.193910e+05  1.355955e+05  3.242217e+05  1.437856e+05   \n",
       "std        ...       3.115190e+06  2.598454e+06  3.782996e+06  3.663374e+06   \n",
       "min        ...       0.000000e+00  0.000000e+00  0.000000e+00  0.000000e+00   \n",
       "25%        ...       0.000000e+00  0.000000e+00  0.000000e+00  0.000000e+00   \n",
       "50%        ...       0.000000e+00  0.000000e+00  0.000000e+00  0.000000e+00   \n",
       "75%        ...       0.000000e+00  0.000000e+00  0.000000e+00  0.000000e+00   \n",
       "max        ...       5.351692e+08  1.236547e+08  3.793398e+08  4.025480e+08   \n",
       "\n",
       "          f677d4d13     71b203550     137efaa80     fb36b89d9     7e293fbaf  \\\n",
       "count  4.934200e+04  4.934200e+04  4.934200e+04  4.934200e+04  4.934200e+04   \n",
       "mean   9.302367e+04  8.047145e+04  6.076865e+04  1.323210e+05  1.675766e+05   \n",
       "std    5.041000e+06  2.100210e+06  2.040655e+06  3.592018e+06  3.761816e+06   \n",
       "min    0.000000e+00  0.000000e+00  0.000000e+00  0.000000e+00  0.000000e+00   \n",
       "25%    0.000000e+00  0.000000e+00  0.000000e+00  0.000000e+00  0.000000e+00   \n",
       "50%    0.000000e+00  0.000000e+00  0.000000e+00  0.000000e+00  0.000000e+00   \n",
       "75%    0.000000e+00  0.000000e+00  0.000000e+00  0.000000e+00  0.000000e+00   \n",
       "max    9.657530e+08  1.680065e+08  2.497913e+08  3.200000e+08  3.186300e+08   \n",
       "\n",
       "          9fc776466  \n",
       "count  4.934200e+04  \n",
       "mean   1.282487e+05  \n",
       "std    2.413798e+06  \n",
       "min    0.000000e+00  \n",
       "25%    0.000000e+00  \n",
       "50%    0.000000e+00  \n",
       "75%    0.000000e+00  \n",
       "max    2.189782e+08  \n",
       "\n",
       "[8 rows x 4991 columns]"
      ]
     },
     "execution_count": 17,
     "metadata": {},
     "output_type": "execute_result"
    }
   ],
   "source": [
    "test_df_describe = test_df.describe()\n",
    "test_df_describe"
   ]
  },
  {
   "cell_type": "markdown",
   "metadata": {
    "_uuid": "607ba0f31aa2cbed8de46bc28f331bc43d79d2ae"
   },
   "source": [
    "We see a similar distribution of various statistical aggregates, but by no means the same: seems like there soem substantial distribution shifts between the train and test sets. This will probably be another major concern when it comes to feature selection/engineering. \n",
    "\n",
    "Now let's do some plotting. We'll take a look at, naturally, the ```target``` variable. First, let's make a histogram of its raw value."
   ]
  },
  {
   "cell_type": "code",
   "execution_count": 18,
   "metadata": {
    "_uuid": "3af2b51198404ebccd9ff2294c887e067b1eec16"
   },
   "outputs": [
    {
     "data": {
      "image/png": "[encoded data removed]",
      "text/plain": [
       "<Figure size 864x360 with 1 Axes>"
      ]
     },
     "metadata": {},
     "output_type": "display_data"
    }
   ],
   "source": [
    "plt.figure(figsize=(12, 5))\n",
    "plt.hist(train_df.target.values, bins=100)\n",
    "plt.title('Histogram target counts')\n",
    "plt.xlabel('Count')\n",
    "plt.ylabel('Target')\n",
    "plt.show()"
   ]
  },
  {
   "cell_type": "markdown",
   "metadata": {
    "_uuid": "3f53f3243a4b302458b28c7dbe820c948d82845c"
   },
   "source": [
    "This is a highly skewed distribution, so let's try to re-plot it with with log transform of the target."
   ]
  },
  {
   "cell_type": "code",
   "execution_count": 19,
   "metadata": {
    "_uuid": "b0ad44e907a8d1f21c22b9ab43b5886845a21384"
   },
   "outputs": [
    {
     "data": {
      "image/png": "[encoded data removed]",
      "text/plain": [
       "<Figure size 864x360 with 1 Axes>"
      ]
     },
     "metadata": {},
     "output_type": "display_data"
    }
   ],
   "source": [
    "plt.figure(figsize=(12, 5))\n",
    "plt.hist(np.log(1+train_df.target.values), bins=100)\n",
    "plt.title('Histogram target counts')\n",
    "plt.xlabel('Count')\n",
    "plt.ylabel('Log 1+Target')\n",
    "plt.show()"
   ]
  },
  {
   "cell_type": "markdown",
   "metadata": {
    "_uuid": "6c451d9726f8aa81d15ab4901bb8310c3bc021ad"
   },
   "source": [
    "As expected, this distribution looks much more, ahem, normal. This is probably one of the main reasons why the metric that we are trying to optimize for this competition is RMSLE - root mean square logarithmic error.\n",
    "\n",
    "Another way of looking at the same distribution is with the help of violinplot."
   ]
  },
  {
   "cell_type": "code",
   "execution_count": 20,
   "metadata": {
    "_uuid": "f51aad6943161de471d2ab867cf5c3914a902be5"
   },
   "outputs": [
    {
     "data": {
      "image/png": "[encoded data removed]",
      "text/plain": [
       "<Figure size 432x288 with 1 Axes>"
      ]
     },
     "metadata": {},
     "output_type": "display_data"
    }
   ],
   "source": [
    "sns.set_style(\"whitegrid\")\n",
    "ax = sns.violinplot(x=np.log(1+train_df.target.values))\n",
    "plt.show()"
   ]
  },
  {
   "cell_type": "markdown",
   "metadata": {
    "_uuid": "dfca1cceab212372234861e37f2e6da88df1e2ca"
   },
   "source": [
    "That's ... revealing. And it looks like a fairly nice distribution, albeit still fairly asymetrical.\n",
    "\n",
    "Let's take a look at the statistics of the Log(1+target)"
   ]
  },
  {
   "cell_type": "code",
   "execution_count": 21,
   "metadata": {
    "_uuid": "b02761bf65df94a8ad5755bc69a621f1c556ff53"
   },
   "outputs": [
    {
     "name": "stderr",
     "output_type": "stream",
     "text": [
      "/Users/keisuke/.pyenv/versions/3.6.1/lib/python3.6/site-packages/ipykernel_launcher.py:2: SettingWithCopyWarning: \n",
      "A value is trying to be set on a copy of a slice from a DataFrame.\n",
      "Try using .loc[row_indexer,col_indexer] = value instead\n",
      "\n",
      "See the caveats in the documentation: http://pandas.pydata.org/pandas-docs/stable/indexing.html#indexing-view-versus-copy\n",
      "  \n"
     ]
    },
    {
     "data": {
      "text/html": [
       "<div>\n",
       "<style scoped>\n",
       "    .dataframe tbody tr th:only-of-type {\n",
       "        vertical-align: middle;\n",
       "    }\n",
       "\n",
       "    .dataframe tbody tr th {\n",
       "        vertical-align: top;\n",
       "    }\n",
       "\n",
       "    .dataframe thead th {\n",
       "        text-align: right;\n",
       "    }\n",
       "</style>\n",
       "<table border=\"1\" class=\"dataframe\">\n",
       "  <thead>\n",
       "    <tr style=\"text-align: right;\">\n",
       "      <th></th>\n",
       "      <th>target</th>\n",
       "    </tr>\n",
       "  </thead>\n",
       "  <tbody>\n",
       "    <tr>\n",
       "      <th>count</th>\n",
       "      <td>4459.000000</td>\n",
       "    </tr>\n",
       "    <tr>\n",
       "      <th>mean</th>\n",
       "      <td>14.490239</td>\n",
       "    </tr>\n",
       "    <tr>\n",
       "      <th>std</th>\n",
       "      <td>1.750947</td>\n",
       "    </tr>\n",
       "    <tr>\n",
       "      <th>min</th>\n",
       "      <td>10.308986</td>\n",
       "    </tr>\n",
       "    <tr>\n",
       "      <th>25%</th>\n",
       "      <td>13.304687</td>\n",
       "    </tr>\n",
       "    <tr>\n",
       "      <th>50%</th>\n",
       "      <td>14.630876</td>\n",
       "    </tr>\n",
       "    <tr>\n",
       "      <th>75%</th>\n",
       "      <td>15.894952</td>\n",
       "    </tr>\n",
       "    <tr>\n",
       "      <th>max</th>\n",
       "      <td>17.504390</td>\n",
       "    </tr>\n",
       "  </tbody>\n",
       "</table>\n",
       "</div>"
      ],
      "text/plain": [
       "            target\n",
       "count  4459.000000\n",
       "mean     14.490239\n",
       "std       1.750947\n",
       "min      10.308986\n",
       "25%      13.304687\n",
       "50%      14.630876\n",
       "75%      15.894952\n",
       "max      17.504390"
      ]
     },
     "execution_count": 21,
     "metadata": {},
     "output_type": "execute_result"
    }
   ],
   "source": [
    "train_log_target = train_df[['target']]\n",
    "train_log_target['target'] = np.log(1+train_df['target'].values)\n",
    "train_log_target.describe()"
   ]
  },
  {
   "cell_type": "markdown",
   "metadata": {
    "_uuid": "cd47edd4f27b5cceea12fb8cb6f11831bc77e2df"
   },
   "source": [
    "We see that the statistical properties of teh Log(1+Target) distribution are much more amenable.\n",
    "\n",
    "Now let's take a look at columns with constant value."
   ]
  },
  {
   "cell_type": "code",
   "execution_count": 22,
   "metadata": {
    "_uuid": "4e51d35f052a523c63110d09a2768c10f93e2656"
   },
   "outputs": [],
   "source": [
    "constant_train = train_df.loc[:, (train_df == train_df.iloc[0]).all()].columns.tolist()\n",
    "constant_test = test_df.loc[:, (test_df == test_df.iloc[0]).all()].columns.tolist()"
   ]
  },
  {
   "cell_type": "code",
   "execution_count": 29,
   "metadata": {
    "_uuid": "57cfb56cffc2ec36a2af706e85516c228894a03d"
   },
   "outputs": [
    {
     "name": "stdout",
     "output_type": "stream",
     "text": [
      "Number of constant columns in the train set: 256\n",
      "Number of constant columns in the test set: 0\n"
     ]
    }
   ],
   "source": [
    "print('Number of constant columns in the train set:', len(constant_train))\n",
    "print('Number of constant columns in the test set:', len(constant_test))"
   ]
  },
  {
   "cell_type": "markdown",
   "metadata": {
    "_uuid": "60f162c34418f81f36d4bf234807cec8d1bdb963"
   },
   "source": [
    "So this is interesting: there are 256 constant columns in the train set, but none in the test set. These constant columns are thus most likely an artifact of the way that the train and test sets were constructed, and not necessarily irrelevant in their own right. This is yet another byproduct of having a very small dataset. For most problems it would be useful to take a look at the description of these columns, but in this competition they are anonymized, and thus would not yield any useful information. \n",
    "\n",
    "So let's subset the colums that we'd use to just those that are not constant."
   ]
  },
  {
   "cell_type": "code",
   "execution_count": 30,
   "metadata": {
    "_uuid": "86f6f85638aa465799c7353d634e8c55c86e3c98"
   },
   "outputs": [
    {
     "data": {
      "text/plain": [
       "4735"
      ]
     },
     "execution_count": 30,
     "metadata": {},
     "output_type": "execute_result"
    }
   ],
   "source": [
    "columns_to_use = test_df.columns.tolist()\n",
    "del columns_to_use[0] # Remove 'ID'\n",
    "columns_to_use = [x for x in columns_to_use if x not in constant_train] #Remove all 0 columns\n",
    "len(columns_to_use)"
   ]
  },
  {
   "cell_type": "markdown",
   "metadata": {
    "_uuid": "ba736a41f4bed80f6802106021eae603fba67ea0"
   },
   "source": [
    "So we have the total of 4735 columns to work with. However, as mentioned earlier, most of these columns seem to be filled predominatly with zeros. Let's try to get a better sense of this data."
   ]
  },
  {
   "cell_type": "code",
   "execution_count": 31,
   "metadata": {
    "_uuid": "6802c2048227ddf3f9d24e9be539826bf2cfc838"
   },
   "outputs": [
    {
     "data": {
      "text/plain": [
       "DescribeResult(nobs=21113365, minmax=(0.0, 4652000000.0), mean=293258.52559507504, variance=30028281996743.3, skewness=311.8700933184134, kurtosis=234173.65118899167)"
      ]
     },
     "execution_count": 31,
     "metadata": {},
     "output_type": "execute_result"
    }
   ],
   "source": [
    "describe(train_df[columns_to_use].values, axis=None)"
   ]
  },
  {
   "cell_type": "markdown",
   "metadata": {
    "_uuid": "290b63eb54b58b0b73c045d062fdab9ef79e38f2"
   },
   "source": [
    "If we treat all the train matrix values as if they belonged to a single row vector, we see a huge amount of varience, far exceeding the similar variance for the target variable.\n",
    "\n",
    "Now let's plot it to see how diverse the numerical values are."
   ]
  },
  {
   "cell_type": "code",
   "execution_count": 32,
   "metadata": {
    "_uuid": "7f1b08bb79b018272896aa70e921439234d4834b"
   },
   "outputs": [
    {
     "data": {
      "image/png": "[encoded data removed]",
      "text/plain": [
       "<Figure size 864x360 with 1 Axes>"
      ]
     },
     "metadata": {},
     "output_type": "display_data"
    }
   ],
   "source": [
    "plt.figure(figsize=(12, 5))\n",
    "plt.hist(train_df[columns_to_use].values.flatten(), bins=50)\n",
    "plt.title('Histogram all train counts')\n",
    "plt.xlabel('Count')\n",
    "plt.ylabel('Value')\n",
    "plt.show()"
   ]
  },
  {
   "cell_type": "markdown",
   "metadata": {
    "_uuid": "04525960ccf87b1dd67575a9e721a8f2f753cfc2"
   },
   "source": [
    "Wow, not very diverse at all! Most of the values are heavily concentrated around 0. \n",
    "\n",
    "Maybe if we used the log plot things would be better."
   ]
  },
  {
   "cell_type": "code",
   "execution_count": 34,
   "metadata": {
    "_uuid": "77c5ca7ae39bad5ef6fcf38cca524dcc859bfa64"
   },
   "outputs": [
    {
     "data": {
      "image/png": "[encoded data removed]",
      "text/plain": [
       "<Figure size 864x360 with 1 Axes>"
      ]
     },
     "metadata": {},
     "output_type": "display_data"
    }
   ],
   "source": [
    "plt.figure(figsize=(12, 5))\n",
    "plt.hist(np.log(train_df[columns_to_use].values.flatten()+1), bins=50)\n",
    "plt.title('Log Histogram all train counts')\n",
    "plt.xlabel('Count')\n",
    "plt.ylabel('Log value')\n",
    "plt.show()"
   ]
  },
  {
   "cell_type": "markdown",
   "metadata": {
    "_uuid": "d9b92f6c8d689ae1519f74413256296d94e4b629"
   },
   "source": [
    "Only marginal improvement - there is a verly small bump close to 15.\n",
    "\n",
    "Can the violin plot help?"
   ]
  },
  {
   "cell_type": "code",
   "execution_count": 35,
   "metadata": {
    "_uuid": "cd9a0dc2c0f2fb417435aa773f1eabfb9cab6fe7"
   },
   "outputs": [
    {
     "data": {
      "image/png": "[encoded data removed]",
      "text/plain": [
       "<Figure size 432x288 with 1 Axes>"
      ]
     },
     "metadata": {},
     "output_type": "display_data"
    }
   ],
   "source": [
    "sns.set_style(\"whitegrid\")\n",
    "ax = sns.violinplot(x=np.log(train_df[columns_to_use].values.flatten()+1))\n",
    "plt.show()"
   ]
  },
  {
   "cell_type": "markdown",
   "metadata": {
    "_uuid": "0e65aa1adfdaf54cd01e30eb0caeb5baee89c598"
   },
   "source": [
    "Not really - the plot looks nicer, but the overall shape is pretty much the same. \n",
    "\n",
    "OK, let's take a look at the distribution of non-zero values."
   ]
  },
  {
   "cell_type": "code",
   "execution_count": 37,
   "metadata": {
    "scrolled": true
   },
   "outputs": [
    {
     "data": {
      "text/plain": [
       "array([14.07787559, 15.28184786, 16.39572746, ..., 15.96727288,\n",
       "       16.70588237, 16.11809575])"
      ]
     },
     "execution_count": 37,
     "metadata": {},
     "output_type": "execute_result"
    }
   ],
   "source": [
    "train_nz"
   ]
  },
  {
   "cell_type": "code",
   "execution_count": 41,
   "metadata": {},
   "outputs": [
    {
     "data": {
      "text/plain": [
       "(array([   0,    0,    0, ..., 4458, 4458, 4458]),\n",
       " array([  34,  103,  113, ..., 4647, 4673, 4686]))"
      ]
     },
     "execution_count": 41,
     "metadata": {},
     "output_type": "execute_result"
    }
   ],
   "source": [
    "kei = np.nonzero(train_df[columns_to_use].values)"
   ]
  },
  {
   "cell_type": "code",
   "execution_count": 50,
   "metadata": {
    "scrolled": true
   },
   "outputs": [
    {
     "ename": "NameError",
     "evalue": "name 'train' is not defined",
     "output_type": "error",
     "traceback": [
      "\u001b[0;31m---------------------------------------------------------------------------\u001b[0m",
      "\u001b[0;31mNameError\u001b[0m                                 Traceback (most recent call last)",
      "\u001b[0;32m<ipython-input-50-567036f4b958>\u001b[0m in \u001b[0;36m<module>\u001b[0;34m()\u001b[0m\n\u001b[0;32m----> 1\u001b[0;31m \u001b[0mtrain\u001b[0m\u001b[0;34m[\u001b[0m\u001b[0mkei\u001b[0m\u001b[0;34m]\u001b[0m\u001b[0;34m\u001b[0m\u001b[0m\n\u001b[0m",
      "\u001b[0;31mNameError\u001b[0m: name 'train' is not defined"
     ]
    }
   ],
   "source": [
    "train[kei]"
   ]
  },
  {
   "cell_type": "code",
   "execution_count": 36,
   "metadata": {
    "_uuid": "51afadb9102a0f83b118f501283815a1c1507b10"
   },
   "outputs": [
    {
     "data": {
      "image/png": "[encoded data removed]",
      "text/plain": [
       "<Figure size 864x360 with 1 Axes>"
      ]
     },
     "metadata": {},
     "output_type": "display_data"
    }
   ],
   "source": [
    "train_nz = np.log(train_df[columns_to_use].values.flatten()+1)\n",
    "train_nz = train_nz[np.nonzero(train_nz)]\n",
    "plt.figure(figsize=(12, 5))\n",
    "plt.hist(train_nz, bins=50)\n",
    "plt.title('Log Histogram nonzero train counts')\n",
    "plt.xlabel('Count')\n",
    "plt.ylabel('Log value')\n",
    "plt.show()"
   ]
  },
  {
   "cell_type": "code",
   "execution_count": 59,
   "metadata": {
    "_uuid": "345d146725ea4ed5b0b3c72ea3d1ad4202d9d3be"
   },
   "outputs": [
    {
     "data": {
      "image/png": "[encoded data removed]",
      "text/plain": [
       "<Figure size 432x288 with 1 Axes>"
      ]
     },
     "metadata": {},
     "output_type": "display_data"
    }
   ],
   "source": [
    "sns.set_style(\"whitegrid\")\n",
    "ax = sns.violinplot(x=train_nz)\n",
    "plt.show()"
   ]
  },
  {
   "cell_type": "code",
   "execution_count": 60,
   "metadata": {
    "_uuid": "1df44618757f67c08f52dee55f493cdabc20699d"
   },
   "outputs": [
    {
     "data": {
      "text/plain": [
       "DescribeResult(nobs=700109, minmax=(3.970291913552122, 22.260563071817792), mean=14.316623220268225, variance=4.4093394490175815, skewness=-0.4469438901987079, kurtosis=0.2590730075122565)"
      ]
     },
     "execution_count": 60,
     "metadata": {},
     "output_type": "execute_result"
    }
   ],
   "source": [
    "describe(train_nz)"
   ]
  },
  {
   "cell_type": "markdown",
   "metadata": {
    "_uuid": "1a1b840fcc8aa6ea7d230d7dbddf77a57b5051d3"
   },
   "source": [
    "OK, that's much more interesting. \n",
    "\n",
    "Let's do the same thing with the test data."
   ]
  },
  {
   "cell_type": "code",
   "execution_count": 61,
   "metadata": {
    "_uuid": "c60d61837eb6c6bb312fd836b78a49e4625d0f7a"
   },
   "outputs": [
    {
     "data": {
      "image/png": "[encoded data removed]",
      "text/plain": [
       "<Figure size 864x360 with 1 Axes>"
      ]
     },
     "metadata": {},
     "output_type": "display_data"
    }
   ],
   "source": [
    "test_nz = np.log(test_df[columns_to_use].values.flatten()+1)\n",
    "test_nz = test_nz[np.nonzero(test_nz)]\n",
    "plt.figure(figsize=(12, 5))\n",
    "plt.hist(test_nz, bins=50)\n",
    "plt.title('Log Histogram nonzero test counts')\n",
    "plt.xlabel('Count')\n",
    "plt.ylabel('Log value')\n",
    "plt.show()"
   ]
  },
  {
   "cell_type": "code",
   "execution_count": 62,
   "metadata": {
    "_uuid": "c4d863ea1e9e68baeddfc4489229eb94e7e0146a"
   },
   "outputs": [
    {
     "data": {
      "image/png": "[encoded data removed]",
      "text/plain": [
       "<Figure size 432x288 with 1 Axes>"
      ]
     },
     "metadata": {},
     "output_type": "display_data"
    }
   ],
   "source": [
    "sns.set_style(\"whitegrid\")\n",
    "ax = sns.violinplot(x=test_nz)\n",
    "plt.show()"
   ]
  },
  {
   "cell_type": "code",
   "execution_count": 63,
   "metadata": {
    "_uuid": "637771c7fa255c4774129436ec14e9ca64d0a129"
   },
   "outputs": [
    {
     "data": {
      "text/plain": [
       "DescribeResult(nobs=3402015, minmax=(2.0086157469070973, 22.503422149195277), mean=14.412378376537879, variance=5.547651949802501, skewness=-0.6259111391462195, kurtosis=0.3990742424795699)"
      ]
     },
     "execution_count": 63,
     "metadata": {},
     "output_type": "execute_result"
    }
   ],
   "source": [
    "describe(test_nz)"
   ]
  },
  {
   "cell_type": "markdown",
   "metadata": {
    "_uuid": "18662f10c3848ddd528ec999ed0c0edc7b3907bb"
   },
   "source": [
    "Again, we see that these distributions look similar, but they are definitely not the same. \n",
    "\n",
    "Now let's take a closer look at the shape and content of the train data. We want to get a better numerical grasp of the true extent of zeros."
   ]
  },
  {
   "cell_type": "code",
   "execution_count": 67,
   "metadata": {
    "_uuid": "9e5bd84c83fc7e0088845525a96aff4296a7a459"
   },
   "outputs": [
    {
     "data": {
      "text/plain": [
       "(21113365,)"
      ]
     },
     "execution_count": 67,
     "metadata": {},
     "output_type": "execute_result"
    }
   ],
   "source": [
    "train_df[columns_to_use].values.flatten().shape"
   ]
  },
  {
   "cell_type": "code",
   "execution_count": 65,
   "metadata": {
    "_uuid": "32ac9171b22fdee9a516d60c5f835a030c0a699b"
   },
   "outputs": [
    {
     "data": {
      "text/plain": [
       "0.9668404823200849"
      ]
     },
     "execution_count": 65,
     "metadata": {},
     "output_type": "execute_result"
    }
   ],
   "source": [
    "((train_df[columns_to_use].values.flatten())==0).mean()"
   ]
  },
  {
   "cell_type": "markdown",
   "metadata": {
    "_uuid": "e08287b75a1dab72e340acc6df8cd55b3118db9f"
   },
   "source": [
    "So as we suspected, almost 97% of all values in the train dataframe are zeros. That looks pretty sparse to me, but let's see how much variation is there between different columns."
   ]
  },
  {
   "cell_type": "code",
   "execution_count": 70,
   "metadata": {
    "_uuid": "fb6ddba0e89053d0b079ba352a7f95c1326a9e2f",
    "scrolled": true
   },
   "outputs": [
    {
     "data": {
      "text/html": [
       "<div>\n",
       "<style scoped>\n",
       "    .dataframe tbody tr th:only-of-type {\n",
       "        vertical-align: middle;\n",
       "    }\n",
       "\n",
       "    .dataframe tbody tr th {\n",
       "        vertical-align: top;\n",
       "    }\n",
       "\n",
       "    .dataframe thead th {\n",
       "        text-align: right;\n",
       "    }\n",
       "</style>\n",
       "<table border=\"1\" class=\"dataframe\">\n",
       "  <thead>\n",
       "    <tr style=\"text-align: right;\">\n",
       "      <th></th>\n",
       "      <th>Percentile</th>\n",
       "      <th>Column</th>\n",
       "    </tr>\n",
       "  </thead>\n",
       "  <tbody>\n",
       "    <tr>\n",
       "      <th>0</th>\n",
       "      <td>0.991254</td>\n",
       "      <td>48df886f9</td>\n",
       "    </tr>\n",
       "    <tr>\n",
       "      <th>1</th>\n",
       "      <td>0.999103</td>\n",
       "      <td>0deb4b6a8</td>\n",
       "    </tr>\n",
       "    <tr>\n",
       "      <th>2</th>\n",
       "      <td>0.992599</td>\n",
       "      <td>34b15f335</td>\n",
       "    </tr>\n",
       "    <tr>\n",
       "      <th>3</th>\n",
       "      <td>0.999551</td>\n",
       "      <td>a8cb14b00</td>\n",
       "    </tr>\n",
       "    <tr>\n",
       "      <th>4</th>\n",
       "      <td>0.998879</td>\n",
       "      <td>2f0771a37</td>\n",
       "    </tr>\n",
       "  </tbody>\n",
       "</table>\n",
       "</div>"
      ],
      "text/plain": [
       "   Percentile     Column\n",
       "0    0.991254  48df886f9\n",
       "1    0.999103  0deb4b6a8\n",
       "2    0.992599  34b15f335\n",
       "3    0.999551  a8cb14b00\n",
       "4    0.998879  2f0771a37"
      ]
     },
     "execution_count": 70,
     "metadata": {},
     "output_type": "execute_result"
    }
   ],
   "source": [
    "train_zeros = pd.DataFrame({'Percentile':((train_df[columns_to_use].values)==0).mean(axis=0),\n",
    "                           'Column' : columns_to_use})\n",
    "train_zeros.head()"
   ]
  },
  {
   "cell_type": "code",
   "execution_count": 77,
   "metadata": {
    "_uuid": "46e189cd4d7843ef6321ee661bf939b1785d6c61"
   },
   "outputs": [
    {
     "data": {
      "text/plain": [
       "DescribeResult(nobs=4735, minmax=(0.6490244449428123, 0.999775734469612), mean=0.9668404823200848, variance=0.002364379746472081, skewness=-3.0652241198889913, kurtosis=12.91866341515125)"
      ]
     },
     "execution_count": 77,
     "metadata": {},
     "output_type": "execute_result"
    }
   ],
   "source": [
    "describe(train_zeros.Percentile.values)"
   ]
  },
  {
   "cell_type": "markdown",
   "metadata": {
    "_uuid": "3f52eceace2727ec15a6d4f9407d4f1cdef7cfaf"
   },
   "source": [
    "So it seems that the vast majority of columns have 95+ percent of zeros in them. Let's see how would that look on a plot."
   ]
  },
  {
   "cell_type": "code",
   "execution_count": 78,
   "metadata": {
    "_uuid": "5591ebb27983fafdf44195b94ec511b25c853fea"
   },
   "outputs": [
    {
     "data": {
      "image/png": "[encoded data removed]",
      "text/plain": [
       "<Figure size 864x360 with 1 Axes>"
      ]
     },
     "metadata": {},
     "output_type": "display_data"
    }
   ],
   "source": [
    "plt.figure(figsize=(12, 5))\n",
    "plt.hist(train_zeros.Percentile.values, bins=50)\n",
    "plt.title('Histogram percentage zeros train counts')\n",
    "plt.xlabel('Count')\n",
    "plt.ylabel('Value')\n",
    "plt.show()"
   ]
  },
  {
   "cell_type": "code",
   "execution_count": 79,
   "metadata": {
    "_uuid": "f550f099d87c605b39bfb318ddcd8ab79c333cc8"
   },
   "outputs": [
    {
     "data": {
      "text/plain": [
       "DescribeResult(nobs=21113365, minmax=(0.0, 22.260563071817792), mean=0.4747323207891672, variance=6.717404669554313, skewness=5.38608469493144, kurtosis=27.58080786335338)"
      ]
     },
     "execution_count": 79,
     "metadata": {},
     "output_type": "execute_result"
    }
   ],
   "source": [
    "describe(np.log(train_df[columns_to_use].values+1), axis=None)"
   ]
  },
  {
   "cell_type": "code",
   "execution_count": 80,
   "metadata": {
    "_uuid": "3fc8a6673c4b51c8d901fde3002f4b8574546fdd"
   },
   "outputs": [
    {
     "data": {
      "text/plain": [
       "DescribeResult(nobs=233634370, minmax=(0.0, 5930783399.23079), mean=168464.1181982833, variance=19686658498586.707, skewness=297.586650843169, kurtosis=260104.68553477703)"
      ]
     },
     "execution_count": 80,
     "metadata": {},
     "output_type": "execute_result"
    }
   ],
   "source": [
    "describe(test_df[columns_to_use].values, axis=None)"
   ]
  },
  {
   "cell_type": "code",
   "execution_count": 81,
   "metadata": {
    "_uuid": "9e0f39c628fd1844f737458e83afcd1a084e03b7"
   },
   "outputs": [
    {
     "data": {
      "text/plain": [
       "DescribeResult(nobs=233634370, minmax=(0.0, 22.503422149195277), mean=0.20986264744633906, variance=3.0613584426687614, skewness=8.406607428136079, kurtosis=70.08947561815806)"
      ]
     },
     "execution_count": 81,
     "metadata": {},
     "output_type": "execute_result"
    }
   ],
   "source": [
    "describe(np.log(test_df[columns_to_use].values+1), axis=None)"
   ]
  },
  {
   "cell_type": "code",
   "execution_count": 82,
   "metadata": {
    "_uuid": "16c9ee191a40019ad759e2c9e6ed856445b0f68a",
    "scrolled": true
   },
   "outputs": [
    {
     "data": {
      "text/html": [
       "<div>\n",
       "<style scoped>\n",
       "    .dataframe tbody tr th:only-of-type {\n",
       "        vertical-align: middle;\n",
       "    }\n",
       "\n",
       "    .dataframe tbody tr th {\n",
       "        vertical-align: top;\n",
       "    }\n",
       "\n",
       "    .dataframe thead th {\n",
       "        text-align: right;\n",
       "    }\n",
       "</style>\n",
       "<table border=\"1\" class=\"dataframe\">\n",
       "  <thead>\n",
       "    <tr style=\"text-align: right;\">\n",
       "      <th></th>\n",
       "      <th>Percentile</th>\n",
       "      <th>Column</th>\n",
       "    </tr>\n",
       "  </thead>\n",
       "  <tbody>\n",
       "    <tr>\n",
       "      <th>0</th>\n",
       "      <td>0.994204</td>\n",
       "      <td>48df886f9</td>\n",
       "    </tr>\n",
       "    <tr>\n",
       "      <th>1</th>\n",
       "      <td>0.996028</td>\n",
       "      <td>0deb4b6a8</td>\n",
       "    </tr>\n",
       "    <tr>\n",
       "      <th>2</th>\n",
       "      <td>0.989218</td>\n",
       "      <td>34b15f335</td>\n",
       "    </tr>\n",
       "    <tr>\n",
       "      <th>3</th>\n",
       "      <td>0.995866</td>\n",
       "      <td>a8cb14b00</td>\n",
       "    </tr>\n",
       "    <tr>\n",
       "      <th>4</th>\n",
       "      <td>0.996352</td>\n",
       "      <td>2f0771a37</td>\n",
       "    </tr>\n",
       "  </tbody>\n",
       "</table>\n",
       "</div>"
      ],
      "text/plain": [
       "   Percentile     Column\n",
       "0    0.994204  48df886f9\n",
       "1    0.996028  0deb4b6a8\n",
       "2    0.989218  34b15f335\n",
       "3    0.995866  a8cb14b00\n",
       "4    0.996352  2f0771a37"
      ]
     },
     "execution_count": 82,
     "metadata": {},
     "output_type": "execute_result"
    }
   ],
   "source": [
    "test_zeros = pd.DataFrame({'Percentile':(np.log(1+test_df[columns_to_use].values)==0).mean(axis=0),\n",
    "                           'Column' : columns_to_use})\n",
    "test_zeros.head()"
   ]
  },
  {
   "cell_type": "code",
   "execution_count": 83,
   "metadata": {
    "_uuid": "1b4a9611dce80572534d03dc34a493f49a507ac2"
   },
   "outputs": [
    {
     "data": {
      "text/plain": [
       "DescribeResult(nobs=4735, minmax=(0.8368327185764664, 0.9966965262859228), mean=0.9854387220510409, variance=0.0003225586648390302, skewness=-3.8759625696317483, kurtosis=20.273655656625518)"
      ]
     },
     "execution_count": 83,
     "metadata": {},
     "output_type": "execute_result"
    }
   ],
   "source": [
    "describe(test_zeros.Percentile.values)"
   ]
  },
  {
   "cell_type": "markdown",
   "metadata": {
    "_uuid": "2cc60c600724fe1b40cc2cac7f92f70e92be2d01"
   },
   "source": [
    "OK, let's try to do some modeling. We'll start with a simple LighGBM regression, and see if that yields any results. First, let's set our target variable to be the log of 1 + target."
   ]
  },
  {
   "cell_type": "code",
   "execution_count": 91,
   "metadata": {
    "_uuid": "0a721f3f2a2f3cdd43be57bfc9ef6f478a6bdb24"
   },
   "outputs": [
    {
     "data": {
      "text/plain": [
       "(4459,)"
      ]
     },
     "execution_count": 91,
     "metadata": {},
     "output_type": "execute_result"
    }
   ],
   "source": [
    "y = np.log(1+train_df.target.values)\n",
    "y.shape"
   ]
  },
  {
   "cell_type": "code",
   "execution_count": 92,
   "metadata": {
    "_uuid": "6e0c0eaf845202260680e9f9be07a5bc4da2bec1"
   },
   "outputs": [
    {
     "data": {
      "text/plain": [
       "array([17.45309674, 13.3046866 , 16.11809575, ..., 14.84513033,\n",
       "       16.11809575, 16.81124288])"
      ]
     },
     "execution_count": 92,
     "metadata": {},
     "output_type": "execute_result"
    }
   ],
   "source": [
    "y"
   ]
  },
  {
   "cell_type": "code",
   "execution_count": 93,
   "metadata": {
    "_uuid": "5a439fd6c7e20de1d61ba4da4b701229fd96ebb2"
   },
   "outputs": [],
   "source": [
    "train = lgb.Dataset(train_df[columns_to_use],y ,feature_name = \"auto\")"
   ]
  },
  {
   "cell_type": "code",
   "execution_count": 95,
   "metadata": {
    "_uuid": "e7902addc1b7d349074a82e94692fdc25cb462af"
   },
   "outputs": [],
   "source": [
    "params = {'boosting_type': 'gbdt', \n",
    "          'objective': 'regression', \n",
    "          'metric': 'rmse', \n",
    "          'learning_rate': 0.01, \n",
    "          'num_leaves': 100, \n",
    "          'feature_fraction': 0.4, \n",
    "          'bagging_fraction': 0.6, \n",
    "          'max_depth': 5, \n",
    "          'min_child_weight': 10}\n",
    "\n",
    "clf = lgb.train(params,\n",
    "        train,\n",
    "        num_boost_round = 400,\n",
    "        verbose_eval=True)"
   ]
  },
  {
   "cell_type": "code",
   "execution_count": 109,
   "metadata": {},
   "outputs": [
    {
     "name": "stdout",
     "output_type": "stream",
     "text": [
      "Training until validation scores don't improve for 100 rounds.\n",
      "[100]\tvalid_0's rmse: 1.61067\n",
      "[200]\tvalid_0's rmse: 1.54074\n",
      "[300]\tvalid_0's rmse: 1.5083\n",
      "[400]\tvalid_0's rmse: 1.48934\n",
      "[500]\tvalid_0's rmse: 1.47823\n",
      "[600]\tvalid_0's rmse: 1.47108\n",
      "[700]\tvalid_0's rmse: 1.46526\n",
      "[800]\tvalid_0's rmse: 1.46205\n",
      "[900]\tvalid_0's rmse: 1.46011\n",
      "[1000]\tvalid_0's rmse: 1.4581\n",
      "Did not meet early stopping. Best iteration is:\n",
      "[997]\tvalid_0's rmse: 1.45804\n"
     ]
    }
   ],
   "source": [
    "# data_decompositionからの引用で検証。\n",
    "\n",
    "from sklearn.model_selection import train_test_split\n",
    "train_x, val_x, train_y, val_y = train_test_split(train_df, y, test_size=0.20, random_state=2018)\n",
    "train_X = lgb.Dataset(train_x[columns_to_use], label=train_y)\n",
    "val_X = lgb.Dataset(val_x[columns_to_use], label=val_y)\n",
    "model1 = lgb.train(params, train_X, 1000, val_X, verbose_eval=100, early_stopping_rounds=100)"
   ]
  },
  {
   "cell_type": "code",
   "execution_count": 96,
   "metadata": {
    "_uuid": "0015b95cb9dfdb97dd14ad3c1f9851a2324d36f1"
   },
   "outputs": [
    {
     "data": {
      "text/plain": [
       "array([14.42327409, 14.42327409, 14.53871878, ..., 14.24748285,\n",
       "       13.84353729, 14.42760526])"
      ]
     },
     "execution_count": 96,
     "metadata": {},
     "output_type": "execute_result"
    }
   ],
   "source": [
    "preds = clf.predict(test_df[columns_to_use])\n",
    "preds"
   ]
  },
  {
   "cell_type": "code",
   "execution_count": 110,
   "metadata": {},
   "outputs": [],
   "source": [
    "sample_submission = pd.read_csv(\"sample_submission.csv\")"
   ]
  },
  {
   "cell_type": "code",
   "execution_count": 119,
   "metadata": {
    "_uuid": "d0cb3e73535f9ebd8249f1522f234da9e9153062"
   },
   "outputs": [
    {
     "data": {
      "text/html": [
       "<div>\n",
       "<style scoped>\n",
       "    .dataframe tbody tr th:only-of-type {\n",
       "        vertical-align: middle;\n",
       "    }\n",
       "\n",
       "    .dataframe tbody tr th {\n",
       "        vertical-align: top;\n",
       "    }\n",
       "\n",
       "    .dataframe thead th {\n",
       "        text-align: right;\n",
       "    }\n",
       "</style>\n",
       "<table border=\"1\" class=\"dataframe\">\n",
       "  <thead>\n",
       "    <tr style=\"text-align: right;\">\n",
       "      <th></th>\n",
       "      <th>ID</th>\n",
       "      <th>target</th>\n",
       "    </tr>\n",
       "  </thead>\n",
       "  <tbody>\n",
       "    <tr>\n",
       "      <th>0</th>\n",
       "      <td>000137c73</td>\n",
       "      <td>1.836319e+06</td>\n",
       "    </tr>\n",
       "    <tr>\n",
       "      <th>1</th>\n",
       "      <td>00021489f</td>\n",
       "      <td>1.836319e+06</td>\n",
       "    </tr>\n",
       "    <tr>\n",
       "      <th>2</th>\n",
       "      <td>0004d7953</td>\n",
       "      <td>2.061034e+06</td>\n",
       "    </tr>\n",
       "    <tr>\n",
       "      <th>3</th>\n",
       "      <td>00056a333</td>\n",
       "      <td>3.658886e+06</td>\n",
       "    </tr>\n",
       "    <tr>\n",
       "      <th>4</th>\n",
       "      <td>00056d8eb</td>\n",
       "      <td>1.836319e+06</td>\n",
       "    </tr>\n",
       "  </tbody>\n",
       "</table>\n",
       "</div>"
      ],
      "text/plain": [
       "          ID        target\n",
       "0  000137c73  1.836319e+06\n",
       "1  00021489f  1.836319e+06\n",
       "2  0004d7953  2.061034e+06\n",
       "3  00056a333  3.658886e+06\n",
       "4  00056d8eb  1.836319e+06"
      ]
     },
     "execution_count": 119,
     "metadata": {},
     "output_type": "execute_result"
    }
   ],
   "source": [
    "# sample_submissionとtest_dfの IDも数も同じ。違いはtargetのみ。sample_submissionはランダムな値。\n",
    "\n",
    "sample_submission.target = np.exp(preds)-1\n",
    "sample_submission.to_csv('simple_lgbm_1.csv', index=False)\n",
    "sample_submission.head()"
   ]
  },
  {
   "cell_type": "markdown",
   "metadata": {
    "_uuid": "052f815b8df425cbd5bee7b84584b8fa4b6f9848"
   },
   "source": [
    "Well, that's great - we made a prediction on the test set, and saved it to a file, which we were able to submit to the competition. Unfortunately, there was no way to tell how this model would perform on the unseen data. (This submission scored 1.53 on Public Leaderboard.)"
   ]
  },
  {
   "cell_type": "code",
   "execution_count": null,
   "metadata": {
    "_uuid": "37677ac9717b572c193ea02e3bed91d416047785",
    "collapsed": true
   },
   "outputs": [],
   "source": [
    "nr_splits = 5\n",
    "random_state = 1054\n",
    "\n",
    "y_oof = np.zeros((y.shape[0]))\n",
    "total_preds = 0\n",
    "\n",
    "\n",
    "kf = KFold(n_splits=nr_splits, shuffle=True, random_state=random_state)\n",
    "for i, (train_index, val_index) in enumerate(kf.split(y)):\n",
    "    print('Fitting fold', i+1, 'out of', nr_splits)\n",
    "    X_train, X_val  = train_df[columns_to_use].iloc[train_index], train_df[columns_to_use].iloc[val_index]\n",
    "    y_train, y_val = y[train_index], y[val_index]\n",
    "    \n",
    "    train = lgb.Dataset(X_train,y_train ,feature_name = \"auto\")\n",
    "    val = lgb.Dataset(X_val ,y_val ,feature_name = \"auto\")\n",
    "    clf = lgb.train(params,train,num_boost_round = 400,verbose_eval=True)\n",
    "    \n",
    "    total_preds += clf.predict(test_df[columns_to_use])/nr_splits\n",
    "    pred_oof = clf.predict(X_val)\n",
    "    y_oof[val_index] = pred_oof\n",
    "    print('Fold error', np.sqrt(mean_squared_error(y_val, pred_oof)))\n",
    "\n",
    "print('Total error', np.sqrt(mean_squared_error(y, y_oof)))"
   ]
  },
  {
   "cell_type": "code",
   "execution_count": null,
   "metadata": {
    "_uuid": "a703120049c8dcb63290784923efa2e254e83200",
    "collapsed": true
   },
   "outputs": [],
   "source": [
    "params['max_depth'] = 4\n",
    "\n",
    "y_oof_2 = np.zeros((y.shape[0]))\n",
    "total_preds_2 = 0\n",
    "\n",
    "\n",
    "kf = KFold(n_splits=nr_splits, shuffle=True, random_state=random_state)\n",
    "for i, (train_index, val_index) in enumerate(kf.split(y)):\n",
    "    print('Fitting fold', i+1, 'out of', nr_splits)\n",
    "    X_train, X_val  = train_df[columns_to_use].iloc[train_index], train_df[columns_to_use].iloc[val_index]\n",
    "    y_train, y_val = y[train_index], y[val_index]\n",
    "    \n",
    "    train = lgb.Dataset(X_train,y_train ,feature_name = \"auto\")\n",
    "    val = lgb.Dataset(X_val ,y_val ,feature_name = \"auto\")\n",
    "    clf = lgb.train(params,train,num_boost_round = 400,verbose_eval=True)\n",
    "    \n",
    "    total_preds_2 += clf.predict(test_df[columns_to_use])/nr_splits\n",
    "    pred_oof = clf.predict(X_val)\n",
    "    y_oof_2[val_index] = pred_oof\n",
    "    print('Fold error', np.sqrt(mean_squared_error(y_val, pred_oof)))\n",
    "\n",
    "print('Total error', np.sqrt(mean_squared_error(y, y_oof_2)))"
   ]
  },
  {
   "cell_type": "code",
   "execution_count": null,
   "metadata": {
    "_uuid": "4c482d29c852c7b4b8238977caccb87e0bb03cca",
    "collapsed": true
   },
   "outputs": [],
   "source": [
    "params['max_depth'] = 6\n",
    "\n",
    "y_oof_3 = np.zeros((y.shape[0]))\n",
    "total_preds_3 = 0\n",
    "\n",
    "\n",
    "kf = KFold(n_splits=nr_splits, shuffle=True, random_state=random_state)\n",
    "for i, (train_index, val_index) in enumerate(kf.split(y)):\n",
    "    print('Fitting fold', i+1, 'out of', nr_splits)\n",
    "    X_train, X_val  = train_df[columns_to_use].iloc[train_index], train_df[columns_to_use].iloc[val_index]\n",
    "    y_train, y_val = y[train_index], y[val_index]\n",
    "    \n",
    "    train = lgb.Dataset(X_train,y_train ,feature_name = \"auto\")\n",
    "    val = lgb.Dataset(X_val ,y_val ,feature_name = \"auto\")\n",
    "    clf = lgb.train(params,train,num_boost_round = 400,verbose_eval=True)\n",
    "    \n",
    "    total_preds_3 += clf.predict(test_df[columns_to_use])/nr_splits\n",
    "    pred_oof = clf.predict(X_val)\n",
    "    y_oof_3[val_index] = pred_oof\n",
    "    print('Fold error', np.sqrt(mean_squared_error(y_val, pred_oof)))\n",
    "\n",
    "print('Total error', np.sqrt(mean_squared_error(y, y_oof_3)))"
   ]
  },
  {
   "cell_type": "code",
   "execution_count": null,
   "metadata": {
    "_uuid": "e5d273fa90735e413b93d6c7aa82bea5f5a0a785",
    "collapsed": true
   },
   "outputs": [],
   "source": [
    "params['max_depth'] = 7\n",
    "\n",
    "y_oof_4 = np.zeros((y.shape[0]))\n",
    "total_preds_4 = 0\n",
    "\n",
    "\n",
    "kf = KFold(n_splits=nr_splits, shuffle=True, random_state=random_state)\n",
    "for i, (train_index, val_index) in enumerate(kf.split(y)):\n",
    "    print('Fitting fold', i+1, 'out of', nr_splits)\n",
    "    X_train, X_val  = train_df[columns_to_use].iloc[train_index], train_df[columns_to_use].iloc[val_index]\n",
    "    y_train, y_val = y[train_index], y[val_index]\n",
    "    \n",
    "    train = lgb.Dataset(X_train,y_train ,feature_name = \"auto\")\n",
    "    val = lgb.Dataset(X_val ,y_val ,feature_name = \"auto\")\n",
    "    clf = lgb.train(params,train,num_boost_round = 400,verbose_eval=True)\n",
    "    \n",
    "    total_preds_4 += clf.predict(test_df[columns_to_use])/nr_splits\n",
    "    pred_oof = clf.predict(X_val)\n",
    "    y_oof_4[val_index] = pred_oof\n",
    "    print('Fold error', np.sqrt(mean_squared_error(y_val, pred_oof)))\n",
    "\n",
    "print('Total error', np.sqrt(mean_squared_error(y, y_oof_4)))"
   ]
  },
  {
   "cell_type": "code",
   "execution_count": null,
   "metadata": {
    "_uuid": "86d23a397707a1b4be1c8ab8424e28f8601355ae",
    "collapsed": true
   },
   "outputs": [],
   "source": [
    "params['max_depth'] = 8\n",
    "\n",
    "y_oof_5 = np.zeros((y.shape[0]))\n",
    "total_preds_5 = 0\n",
    "\n",
    "\n",
    "kf = KFold(n_splits=nr_splits, shuffle=True, random_state=random_state)\n",
    "for i, (train_index, val_index) in enumerate(kf.split(y)):\n",
    "    print('Fitting fold', i+1, 'out of', nr_splits)\n",
    "    X_train, X_val  = train_df[columns_to_use].iloc[train_index], train_df[columns_to_use].iloc[val_index]\n",
    "    y_train, y_val = y[train_index], y[val_index]\n",
    "    \n",
    "    train = lgb.Dataset(X_train,y_train ,feature_name = \"auto\")\n",
    "    val = lgb.Dataset(X_val ,y_val ,feature_name = \"auto\")\n",
    "    clf = lgb.train(params,train,num_boost_round = 400,verbose_eval=True)\n",
    "    \n",
    "    total_preds_5 += clf.predict(test_df[columns_to_use])/nr_splits\n",
    "    pred_oof = clf.predict(X_val)\n",
    "    y_oof_5[val_index] = pred_oof\n",
    "    print('Fold error', np.sqrt(mean_squared_error(y_val, pred_oof)))\n",
    "\n",
    "print('Total error', np.sqrt(mean_squared_error(y, y_oof_5)))"
   ]
  },
  {
   "cell_type": "code",
   "execution_count": null,
   "metadata": {
    "_uuid": "5298997028e742c0ccf5a94ac33918de2830f55f",
    "collapsed": true
   },
   "outputs": [],
   "source": [
    "params['max_depth'] = 10\n",
    "\n",
    "y_oof_6 = np.zeros((y.shape[0]))\n",
    "total_preds_6 = 0\n",
    "\n",
    "\n",
    "kf = KFold(n_splits=nr_splits, shuffle=True, random_state=random_state)\n",
    "for i, (train_index, val_index) in enumerate(kf.split(y)):\n",
    "    print('Fitting fold', i+1, 'out of', nr_splits)\n",
    "    X_train, X_val  = train_df[columns_to_use].iloc[train_index], train_df[columns_to_use].iloc[val_index]\n",
    "    y_train, y_val = y[train_index], y[val_index]\n",
    "    \n",
    "    train = lgb.Dataset(X_train,y_train ,feature_name = \"auto\")\n",
    "    val = lgb.Dataset(X_val ,y_val ,feature_name = \"auto\")\n",
    "    clf = lgb.train(params,train,num_boost_round = 400,verbose_eval=True)\n",
    "    \n",
    "    total_preds_6 += clf.predict(test_df[columns_to_use])/nr_splits\n",
    "    pred_oof = clf.predict(X_val)\n",
    "    y_oof_6[val_index] = pred_oof\n",
    "    print('Fold error', np.sqrt(mean_squared_error(y_val, pred_oof)))\n",
    "\n",
    "print('Total error', np.sqrt(mean_squared_error(y, y_oof_6)))"
   ]
  },
  {
   "cell_type": "code",
   "execution_count": null,
   "metadata": {
    "_uuid": "f530d9c894fbe9fa5217a9558a075fcb2e79cd01",
    "collapsed": true
   },
   "outputs": [],
   "source": [
    "params['max_depth'] = 12\n",
    "\n",
    "y_oof_7 = np.zeros((y.shape[0]))\n",
    "total_preds_7 = 0\n",
    "\n",
    "\n",
    "kf = KFold(n_splits=nr_splits, shuffle=True, random_state=random_state)\n",
    "for i, (train_index, val_index) in enumerate(kf.split(y)):\n",
    "    print('Fitting fold', i+1, 'out of', nr_splits)\n",
    "    X_train, X_val  = train_df[columns_to_use].iloc[train_index], train_df[columns_to_use].iloc[val_index]\n",
    "    y_train, y_val = y[train_index], y[val_index]\n",
    "    \n",
    "    train = lgb.Dataset(X_train,y_train ,feature_name = \"auto\")\n",
    "    val = lgb.Dataset(X_val ,y_val ,feature_name = \"auto\")\n",
    "    clf = lgb.train(params,train,num_boost_round = 400,verbose_eval=True)\n",
    "    \n",
    "    total_preds_7 += clf.predict(test_df[columns_to_use])/nr_splits\n",
    "    pred_oof = clf.predict(X_val)\n",
    "    y_oof_7[val_index] = pred_oof\n",
    "    print('Fold error', np.sqrt(mean_squared_error(y_val, pred_oof)))\n",
    "\n",
    "print('Total error', np.sqrt(mean_squared_error(y, y_oof_7)))"
   ]
  },
  {
   "cell_type": "code",
   "execution_count": null,
   "metadata": {
    "_uuid": "89a304ca994091d8b5c8b040039c4789adc99f96",
    "collapsed": true
   },
   "outputs": [],
   "source": [
    "print('Total error', np.sqrt(mean_squared_error(y, 1.4*(1.6*y_oof_7-0.6*y_oof_6)-0.4*y_oof_5)))"
   ]
  },
  {
   "cell_type": "code",
   "execution_count": null,
   "metadata": {
    "_uuid": "14e907aa1d6e4629fd28ab610124293fc7dc9a06",
    "collapsed": true
   },
   "outputs": [],
   "source": [
    "print('Total error', np.sqrt(mean_squared_error(y, -0.5*y_oof-0.5*y_oof_2-y_oof_3\n",
    "                                                +3*y_oof_4)))"
   ]
  },
  {
   "cell_type": "code",
   "execution_count": null,
   "metadata": {
    "_uuid": "4419aa6462b7e129ce809fd246993e604bc040ff",
    "collapsed": true
   },
   "outputs": [],
   "source": [
    "print('Total error', np.sqrt(mean_squared_error(y, 0.75*(1.4*(1.6*y_oof_7-0.6*y_oof_6)-0.4*y_oof_5)+\n",
    "                                                0.25*(-0.5*y_oof-0.5*y_oof_2-y_oof_3\n",
    "                                                +3*y_oof_4))))"
   ]
  },
  {
   "cell_type": "code",
   "execution_count": null,
   "metadata": {
    "_uuid": "0c049caa0a6090a0d00beccac7436e42e36a1ea3",
    "collapsed": true
   },
   "outputs": [],
   "source": [
    "sub_preds = (0.75*(1.4*(1.6*total_preds_7-0.6*total_preds_6)-0.4*total_preds_5)+\n",
    "                                                0.25*(-0.5*total_preds-0.5*total_preds_2-total_preds_3\n",
    "                                                +3*total_preds_4))\n",
    "#sub_preds = (-0.5*total_preds-0.5*total_preds_2-total_preds_3+3*total_preds_4)\n",
    "sample_submission.target = np.exp(sub_preds)-1\n",
    "sample_submission.to_csv('blended_submission_2.csv', index=False)\n",
    "sample_submission.head()"
   ]
  },
  {
   "cell_type": "code",
   "execution_count": null,
   "metadata": {
    "_uuid": "36f9f3165e4b24d5dcdc1e7632503df9cb0b2e99",
    "collapsed": true
   },
   "outputs": [],
   "source": [
    "params = {'objective': 'reg:linear', \n",
    "          'eval_metric': 'rmse',\n",
    "          'eta': 0.01,\n",
    "          'max_depth': 10, \n",
    "          'subsample': 0.6, \n",
    "          'colsample_bytree': 0.6,\n",
    "          'alpha':0.001,\n",
    "          'random_state': 42, \n",
    "          'silent': True}\n",
    "\n",
    "y_oof_8 = np.zeros((y.shape[0]))\n",
    "total_preds_8 = 0\n",
    "\n",
    "dtest = xgb.DMatrix(test_df[columns_to_use])\n",
    "\n",
    "kf = KFold(n_splits=nr_splits, shuffle=True, random_state=random_state)\n",
    "for i, (train_index, val_index) in enumerate(kf.split(y)):\n",
    "    print('Fitting fold', i+1, 'out of', nr_splits)\n",
    "    X_train, X_val  = train_df[columns_to_use].iloc[train_index], train_df[columns_to_use].iloc[val_index]\n",
    "    y_train, y_val = y[train_index], y[val_index]\n",
    "    \n",
    "    \n",
    "    train = xgb.DMatrix(X_train, y_train)\n",
    "    val = xgb.DMatrix(X_val, y_val)\n",
    "    \n",
    "    watchlist = [(train, 'train'), (val, 'val')]\n",
    "    \n",
    "    clf = xgb.train(params, train, 1000, watchlist, \n",
    "                          maximize=False, early_stopping_rounds = 60, verbose_eval=100)\n",
    "\n",
    "    \n",
    "    total_preds_8 += clf.predict(dtest, ntree_limit=clf.best_ntree_limit)/nr_splits\n",
    "    pred_oof = clf.predict(val, ntree_limit=clf.best_ntree_limit)\n",
    "    y_oof_8[val_index] = pred_oof\n",
    "    print('Fold error', np.sqrt(mean_squared_error(y_val, pred_oof)))\n",
    "\n",
    "print('Total error', np.sqrt(mean_squared_error(y, y_oof_8)))"
   ]
  },
  {
   "cell_type": "markdown",
   "metadata": {
    "_uuid": "5a73f20311cfd1b06a67739fb7bb58eb58064aad"
   },
   "source": [
    "### To do:\n",
    "\n",
    "1. Meke some plots\n",
    "2. Build a few models\n",
    "3. Do feature importance analysis\n",
    "\n",
    "## To be continued ..."
   ]
  },
  {
   "cell_type": "code",
   "execution_count": null,
   "metadata": {
    "_uuid": "897fde43949fdf12f697ee56e2b740895f98bc6e",
    "collapsed": true
   },
   "outputs": [],
   "source": [
    "print('Total error', np.sqrt(mean_squared_error(y, 0.7*(0.75*(1.4*(1.6*y_oof_7-0.6*y_oof_6)-0.4*y_oof_5)+\n",
    "                                                0.25*(-0.5*y_oof-0.5*y_oof_2-y_oof_3\n",
    "                                                +3*y_oof_4))+0.3*y_oof_8)))"
   ]
  },
  {
   "cell_type": "code",
   "execution_count": null,
   "metadata": {
    "_uuid": "593154b715fe4a4a049b25867389e0a7d096d995",
    "collapsed": true
   },
   "outputs": [],
   "source": [
    "sub_preds = (0.7*(0.75*(1.4*(1.6*total_preds_7-0.6*total_preds_6)-0.4*total_preds_5)+\n",
    "                                                0.25*(-0.5*total_preds-0.5*total_preds_2-total_preds_3\n",
    "                                                +3*total_preds_4))+0.3*total_preds_8)\n",
    "#sub_preds = (-0.5*total_preds-0.5*total_preds_2-total_preds_3+3*total_preds_4)\n",
    "sample_submission.target = np.exp(sub_preds)-1\n",
    "sample_submission.to_csv('blended_submission_3.csv', index=False)\n",
    "sample_submission.head()"
   ]
  },
  {
   "cell_type": "code",
   "execution_count": null,
   "metadata": {
    "_uuid": "301a141c884fbceff9fbddc523ed37b39bdfdec4",
    "collapsed": true
   },
   "outputs": [],
   "source": [
    "feature_importances = clf.get_fscore()"
   ]
  },
  {
   "cell_type": "code",
   "execution_count": null,
   "metadata": {
    "_uuid": "6a7ac73a0398a9e3b96d7652413e3f5a3859baab",
    "collapsed": true
   },
   "outputs": [],
   "source": [
    "importance = sorted(feature_importances.items(), key=operator.itemgetter(1))"
   ]
  },
  {
   "cell_type": "code",
   "execution_count": null,
   "metadata": {
    "_uuid": "b541a112c2b08f38a618d413bc57c5fb6fd638f8",
    "collapsed": true
   },
   "outputs": [],
   "source": [
    "best_2500 = importance[::-1][:2500]"
   ]
  },
  {
   "cell_type": "code",
   "execution_count": null,
   "metadata": {
    "_uuid": "0c4e3d3a796bcda2f409477d4237655d345ffe5e",
    "collapsed": true
   },
   "outputs": [],
   "source": [
    "best_2500 =[ x[0] for x in best_2500]"
   ]
  },
  {
   "cell_type": "code",
   "execution_count": null,
   "metadata": {
    "_uuid": "7cc4e71988540ecf2b62d5dca5e4edd21f0ec398",
    "collapsed": true
   },
   "outputs": [],
   "source": []
  },
  {
   "cell_type": "code",
   "execution_count": null,
   "metadata": {
    "_uuid": "697650a4855ec0eb5b0ac341445b3f95fff01feb",
    "collapsed": true
   },
   "outputs": [],
   "source": [
    "params = {'objective': 'reg:linear', \n",
    "          'eval_metric': 'rmse',\n",
    "          'eta': 0.01,\n",
    "          'max_depth': 10, \n",
    "          'subsample': 0.6, \n",
    "          'colsample_bytree': 0.6,\n",
    "          'alpha':0.001,\n",
    "          'random_state': 42, \n",
    "          'silent': True}\n",
    "\n",
    "y_oof_9 = np.zeros((y.shape[0]))\n",
    "total_preds_9 = 0\n",
    "\n",
    "dtest = xgb.DMatrix(test_df[best_2500])\n",
    "\n",
    "kf = KFold(n_splits=nr_splits, shuffle=True, random_state=random_state)\n",
    "for i, (train_index, val_index) in enumerate(kf.split(y)):\n",
    "    print('Fitting fold', i+1, 'out of', nr_splits)\n",
    "    X_train, X_val  = train_df[best_2500].iloc[train_index], train_df[best_2500].iloc[val_index]\n",
    "    y_train, y_val = y[train_index], y[val_index]\n",
    "    \n",
    "    \n",
    "    train = xgb.DMatrix(X_train, y_train)\n",
    "    val = xgb.DMatrix(X_val, y_val)\n",
    "    \n",
    "    watchlist = [(train, 'train'), (val, 'val')]\n",
    "    \n",
    "    clf = xgb.train(params, train, 1500, watchlist, \n",
    "                          maximize=False, early_stopping_rounds = 60, verbose_eval=100)\n",
    "\n",
    "    \n",
    "    total_preds_9 += clf.predict(dtest, ntree_limit=clf.best_ntree_limit)/nr_splits\n",
    "    pred_oof = clf.predict(val, ntree_limit=clf.best_ntree_limit)\n",
    "    y_oof_9[val_index] = pred_oof\n",
    "    print('Fold error', np.sqrt(mean_squared_error(y_val, pred_oof)))\n",
    "\n",
    "print('Total error', np.sqrt(mean_squared_error(y, y_oof_9)))"
   ]
  },
  {
   "cell_type": "code",
   "execution_count": null,
   "metadata": {
    "_uuid": "cf20bf7e100f0b8f7d1fc369871d62323598f98f",
    "collapsed": true
   },
   "outputs": [],
   "source": [
    "print('Total error', np.sqrt(mean_squared_error(y, 0.5*y_oof_9+0.5*(0.7*(0.75*(1.4*(1.6*y_oof_7-0.6*y_oof_6)-0.4*y_oof_5)+\n",
    "                                                0.25*(-0.5*y_oof-0.5*y_oof_2-y_oof_3\n",
    "                                                +3*y_oof_4))+0.3*y_oof_8))))\n",
    "\n",
    "sub_preds = 0.5*total_preds_9+0.5*(0.7*(0.75*(1.4*(1.6*total_preds_7-0.6*total_preds_6)-0.4*total_preds_5)+\n",
    "                                                0.25*(-0.5*total_preds-0.5*total_preds_2-total_preds_3\n",
    "                                                +3*total_preds_4))+0.3*total_preds_8)\n",
    "#sub_preds = (-0.5*total_preds-0.5*total_preds_2-total_preds_3+3*total_preds_4)\n",
    "sample_submission.target = np.exp(sub_preds)-1\n",
    "sample_submission.to_csv('blended_submission_4.csv', index=False)\n",
    "sample_submission.head()"
   ]
  }
 ],
 "metadata": {
  "kernelspec": {
   "display_name": "Python 3",
   "language": "python",
   "name": "python3"
  },
  "language_info": {
   "codemirror_mode": {
    "name": "ipython",
    "version": 3
   },
   "file_extension": ".py",
   "mimetype": "text/x-python",
   "name": "python",
   "nbconvert_exporter": "python",
   "pygments_lexer": "ipython3",
   "version": "3.6.1"
  },
  "toc": {
   "base_numbering": 1,
   "nav_menu": {},
   "number_sections": true,
   "sideBar": true,
   "skip_h1_title": false,
   "title_cell": "Table of Contents",
   "title_sidebar": "Contents",
   "toc_cell": false,
   "toc_position": {},
   "toc_section_display": true,
   "toc_window_display": false
  }
 },
 "nbformat": 4,
 "nbformat_minor": 1
}
