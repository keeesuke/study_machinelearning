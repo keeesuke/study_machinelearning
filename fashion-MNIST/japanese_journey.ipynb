{
 "cells": [
  {
   "cell_type": "code",
   "execution_count": 206,
   "metadata": {},
   "outputs": [
    {
     "name": "stdout",
     "output_type": "stream",
     "text": [
      "Once deleted, variables cannot be recovered. Proceed (y/[n])? y\n"
     ]
    }
   ],
   "source": [
    "%reset"
   ]
  },
  {
   "cell_type": "markdown",
   "metadata": {
    "_cell_guid": "3d031044-522c-4468-83f6-15c2fef96bd8",
    "_uuid": "ca266113f6bd4ce070fda0e120d5895adf6e37c8"
   },
   "source": [
    "## Introduction"
   ]
  },
  {
   "cell_type": "markdown",
   "metadata": {
    "_cell_guid": "5b61c995-7921-449d-b253-04baaf697dde",
    "_uuid": "c01cce3cca8b6d8fb276d7979bc7c416de7a1d0b"
   },
   "source": [
    "In this competition, we are asked  to use reservation and visitation data to predict the total number of visitors to a restaurant for future dates. This information is supposed to help restaurants be much more efficient and allow them to focus on creating an enjoyable dining experience for their customers. \n",
    "\n",
    "This is a nice opportunity to learn more about Japan!!!"
   ]
  },
  {
   "cell_type": "markdown",
   "metadata": {
    "_cell_guid": "6632454f-47ef-45da-9462-ca1ccce1b126",
    "_uuid": "d70d9ef0a6a1778ecdb1a4d30e073cc733e9723b"
   },
   "source": [
    "The data comes from two separate sites:\n",
    "\n",
    "* Hot Pepper Gourmet (hpg): similar to Yelp, here users can search restaurants and also make a reservation online\n",
    "* AirREGI / Restaurant Board (air): similar to Square, a reservation control and cash register system"
   ]
  },
  {
   "cell_type": "code",
   "execution_count": 207,
   "metadata": {
    "_cell_guid": "3753ad20-b483-4dd5-9cd4-84e666831939",
    "_uuid": "be6b73f9f01b28a76129394d5b0eed6c959ea08d"
   },
   "outputs": [],
   "source": [
    "#\n",
    "import numpy as np\n",
    "import pandas as pd\n",
    "from subprocess import check_output\n",
    "import matplotlib.pyplot as plt\n",
    "import seaborn as sns"
   ]
  },
  {
   "cell_type": "markdown",
   "metadata": {
    "_cell_guid": "51340418-bc4c-422c-b818-e298c00cee01",
    "_uuid": "fb62ece54cd6bae9192911b8b1498dfd73b393b8"
   },
   "source": [
    "## Data Wrangling"
   ]
  },
  {
   "cell_type": "markdown",
   "metadata": {
    "_cell_guid": "b1f1bc79-03aa-4f3a-ba5d-c7051b767f5f",
    "_uuid": "e04ca75b09b5d84327ceb7fa2c4e88df51dd2c4e"
   },
   "source": [
    "The training data covers the dates from 2016 until April 2017. The test set covers the last week of April and May of 2017. The test set is split based on time (the public fold coming first, the private fold following the public) and covers a chosen subset of the air restaurants. Note that the test set intentionally spans a holiday week in Japan called the \"Golden Week.\""
   ]
  },
  {
   "cell_type": "code",
   "execution_count": 208,
   "metadata": {
    "scrolled": true
   },
   "outputs": [
    {
     "name": "stdout",
     "output_type": "stream",
     "text": [
      "air_reserve.csv        hpg_reserve.csv        sub_geo_mean_1.csv\r\n",
      "air_store_info.csv     hpg_store_info.csv     sub_hrm_mean_1.csv\r\n",
      "air_visit_data.csv     sample_submission.csv  sub_math_mean_1.csv\r\n",
      "date_info.csv          store_id_relation.csv\r\n"
     ]
    }
   ],
   "source": [
    "ls *.csv"
   ]
  },
  {
   "cell_type": "code",
   "execution_count": 209,
   "metadata": {
    "_cell_guid": "899733d1-b239-4cb5-9d87-b16f9ab0111b",
    "_uuid": "b8e3eceff3d3edb5f3617fd5a7799f0947fb9f60"
   },
   "outputs": [],
   "source": [
    "#\n",
    "airres = pd.read_csv('air_reserve.csv')\n",
    "airstore = pd.read_csv('air_store_info.csv')\n",
    "hpgres = pd.read_csv('hpg_reserve.csv')\n",
    "hpgstore = pd.read_csv('hpg_store_info.csv')\n",
    "airvisit = pd.read_csv('air_visit_data.csv')"
   ]
  },
  {
   "cell_type": "code",
   "execution_count": 210,
   "metadata": {
    "_cell_guid": "e51cb468-5e2e-4d2a-bf29-d0c7f81ad64f",
    "_uuid": "800f4126e39a8bc94bfdb2bf40d301276eb5661b"
   },
   "outputs": [
    {
     "data": {
      "text/html": [
       "<div>\n",
       "<style scoped>\n",
       "    .dataframe tbody tr th:only-of-type {\n",
       "        vertical-align: middle;\n",
       "    }\n",
       "\n",
       "    .dataframe tbody tr th {\n",
       "        vertical-align: top;\n",
       "    }\n",
       "\n",
       "    .dataframe thead th {\n",
       "        text-align: right;\n",
       "    }\n",
       "</style>\n",
       "<table border=\"1\" class=\"dataframe\">\n",
       "  <thead>\n",
       "    <tr style=\"text-align: right;\">\n",
       "      <th></th>\n",
       "      <th>air_store_id</th>\n",
       "      <th>visit_date</th>\n",
       "      <th>visitors</th>\n",
       "    </tr>\n",
       "  </thead>\n",
       "  <tbody>\n",
       "    <tr>\n",
       "      <th>252103</th>\n",
       "      <td>air_24e8414b9b07decb</td>\n",
       "      <td>2017-04-18</td>\n",
       "      <td>6</td>\n",
       "    </tr>\n",
       "    <tr>\n",
       "      <th>252104</th>\n",
       "      <td>air_24e8414b9b07decb</td>\n",
       "      <td>2017-04-19</td>\n",
       "      <td>6</td>\n",
       "    </tr>\n",
       "    <tr>\n",
       "      <th>252105</th>\n",
       "      <td>air_24e8414b9b07decb</td>\n",
       "      <td>2017-04-20</td>\n",
       "      <td>7</td>\n",
       "    </tr>\n",
       "    <tr>\n",
       "      <th>252106</th>\n",
       "      <td>air_24e8414b9b07decb</td>\n",
       "      <td>2017-04-21</td>\n",
       "      <td>8</td>\n",
       "    </tr>\n",
       "    <tr>\n",
       "      <th>252107</th>\n",
       "      <td>air_24e8414b9b07decb</td>\n",
       "      <td>2017-04-22</td>\n",
       "      <td>5</td>\n",
       "    </tr>\n",
       "  </tbody>\n",
       "</table>\n",
       "</div>"
      ],
      "text/plain": [
       "                air_store_id  visit_date  visitors\n",
       "252103  air_24e8414b9b07decb  2017-04-18         6\n",
       "252104  air_24e8414b9b07decb  2017-04-19         6\n",
       "252105  air_24e8414b9b07decb  2017-04-20         7\n",
       "252106  air_24e8414b9b07decb  2017-04-21         8\n",
       "252107  air_24e8414b9b07decb  2017-04-22         5"
      ]
     },
     "execution_count": 210,
     "metadata": {},
     "output_type": "execute_result"
    }
   ],
   "source": [
    "#\n",
    "airvisit.tail()"
   ]
  },
  {
   "cell_type": "code",
   "execution_count": 211,
   "metadata": {
    "_cell_guid": "0deb138a-a9c2-4043-88f9-39cbdd720251",
    "_uuid": "6ee20426cb7d8e57b3ca16bfbf8dd5dd7f736fc4"
   },
   "outputs": [
    {
     "data": {
      "text/html": [
       "<div>\n",
       "<style scoped>\n",
       "    .dataframe tbody tr th:only-of-type {\n",
       "        vertical-align: middle;\n",
       "    }\n",
       "\n",
       "    .dataframe tbody tr th {\n",
       "        vertical-align: top;\n",
       "    }\n",
       "\n",
       "    .dataframe thead th {\n",
       "        text-align: right;\n",
       "    }\n",
       "</style>\n",
       "<table border=\"1\" class=\"dataframe\">\n",
       "  <thead>\n",
       "    <tr style=\"text-align: right;\">\n",
       "      <th></th>\n",
       "      <th>air_store_id</th>\n",
       "      <th>visit_datetime</th>\n",
       "      <th>reserve_datetime</th>\n",
       "      <th>reserve_visitors</th>\n",
       "    </tr>\n",
       "  </thead>\n",
       "  <tbody>\n",
       "    <tr>\n",
       "      <th>0</th>\n",
       "      <td>air_877f79706adbfb06</td>\n",
       "      <td>2016-01-01 19:00:00</td>\n",
       "      <td>2016-01-01 16:00:00</td>\n",
       "      <td>1</td>\n",
       "    </tr>\n",
       "    <tr>\n",
       "      <th>1</th>\n",
       "      <td>air_db4b38ebe7a7ceff</td>\n",
       "      <td>2016-01-01 19:00:00</td>\n",
       "      <td>2016-01-01 19:00:00</td>\n",
       "      <td>3</td>\n",
       "    </tr>\n",
       "    <tr>\n",
       "      <th>2</th>\n",
       "      <td>air_db4b38ebe7a7ceff</td>\n",
       "      <td>2016-01-01 19:00:00</td>\n",
       "      <td>2016-01-01 19:00:00</td>\n",
       "      <td>6</td>\n",
       "    </tr>\n",
       "    <tr>\n",
       "      <th>3</th>\n",
       "      <td>air_877f79706adbfb06</td>\n",
       "      <td>2016-01-01 20:00:00</td>\n",
       "      <td>2016-01-01 16:00:00</td>\n",
       "      <td>2</td>\n",
       "    </tr>\n",
       "    <tr>\n",
       "      <th>4</th>\n",
       "      <td>air_db80363d35f10926</td>\n",
       "      <td>2016-01-01 20:00:00</td>\n",
       "      <td>2016-01-01 01:00:00</td>\n",
       "      <td>5</td>\n",
       "    </tr>\n",
       "  </tbody>\n",
       "</table>\n",
       "</div>"
      ],
      "text/plain": [
       "           air_store_id       visit_datetime     reserve_datetime  \\\n",
       "0  air_877f79706adbfb06  2016-01-01 19:00:00  2016-01-01 16:00:00   \n",
       "1  air_db4b38ebe7a7ceff  2016-01-01 19:00:00  2016-01-01 19:00:00   \n",
       "2  air_db4b38ebe7a7ceff  2016-01-01 19:00:00  2016-01-01 19:00:00   \n",
       "3  air_877f79706adbfb06  2016-01-01 20:00:00  2016-01-01 16:00:00   \n",
       "4  air_db80363d35f10926  2016-01-01 20:00:00  2016-01-01 01:00:00   \n",
       "\n",
       "   reserve_visitors  \n",
       "0                 1  \n",
       "1                 3  \n",
       "2                 6  \n",
       "3                 2  \n",
       "4                 5  "
      ]
     },
     "execution_count": 211,
     "metadata": {},
     "output_type": "execute_result"
    }
   ],
   "source": [
    "#\n",
    "airres.head()"
   ]
  },
  {
   "cell_type": "code",
   "execution_count": 212,
   "metadata": {},
   "outputs": [],
   "source": [
    "pd.set_option('display.max_rows', 6)"
   ]
  },
  {
   "cell_type": "code",
   "execution_count": 213,
   "metadata": {
    "scrolled": false
   },
   "outputs": [
    {
     "data": {
      "text/html": [
       "<div>\n",
       "<style scoped>\n",
       "    .dataframe tbody tr th:only-of-type {\n",
       "        vertical-align: middle;\n",
       "    }\n",
       "\n",
       "    .dataframe tbody tr th {\n",
       "        vertical-align: top;\n",
       "    }\n",
       "\n",
       "    .dataframe thead th {\n",
       "        text-align: right;\n",
       "    }\n",
       "</style>\n",
       "<table border=\"1\" class=\"dataframe\">\n",
       "  <thead>\n",
       "    <tr style=\"text-align: right;\">\n",
       "      <th></th>\n",
       "      <th>air_store_id</th>\n",
       "      <th>visit_datetime</th>\n",
       "      <th>reserve_datetime</th>\n",
       "      <th>reserve_visitors</th>\n",
       "    </tr>\n",
       "  </thead>\n",
       "  <tbody>\n",
       "    <tr>\n",
       "      <th>0</th>\n",
       "      <td>air_877f79706adbfb06</td>\n",
       "      <td>2016-01-01 19:00:00</td>\n",
       "      <td>2016-01-01 16:00:00</td>\n",
       "      <td>1</td>\n",
       "    </tr>\n",
       "    <tr>\n",
       "      <th>1</th>\n",
       "      <td>air_db4b38ebe7a7ceff</td>\n",
       "      <td>2016-01-01 19:00:00</td>\n",
       "      <td>2016-01-01 19:00:00</td>\n",
       "      <td>3</td>\n",
       "    </tr>\n",
       "    <tr>\n",
       "      <th>2</th>\n",
       "      <td>air_db4b38ebe7a7ceff</td>\n",
       "      <td>2016-01-01 19:00:00</td>\n",
       "      <td>2016-01-01 19:00:00</td>\n",
       "      <td>6</td>\n",
       "    </tr>\n",
       "    <tr>\n",
       "      <th>...</th>\n",
       "      <td>...</td>\n",
       "      <td>...</td>\n",
       "      <td>...</td>\n",
       "      <td>...</td>\n",
       "    </tr>\n",
       "    <tr>\n",
       "      <th>92375</th>\n",
       "      <td>air_877f79706adbfb06</td>\n",
       "      <td>2017-05-31 20:00:00</td>\n",
       "      <td>2017-04-12 23:00:00</td>\n",
       "      <td>3</td>\n",
       "    </tr>\n",
       "    <tr>\n",
       "      <th>92376</th>\n",
       "      <td>air_900d755ebd2f7bbd</td>\n",
       "      <td>2017-05-31 20:00:00</td>\n",
       "      <td>2017-04-19 16:00:00</td>\n",
       "      <td>10</td>\n",
       "    </tr>\n",
       "    <tr>\n",
       "      <th>92377</th>\n",
       "      <td>air_3cad29d1a23209d2</td>\n",
       "      <td>2017-05-31 21:00:00</td>\n",
       "      <td>2017-04-22 10:00:00</td>\n",
       "      <td>3</td>\n",
       "    </tr>\n",
       "  </tbody>\n",
       "</table>\n",
       "<p>92378 rows × 4 columns</p>\n",
       "</div>"
      ],
      "text/plain": [
       "               air_store_id       visit_datetime     reserve_datetime  \\\n",
       "0      air_877f79706adbfb06  2016-01-01 19:00:00  2016-01-01 16:00:00   \n",
       "1      air_db4b38ebe7a7ceff  2016-01-01 19:00:00  2016-01-01 19:00:00   \n",
       "2      air_db4b38ebe7a7ceff  2016-01-01 19:00:00  2016-01-01 19:00:00   \n",
       "...                     ...                  ...                  ...   \n",
       "92375  air_877f79706adbfb06  2017-05-31 20:00:00  2017-04-12 23:00:00   \n",
       "92376  air_900d755ebd2f7bbd  2017-05-31 20:00:00  2017-04-19 16:00:00   \n",
       "92377  air_3cad29d1a23209d2  2017-05-31 21:00:00  2017-04-22 10:00:00   \n",
       "\n",
       "       reserve_visitors  \n",
       "0                     1  \n",
       "1                     3  \n",
       "2                     6  \n",
       "...                 ...  \n",
       "92375                 3  \n",
       "92376                10  \n",
       "92377                 3  \n",
       "\n",
       "[92378 rows x 4 columns]"
      ]
     },
     "execution_count": 213,
     "metadata": {},
     "output_type": "execute_result"
    }
   ],
   "source": [
    "airres"
   ]
  },
  {
   "cell_type": "code",
   "execution_count": 214,
   "metadata": {},
   "outputs": [
    {
     "data": {
      "text/plain": [
       "air_8093d0b565e9dbdf    2263\n",
       "air_e55abd740f93ecc4    1903\n",
       "air_0a74a5408a0b8642    1831\n",
       "                        ... \n",
       "air_cf2229e64408d9fe       1\n",
       "air_96005f79124e12bf       1\n",
       "air_883ca28ef0ed3d55       1\n",
       "Name: air_store_id, Length: 314, dtype: int64"
      ]
     },
     "execution_count": 214,
     "metadata": {},
     "output_type": "execute_result"
    }
   ],
   "source": [
    "airres.air_store_id.value_counts()"
   ]
  },
  {
   "cell_type": "code",
   "execution_count": 215,
   "metadata": {
    "scrolled": false
   },
   "outputs": [
    {
     "data": {
      "text/html": [
       "<div>\n",
       "<style scoped>\n",
       "    .dataframe tbody tr th:only-of-type {\n",
       "        vertical-align: middle;\n",
       "    }\n",
       "\n",
       "    .dataframe tbody tr th {\n",
       "        vertical-align: top;\n",
       "    }\n",
       "\n",
       "    .dataframe thead th {\n",
       "        text-align: right;\n",
       "    }\n",
       "</style>\n",
       "<table border=\"1\" class=\"dataframe\">\n",
       "  <thead>\n",
       "    <tr style=\"text-align: right;\">\n",
       "      <th></th>\n",
       "      <th>air_store_id</th>\n",
       "      <th>air_genre_name</th>\n",
       "      <th>air_area_name</th>\n",
       "      <th>latitude</th>\n",
       "      <th>longitude</th>\n",
       "    </tr>\n",
       "  </thead>\n",
       "  <tbody>\n",
       "    <tr>\n",
       "      <th>0</th>\n",
       "      <td>air_0f0cdeee6c9bf3d7</td>\n",
       "      <td>Italian/French</td>\n",
       "      <td>Hyōgo-ken Kōbe-shi Kumoidōri</td>\n",
       "      <td>34.695124</td>\n",
       "      <td>135.197852</td>\n",
       "    </tr>\n",
       "    <tr>\n",
       "      <th>1</th>\n",
       "      <td>air_7cc17a324ae5c7dc</td>\n",
       "      <td>Italian/French</td>\n",
       "      <td>Hyōgo-ken Kōbe-shi Kumoidōri</td>\n",
       "      <td>34.695124</td>\n",
       "      <td>135.197852</td>\n",
       "    </tr>\n",
       "    <tr>\n",
       "      <th>2</th>\n",
       "      <td>air_fee8dcf4d619598e</td>\n",
       "      <td>Italian/French</td>\n",
       "      <td>Hyōgo-ken Kōbe-shi Kumoidōri</td>\n",
       "      <td>34.695124</td>\n",
       "      <td>135.197852</td>\n",
       "    </tr>\n",
       "    <tr>\n",
       "      <th>...</th>\n",
       "      <td>...</td>\n",
       "      <td>...</td>\n",
       "      <td>...</td>\n",
       "      <td>...</td>\n",
       "      <td>...</td>\n",
       "    </tr>\n",
       "    <tr>\n",
       "      <th>826</th>\n",
       "      <td>air_10bbe8acd943d8f6</td>\n",
       "      <td>Asian</td>\n",
       "      <td>Tōkyō-to Shibuya-ku Shibuya</td>\n",
       "      <td>35.661777</td>\n",
       "      <td>139.704051</td>\n",
       "    </tr>\n",
       "    <tr>\n",
       "      <th>827</th>\n",
       "      <td>air_7514d90009613cd6</td>\n",
       "      <td>Karaoke/Party</td>\n",
       "      <td>Hokkaidō Sapporo-shi Minami 3 Jōnishi</td>\n",
       "      <td>43.055460</td>\n",
       "      <td>141.340956</td>\n",
       "    </tr>\n",
       "    <tr>\n",
       "      <th>828</th>\n",
       "      <td>air_c8fe396d6c46275d</td>\n",
       "      <td>Karaoke/Party</td>\n",
       "      <td>Hokkaidō Sapporo-shi Minami 3 Jōnishi</td>\n",
       "      <td>43.055460</td>\n",
       "      <td>141.340956</td>\n",
       "    </tr>\n",
       "  </tbody>\n",
       "</table>\n",
       "<p>829 rows × 5 columns</p>\n",
       "</div>"
      ],
      "text/plain": [
       "             air_store_id  air_genre_name  \\\n",
       "0    air_0f0cdeee6c9bf3d7  Italian/French   \n",
       "1    air_7cc17a324ae5c7dc  Italian/French   \n",
       "2    air_fee8dcf4d619598e  Italian/French   \n",
       "..                    ...             ...   \n",
       "826  air_10bbe8acd943d8f6           Asian   \n",
       "827  air_7514d90009613cd6   Karaoke/Party   \n",
       "828  air_c8fe396d6c46275d   Karaoke/Party   \n",
       "\n",
       "                             air_area_name   latitude   longitude  \n",
       "0             Hyōgo-ken Kōbe-shi Kumoidōri  34.695124  135.197852  \n",
       "1             Hyōgo-ken Kōbe-shi Kumoidōri  34.695124  135.197852  \n",
       "2             Hyōgo-ken Kōbe-shi Kumoidōri  34.695124  135.197852  \n",
       "..                                     ...        ...         ...  \n",
       "826            Tōkyō-to Shibuya-ku Shibuya  35.661777  139.704051  \n",
       "827  Hokkaidō Sapporo-shi Minami 3 Jōnishi  43.055460  141.340956  \n",
       "828  Hokkaidō Sapporo-shi Minami 3 Jōnishi  43.055460  141.340956  \n",
       "\n",
       "[829 rows x 5 columns]"
      ]
     },
     "execution_count": 215,
     "metadata": {},
     "output_type": "execute_result"
    }
   ],
   "source": [
    "airstore"
   ]
  },
  {
   "cell_type": "code",
   "execution_count": 216,
   "metadata": {},
   "outputs": [
    {
     "data": {
      "text/plain": [
       "air_e89735e80d614a7e    1\n",
       "air_bed603c423b7d9d4    1\n",
       "air_c77ee2b7d36da265    1\n",
       "                       ..\n",
       "air_ea6d0c3acf00b22a    1\n",
       "air_96005f79124e12bf    1\n",
       "air_daa7947e1c47f5ed    1\n",
       "Name: air_store_id, Length: 829, dtype: int64"
      ]
     },
     "execution_count": 216,
     "metadata": {},
     "output_type": "execute_result"
    }
   ],
   "source": [
    "airstore.air_store_id.value_counts()"
   ]
  },
  {
   "cell_type": "code",
   "execution_count": 217,
   "metadata": {
    "scrolled": true
   },
   "outputs": [
    {
     "data": {
      "text/html": [
       "<div>\n",
       "<style scoped>\n",
       "    .dataframe tbody tr th:only-of-type {\n",
       "        vertical-align: middle;\n",
       "    }\n",
       "\n",
       "    .dataframe tbody tr th {\n",
       "        vertical-align: top;\n",
       "    }\n",
       "\n",
       "    .dataframe thead th {\n",
       "        text-align: right;\n",
       "    }\n",
       "</style>\n",
       "<table border=\"1\" class=\"dataframe\">\n",
       "  <thead>\n",
       "    <tr style=\"text-align: right;\">\n",
       "      <th></th>\n",
       "      <th>air_store_id</th>\n",
       "      <th>visit_datetime</th>\n",
       "      <th>reserve_datetime</th>\n",
       "      <th>reserve_visitors</th>\n",
       "      <th>air_genre_name</th>\n",
       "      <th>air_area_name</th>\n",
       "      <th>latitude</th>\n",
       "      <th>longitude</th>\n",
       "    </tr>\n",
       "  </thead>\n",
       "  <tbody>\n",
       "    <tr>\n",
       "      <th>0</th>\n",
       "      <td>air_877f79706adbfb06</td>\n",
       "      <td>2016-01-01 19:00:00</td>\n",
       "      <td>2016-01-01 16:00:00</td>\n",
       "      <td>1</td>\n",
       "      <td>Japanese food</td>\n",
       "      <td>Tōkyō-to Minato-ku Shibakōen</td>\n",
       "      <td>35.658068</td>\n",
       "      <td>139.751599</td>\n",
       "    </tr>\n",
       "    <tr>\n",
       "      <th>1</th>\n",
       "      <td>air_877f79706adbfb06</td>\n",
       "      <td>2016-01-01 20:00:00</td>\n",
       "      <td>2016-01-01 16:00:00</td>\n",
       "      <td>2</td>\n",
       "      <td>Japanese food</td>\n",
       "      <td>Tōkyō-to Minato-ku Shibakōen</td>\n",
       "      <td>35.658068</td>\n",
       "      <td>139.751599</td>\n",
       "    </tr>\n",
       "    <tr>\n",
       "      <th>2</th>\n",
       "      <td>air_877f79706adbfb06</td>\n",
       "      <td>2016-01-02 18:00:00</td>\n",
       "      <td>2016-01-01 16:00:00</td>\n",
       "      <td>2</td>\n",
       "      <td>Japanese food</td>\n",
       "      <td>Tōkyō-to Minato-ku Shibakōen</td>\n",
       "      <td>35.658068</td>\n",
       "      <td>139.751599</td>\n",
       "    </tr>\n",
       "    <tr>\n",
       "      <th>...</th>\n",
       "      <td>...</td>\n",
       "      <td>...</td>\n",
       "      <td>...</td>\n",
       "      <td>...</td>\n",
       "      <td>...</td>\n",
       "      <td>...</td>\n",
       "      <td>...</td>\n",
       "      <td>...</td>\n",
       "    </tr>\n",
       "    <tr>\n",
       "      <th>92375</th>\n",
       "      <td>air_b3a824511477a4ed</td>\n",
       "      <td>2017-05-21 19:00:00</td>\n",
       "      <td>2017-04-20 19:00:00</td>\n",
       "      <td>2</td>\n",
       "      <td>Japanese food</td>\n",
       "      <td>Tōkyō-to Minato-ku Shibakōen</td>\n",
       "      <td>35.658068</td>\n",
       "      <td>139.751599</td>\n",
       "    </tr>\n",
       "    <tr>\n",
       "      <th>92376</th>\n",
       "      <td>air_cf2229e64408d9fe</td>\n",
       "      <td>2017-04-20 23:00:00</td>\n",
       "      <td>2017-04-20 10:00:00</td>\n",
       "      <td>2</td>\n",
       "      <td>Dining bar</td>\n",
       "      <td>Ōsaka-fu Ōsaka-shi Ōgimachi</td>\n",
       "      <td>34.705362</td>\n",
       "      <td>135.510025</td>\n",
       "    </tr>\n",
       "    <tr>\n",
       "      <th>92377</th>\n",
       "      <td>air_e700e390226d9985</td>\n",
       "      <td>2017-05-23 19:00:00</td>\n",
       "      <td>2017-04-14 16:00:00</td>\n",
       "      <td>11</td>\n",
       "      <td>Izakaya</td>\n",
       "      <td>Miyagi-ken Sendai-shi Kamisugi</td>\n",
       "      <td>38.269076</td>\n",
       "      <td>140.870403</td>\n",
       "    </tr>\n",
       "  </tbody>\n",
       "</table>\n",
       "<p>92378 rows × 8 columns</p>\n",
       "</div>"
      ],
      "text/plain": [
       "               air_store_id       visit_datetime     reserve_datetime  \\\n",
       "0      air_877f79706adbfb06  2016-01-01 19:00:00  2016-01-01 16:00:00   \n",
       "1      air_877f79706adbfb06  2016-01-01 20:00:00  2016-01-01 16:00:00   \n",
       "2      air_877f79706adbfb06  2016-01-02 18:00:00  2016-01-01 16:00:00   \n",
       "...                     ...                  ...                  ...   \n",
       "92375  air_b3a824511477a4ed  2017-05-21 19:00:00  2017-04-20 19:00:00   \n",
       "92376  air_cf2229e64408d9fe  2017-04-20 23:00:00  2017-04-20 10:00:00   \n",
       "92377  air_e700e390226d9985  2017-05-23 19:00:00  2017-04-14 16:00:00   \n",
       "\n",
       "       reserve_visitors air_genre_name                   air_area_name  \\\n",
       "0                     1  Japanese food    Tōkyō-to Minato-ku Shibakōen   \n",
       "1                     2  Japanese food    Tōkyō-to Minato-ku Shibakōen   \n",
       "2                     2  Japanese food    Tōkyō-to Minato-ku Shibakōen   \n",
       "...                 ...            ...                             ...   \n",
       "92375                 2  Japanese food    Tōkyō-to Minato-ku Shibakōen   \n",
       "92376                 2     Dining bar     Ōsaka-fu Ōsaka-shi Ōgimachi   \n",
       "92377                11        Izakaya  Miyagi-ken Sendai-shi Kamisugi   \n",
       "\n",
       "        latitude   longitude  \n",
       "0      35.658068  139.751599  \n",
       "1      35.658068  139.751599  \n",
       "2      35.658068  139.751599  \n",
       "...          ...         ...  \n",
       "92375  35.658068  139.751599  \n",
       "92376  34.705362  135.510025  \n",
       "92377  38.269076  140.870403  \n",
       "\n",
       "[92378 rows x 8 columns]"
      ]
     },
     "execution_count": 217,
     "metadata": {},
     "output_type": "execute_result"
    }
   ],
   "source": [
    "air = pd.merge(airres, airstore, on='air_store_id')\n",
    "air"
   ]
  },
  {
   "cell_type": "code",
   "execution_count": 218,
   "metadata": {},
   "outputs": [
    {
     "data": {
      "text/plain": [
       "False"
      ]
     },
     "execution_count": 218,
     "metadata": {},
     "output_type": "execute_result"
    }
   ],
   "source": [
    "air.isnull().sum().any()"
   ]
  },
  {
   "cell_type": "code",
   "execution_count": 219,
   "metadata": {},
   "outputs": [
    {
     "data": {
      "text/plain": [
       "air_8093d0b565e9dbdf    2263\n",
       "air_e55abd740f93ecc4    1903\n",
       "air_0a74a5408a0b8642    1831\n",
       "                        ... \n",
       "air_cf2229e64408d9fe       1\n",
       "air_96005f79124e12bf       1\n",
       "air_883ca28ef0ed3d55       1\n",
       "Name: air_store_id, Length: 314, dtype: int64"
      ]
     },
     "execution_count": 219,
     "metadata": {},
     "output_type": "execute_result"
    }
   ],
   "source": [
    "air.air_store_id.value_counts()"
   ]
  },
  {
   "cell_type": "code",
   "execution_count": 220,
   "metadata": {
    "scrolled": true
   },
   "outputs": [
    {
     "data": {
      "text/html": [
       "<div>\n",
       "<style scoped>\n",
       "    .dataframe tbody tr th:only-of-type {\n",
       "        vertical-align: middle;\n",
       "    }\n",
       "\n",
       "    .dataframe tbody tr th {\n",
       "        vertical-align: top;\n",
       "    }\n",
       "\n",
       "    .dataframe thead th {\n",
       "        text-align: right;\n",
       "    }\n",
       "</style>\n",
       "<table border=\"1\" class=\"dataframe\">\n",
       "  <thead>\n",
       "    <tr style=\"text-align: right;\">\n",
       "      <th></th>\n",
       "      <th>hpg_store_id</th>\n",
       "      <th>visit_datetime</th>\n",
       "      <th>reserve_datetime</th>\n",
       "      <th>reserve_visitors</th>\n",
       "    </tr>\n",
       "  </thead>\n",
       "  <tbody>\n",
       "    <tr>\n",
       "      <th>0</th>\n",
       "      <td>hpg_c63f6f42e088e50f</td>\n",
       "      <td>2016-01-01 11:00:00</td>\n",
       "      <td>2016-01-01 09:00:00</td>\n",
       "      <td>1</td>\n",
       "    </tr>\n",
       "    <tr>\n",
       "      <th>1</th>\n",
       "      <td>hpg_dac72789163a3f47</td>\n",
       "      <td>2016-01-01 13:00:00</td>\n",
       "      <td>2016-01-01 06:00:00</td>\n",
       "      <td>3</td>\n",
       "    </tr>\n",
       "    <tr>\n",
       "      <th>2</th>\n",
       "      <td>hpg_c8e24dcf51ca1eb5</td>\n",
       "      <td>2016-01-01 16:00:00</td>\n",
       "      <td>2016-01-01 14:00:00</td>\n",
       "      <td>2</td>\n",
       "    </tr>\n",
       "    <tr>\n",
       "      <th>...</th>\n",
       "      <td>...</td>\n",
       "      <td>...</td>\n",
       "      <td>...</td>\n",
       "      <td>...</td>\n",
       "    </tr>\n",
       "    <tr>\n",
       "      <th>2000317</th>\n",
       "      <td>hpg_e9151de687b93aa3</td>\n",
       "      <td>2017-05-31 21:00:00</td>\n",
       "      <td>2017-04-14 20:00:00</td>\n",
       "      <td>49</td>\n",
       "    </tr>\n",
       "    <tr>\n",
       "      <th>2000318</th>\n",
       "      <td>hpg_fae6c96189b4a122</td>\n",
       "      <td>2017-05-31 21:00:00</td>\n",
       "      <td>2017-04-19 17:00:00</td>\n",
       "      <td>9</td>\n",
       "    </tr>\n",
       "    <tr>\n",
       "      <th>2000319</th>\n",
       "      <td>hpg_0b70de808b55ad1e</td>\n",
       "      <td>2017-05-31 23:00:00</td>\n",
       "      <td>2017-04-21 13:00:00</td>\n",
       "      <td>6</td>\n",
       "    </tr>\n",
       "  </tbody>\n",
       "</table>\n",
       "<p>2000320 rows × 4 columns</p>\n",
       "</div>"
      ],
      "text/plain": [
       "                 hpg_store_id       visit_datetime     reserve_datetime  \\\n",
       "0        hpg_c63f6f42e088e50f  2016-01-01 11:00:00  2016-01-01 09:00:00   \n",
       "1        hpg_dac72789163a3f47  2016-01-01 13:00:00  2016-01-01 06:00:00   \n",
       "2        hpg_c8e24dcf51ca1eb5  2016-01-01 16:00:00  2016-01-01 14:00:00   \n",
       "...                       ...                  ...                  ...   \n",
       "2000317  hpg_e9151de687b93aa3  2017-05-31 21:00:00  2017-04-14 20:00:00   \n",
       "2000318  hpg_fae6c96189b4a122  2017-05-31 21:00:00  2017-04-19 17:00:00   \n",
       "2000319  hpg_0b70de808b55ad1e  2017-05-31 23:00:00  2017-04-21 13:00:00   \n",
       "\n",
       "         reserve_visitors  \n",
       "0                       1  \n",
       "1                       3  \n",
       "2                       2  \n",
       "...                   ...  \n",
       "2000317                49  \n",
       "2000318                 9  \n",
       "2000319                 6  \n",
       "\n",
       "[2000320 rows x 4 columns]"
      ]
     },
     "execution_count": 220,
     "metadata": {},
     "output_type": "execute_result"
    }
   ],
   "source": [
    "hpgres"
   ]
  },
  {
   "cell_type": "code",
   "execution_count": 221,
   "metadata": {},
   "outputs": [
    {
     "data": {
      "text/html": [
       "<div>\n",
       "<style scoped>\n",
       "    .dataframe tbody tr th:only-of-type {\n",
       "        vertical-align: middle;\n",
       "    }\n",
       "\n",
       "    .dataframe tbody tr th {\n",
       "        vertical-align: top;\n",
       "    }\n",
       "\n",
       "    .dataframe thead th {\n",
       "        text-align: right;\n",
       "    }\n",
       "</style>\n",
       "<table border=\"1\" class=\"dataframe\">\n",
       "  <thead>\n",
       "    <tr style=\"text-align: right;\">\n",
       "      <th></th>\n",
       "      <th>hpg_store_id</th>\n",
       "      <th>hpg_genre_name</th>\n",
       "      <th>hpg_area_name</th>\n",
       "      <th>latitude</th>\n",
       "      <th>longitude</th>\n",
       "    </tr>\n",
       "  </thead>\n",
       "  <tbody>\n",
       "    <tr>\n",
       "      <th>0</th>\n",
       "      <td>hpg_6622b62385aec8bf</td>\n",
       "      <td>Japanese style</td>\n",
       "      <td>Tōkyō-to Setagaya-ku Taishidō</td>\n",
       "      <td>35.643675</td>\n",
       "      <td>139.668221</td>\n",
       "    </tr>\n",
       "    <tr>\n",
       "      <th>1</th>\n",
       "      <td>hpg_e9e068dd49c5fa00</td>\n",
       "      <td>Japanese style</td>\n",
       "      <td>Tōkyō-to Setagaya-ku Taishidō</td>\n",
       "      <td>35.643675</td>\n",
       "      <td>139.668221</td>\n",
       "    </tr>\n",
       "    <tr>\n",
       "      <th>2</th>\n",
       "      <td>hpg_2976f7acb4b3a3bc</td>\n",
       "      <td>Japanese style</td>\n",
       "      <td>Tōkyō-to Setagaya-ku Taishidō</td>\n",
       "      <td>35.643675</td>\n",
       "      <td>139.668221</td>\n",
       "    </tr>\n",
       "    <tr>\n",
       "      <th>...</th>\n",
       "      <td>...</td>\n",
       "      <td>...</td>\n",
       "      <td>...</td>\n",
       "      <td>...</td>\n",
       "      <td>...</td>\n",
       "    </tr>\n",
       "    <tr>\n",
       "      <th>4687</th>\n",
       "      <td>hpg_d2021704076cdd70</td>\n",
       "      <td>Shanghai food</td>\n",
       "      <td>Tōkyō-to Chiyoda-ku None</td>\n",
       "      <td>35.695780</td>\n",
       "      <td>139.768453</td>\n",
       "    </tr>\n",
       "    <tr>\n",
       "      <th>4688</th>\n",
       "      <td>hpg_602472570d65e219</td>\n",
       "      <td>Spain/Mediterranean cuisine</td>\n",
       "      <td>Tōkyō-to Toshima-ku None</td>\n",
       "      <td>35.730068</td>\n",
       "      <td>139.711742</td>\n",
       "    </tr>\n",
       "    <tr>\n",
       "      <th>4689</th>\n",
       "      <td>hpg_11801306ce8bfb4f</td>\n",
       "      <td>Udon/Soba</td>\n",
       "      <td>Osaka Prefecture Osaka None</td>\n",
       "      <td>34.701519</td>\n",
       "      <td>135.498859</td>\n",
       "    </tr>\n",
       "  </tbody>\n",
       "</table>\n",
       "<p>4690 rows × 5 columns</p>\n",
       "</div>"
      ],
      "text/plain": [
       "              hpg_store_id               hpg_genre_name  \\\n",
       "0     hpg_6622b62385aec8bf               Japanese style   \n",
       "1     hpg_e9e068dd49c5fa00               Japanese style   \n",
       "2     hpg_2976f7acb4b3a3bc               Japanese style   \n",
       "...                    ...                          ...   \n",
       "4687  hpg_d2021704076cdd70                Shanghai food   \n",
       "4688  hpg_602472570d65e219  Spain/Mediterranean cuisine   \n",
       "4689  hpg_11801306ce8bfb4f                    Udon/Soba   \n",
       "\n",
       "                      hpg_area_name   latitude   longitude  \n",
       "0     Tōkyō-to Setagaya-ku Taishidō  35.643675  139.668221  \n",
       "1     Tōkyō-to Setagaya-ku Taishidō  35.643675  139.668221  \n",
       "2     Tōkyō-to Setagaya-ku Taishidō  35.643675  139.668221  \n",
       "...                             ...        ...         ...  \n",
       "4687       Tōkyō-to Chiyoda-ku None  35.695780  139.768453  \n",
       "4688       Tōkyō-to Toshima-ku None  35.730068  139.711742  \n",
       "4689    Osaka Prefecture Osaka None  34.701519  135.498859  \n",
       "\n",
       "[4690 rows x 5 columns]"
      ]
     },
     "execution_count": 221,
     "metadata": {},
     "output_type": "execute_result"
    }
   ],
   "source": [
    "hpgstore"
   ]
  },
  {
   "cell_type": "code",
   "execution_count": 222,
   "metadata": {},
   "outputs": [
    {
     "data": {
      "text/html": [
       "<div>\n",
       "<style scoped>\n",
       "    .dataframe tbody tr th:only-of-type {\n",
       "        vertical-align: middle;\n",
       "    }\n",
       "\n",
       "    .dataframe tbody tr th {\n",
       "        vertical-align: top;\n",
       "    }\n",
       "\n",
       "    .dataframe thead th {\n",
       "        text-align: right;\n",
       "    }\n",
       "</style>\n",
       "<table border=\"1\" class=\"dataframe\">\n",
       "  <thead>\n",
       "    <tr style=\"text-align: right;\">\n",
       "      <th></th>\n",
       "      <th>air_store_id</th>\n",
       "      <th>visit_datetime</th>\n",
       "      <th>reserve_datetime</th>\n",
       "      <th>reserve_visitors</th>\n",
       "      <th>air_genre_name</th>\n",
       "      <th>air_area_name</th>\n",
       "      <th>latitude</th>\n",
       "      <th>longitude</th>\n",
       "    </tr>\n",
       "  </thead>\n",
       "  <tbody>\n",
       "    <tr>\n",
       "      <th>0</th>\n",
       "      <td>air_877f79706adbfb06</td>\n",
       "      <td>2016-01-01 19:00:00</td>\n",
       "      <td>2016-01-01 16:00:00</td>\n",
       "      <td>1</td>\n",
       "      <td>Japanese food</td>\n",
       "      <td>Tōkyō-to Minato-ku Shibakōen</td>\n",
       "      <td>35.658068</td>\n",
       "      <td>139.751599</td>\n",
       "    </tr>\n",
       "    <tr>\n",
       "      <th>1</th>\n",
       "      <td>air_877f79706adbfb06</td>\n",
       "      <td>2016-01-01 20:00:00</td>\n",
       "      <td>2016-01-01 16:00:00</td>\n",
       "      <td>2</td>\n",
       "      <td>Japanese food</td>\n",
       "      <td>Tōkyō-to Minato-ku Shibakōen</td>\n",
       "      <td>35.658068</td>\n",
       "      <td>139.751599</td>\n",
       "    </tr>\n",
       "    <tr>\n",
       "      <th>2</th>\n",
       "      <td>air_877f79706adbfb06</td>\n",
       "      <td>2016-01-02 18:00:00</td>\n",
       "      <td>2016-01-01 16:00:00</td>\n",
       "      <td>2</td>\n",
       "      <td>Japanese food</td>\n",
       "      <td>Tōkyō-to Minato-ku Shibakōen</td>\n",
       "      <td>35.658068</td>\n",
       "      <td>139.751599</td>\n",
       "    </tr>\n",
       "    <tr>\n",
       "      <th>...</th>\n",
       "      <td>...</td>\n",
       "      <td>...</td>\n",
       "      <td>...</td>\n",
       "      <td>...</td>\n",
       "      <td>...</td>\n",
       "      <td>...</td>\n",
       "      <td>...</td>\n",
       "      <td>...</td>\n",
       "    </tr>\n",
       "    <tr>\n",
       "      <th>92375</th>\n",
       "      <td>air_b3a824511477a4ed</td>\n",
       "      <td>2017-05-21 19:00:00</td>\n",
       "      <td>2017-04-20 19:00:00</td>\n",
       "      <td>2</td>\n",
       "      <td>Japanese food</td>\n",
       "      <td>Tōkyō-to Minato-ku Shibakōen</td>\n",
       "      <td>35.658068</td>\n",
       "      <td>139.751599</td>\n",
       "    </tr>\n",
       "    <tr>\n",
       "      <th>92376</th>\n",
       "      <td>air_cf2229e64408d9fe</td>\n",
       "      <td>2017-04-20 23:00:00</td>\n",
       "      <td>2017-04-20 10:00:00</td>\n",
       "      <td>2</td>\n",
       "      <td>Dining bar</td>\n",
       "      <td>Ōsaka-fu Ōsaka-shi Ōgimachi</td>\n",
       "      <td>34.705362</td>\n",
       "      <td>135.510025</td>\n",
       "    </tr>\n",
       "    <tr>\n",
       "      <th>92377</th>\n",
       "      <td>air_e700e390226d9985</td>\n",
       "      <td>2017-05-23 19:00:00</td>\n",
       "      <td>2017-04-14 16:00:00</td>\n",
       "      <td>11</td>\n",
       "      <td>Izakaya</td>\n",
       "      <td>Miyagi-ken Sendai-shi Kamisugi</td>\n",
       "      <td>38.269076</td>\n",
       "      <td>140.870403</td>\n",
       "    </tr>\n",
       "  </tbody>\n",
       "</table>\n",
       "<p>92378 rows × 8 columns</p>\n",
       "</div>"
      ],
      "text/plain": [
       "               air_store_id       visit_datetime     reserve_datetime  \\\n",
       "0      air_877f79706adbfb06  2016-01-01 19:00:00  2016-01-01 16:00:00   \n",
       "1      air_877f79706adbfb06  2016-01-01 20:00:00  2016-01-01 16:00:00   \n",
       "2      air_877f79706adbfb06  2016-01-02 18:00:00  2016-01-01 16:00:00   \n",
       "...                     ...                  ...                  ...   \n",
       "92375  air_b3a824511477a4ed  2017-05-21 19:00:00  2017-04-20 19:00:00   \n",
       "92376  air_cf2229e64408d9fe  2017-04-20 23:00:00  2017-04-20 10:00:00   \n",
       "92377  air_e700e390226d9985  2017-05-23 19:00:00  2017-04-14 16:00:00   \n",
       "\n",
       "       reserve_visitors air_genre_name                   air_area_name  \\\n",
       "0                     1  Japanese food    Tōkyō-to Minato-ku Shibakōen   \n",
       "1                     2  Japanese food    Tōkyō-to Minato-ku Shibakōen   \n",
       "2                     2  Japanese food    Tōkyō-to Minato-ku Shibakōen   \n",
       "...                 ...            ...                             ...   \n",
       "92375                 2  Japanese food    Tōkyō-to Minato-ku Shibakōen   \n",
       "92376                 2     Dining bar     Ōsaka-fu Ōsaka-shi Ōgimachi   \n",
       "92377                11        Izakaya  Miyagi-ken Sendai-shi Kamisugi   \n",
       "\n",
       "        latitude   longitude  \n",
       "0      35.658068  139.751599  \n",
       "1      35.658068  139.751599  \n",
       "2      35.658068  139.751599  \n",
       "...          ...         ...  \n",
       "92375  35.658068  139.751599  \n",
       "92376  34.705362  135.510025  \n",
       "92377  38.269076  140.870403  \n",
       "\n",
       "[92378 rows x 8 columns]"
      ]
     },
     "execution_count": 222,
     "metadata": {},
     "output_type": "execute_result"
    }
   ],
   "source": [
    "air"
   ]
  },
  {
   "cell_type": "code",
   "execution_count": 224,
   "metadata": {
    "_cell_guid": "4cf88ec5-0b82-454f-977d-3d9c8ab319ed",
    "_uuid": "aebdc24aeb2c5463e33d65ee98a40dcbbb866c78"
   },
   "outputs": [
    {
     "name": "stdout",
     "output_type": "stream",
     "text": [
      "there are  92378  restaurants with AIR and  871308  with HPG. 150  have both.\n"
     ]
    }
   ],
   "source": [
    "#\n",
    "air = pd.merge(airres, airstore, on='air_store_id') # airres　に genre, area position　などを追加\n",
    "hpg = pd.merge(hpgres, hpgstore, on='hpg_store_id') # 上と同様\n",
    "rel = pd.read_csv('store_id_relation.csv') # air_store_id と hpg_store_id　の2つ（対応を示している）\n",
    "airrel = pd.merge(air, rel, how='left',on='air_store_id') # 314個中 150個　対応がありそう\n",
    "hpgrel = pd.merge(hpg, rel, how='left',on='hpg_store_id')\n",
    "full = pd.merge(airrel, hpgrel, how='outer')\n",
    "print(\"there are \",len(air),\" restaurants with AIR and \",len(hpg),\" with HPG.\",len(rel),' have both.')"
   ]
  },
  {
   "cell_type": "markdown",
   "metadata": {
    "_cell_guid": "631c0199-cd66-465b-8058-079ebf12fadd",
    "_uuid": "bf4a642de8ed75f0da36b171b735b1277ab662ab"
   },
   "source": [
    "## A Bit of Geography and Clustering"
   ]
  },
  {
   "cell_type": "markdown",
   "metadata": {
    "_cell_guid": "2fda040b-40f9-43e0-a582-c3bf53679086",
    "_uuid": "f4196cb08968577f49f3908abe7eccd8ab74483b"
   },
   "source": [
    "Apparently Japan's terittory is divided in 8 regions which are not official administrative units, but have been traditionally used as the regional division of Japan in a number of contexts [https://en.wikipedia.org/wiki/List_of_regions_of_Japan ]\n",
    "\n",
    "From north to south, the traditional regions are:\n",
    "* **Hokkaidō** (the island of Hokkaidō and nearby islands, population: 5,507,456, largest city: Sapporo)\n",
    "* **Tōhoku** region (northern Honshū, population: 9,335,088, largest city: Sendai)\n",
    "* **Kantō** region (eastern Honshū, population: 42,607,376, largest city: Tokyo)\n",
    "* **Chūbu region** (central Honshū, including Mt. Fuji, population: 21,714,995, largest city: Nagoya), sometimes divided into:\n",
    "   * Hokuriku region (northwestern Chūbu, largest city: Kanazawa)\n",
    "   * Kōshin'etsu region (northeastern Chūbu, largest city: Niigata)\n",
    "  * Tōkai region (southern Chūbu, largest city: Nagoya)\n",
    "* **Kansai or Kinki** region (west-central Honshū, including the old capital, Kyoto, population: 22,755,030, largest city: Osaka)\n",
    "* **Chūgoku** region (western Honshū, population: 7,561,899, largest city: Hiroshima)\n",
    "* **Shikoku** (island, population: 3,977,205, largest city: Matsuyama)\n",
    "* **Kyūshū** (island, population: 14,596,977, largest city: Fukuoka) which includes:\n",
    "  * Northern Kyushu: Fukuoka, Saga, Nagasaki and Ōita (largest city: Fukuoka)\n",
    "  * Southern Kyushu: Kumamoto, Miyazaki and Kagoshima (largest city: Kagoshima)\n",
    "  * Okinawa (largest city: Naha)"
   ]
  },
  {
   "cell_type": "markdown",
   "metadata": {
    "_cell_guid": "88f657e7-8bf9-4344-9d2d-1ab1634e052d",
    "_uuid": "5f2c53906133e643a179a7c64b6a6fb22cf36316"
   },
   "source": [
    "![](http://goinjapanesque.com/wpos/wp-content/uploads/2015/07/Japan-map-en.png)"
   ]
  },
  {
   "cell_type": "markdown",
   "metadata": {
    "_cell_guid": "a10944ab-4477-4bb9-ab2c-5ef154346723",
    "_uuid": "250094ee0db7f59104f4a576be3e3ffdec2337ca"
   },
   "source": [
    "I am now going to identify 10 clusters with KMeans according to the restaurants' coordinates. Markers of different clusters will be depicted with different colors. I will place a black dot representing the cluster centroid with a label identifying it as an integer. I will also place a label close to the cluster with the name of the Japan region in which that cluster relies."
   ]
  },
  {
   "cell_type": "code",
   "execution_count": 225,
   "metadata": {
    "scrolled": false
   },
   "outputs": [
    {
     "data": {
      "text/html": [
       "<div>\n",
       "<style scoped>\n",
       "    .dataframe tbody tr th:only-of-type {\n",
       "        vertical-align: middle;\n",
       "    }\n",
       "\n",
       "    .dataframe tbody tr th {\n",
       "        vertical-align: top;\n",
       "    }\n",
       "\n",
       "    .dataframe thead th {\n",
       "        text-align: right;\n",
       "    }\n",
       "</style>\n",
       "<table border=\"1\" class=\"dataframe\">\n",
       "  <thead>\n",
       "    <tr style=\"text-align: right;\">\n",
       "      <th></th>\n",
       "      <th>air_store_id</th>\n",
       "      <th>visit_datetime</th>\n",
       "      <th>reserve_datetime</th>\n",
       "      <th>reserve_visitors</th>\n",
       "      <th>air_genre_name</th>\n",
       "      <th>air_area_name</th>\n",
       "      <th>latitude</th>\n",
       "      <th>longitude</th>\n",
       "      <th>hpg_store_id</th>\n",
       "      <th>hpg_genre_name</th>\n",
       "      <th>hpg_area_name</th>\n",
       "    </tr>\n",
       "  </thead>\n",
       "  <tbody>\n",
       "    <tr>\n",
       "      <th>0</th>\n",
       "      <td>air_877f79706adbfb06</td>\n",
       "      <td>2016-01-01 19:00:00</td>\n",
       "      <td>2016-01-01 16:00:00</td>\n",
       "      <td>1</td>\n",
       "      <td>Japanese food</td>\n",
       "      <td>Tōkyō-to Minato-ku Shibakōen</td>\n",
       "      <td>35.658068</td>\n",
       "      <td>139.751599</td>\n",
       "      <td>NaN</td>\n",
       "      <td>NaN</td>\n",
       "      <td>NaN</td>\n",
       "    </tr>\n",
       "    <tr>\n",
       "      <th>1</th>\n",
       "      <td>air_877f79706adbfb06</td>\n",
       "      <td>2016-01-01 20:00:00</td>\n",
       "      <td>2016-01-01 16:00:00</td>\n",
       "      <td>2</td>\n",
       "      <td>Japanese food</td>\n",
       "      <td>Tōkyō-to Minato-ku Shibakōen</td>\n",
       "      <td>35.658068</td>\n",
       "      <td>139.751599</td>\n",
       "      <td>NaN</td>\n",
       "      <td>NaN</td>\n",
       "      <td>NaN</td>\n",
       "    </tr>\n",
       "    <tr>\n",
       "      <th>2</th>\n",
       "      <td>air_877f79706adbfb06</td>\n",
       "      <td>2016-01-02 18:00:00</td>\n",
       "      <td>2016-01-01 16:00:00</td>\n",
       "      <td>2</td>\n",
       "      <td>Japanese food</td>\n",
       "      <td>Tōkyō-to Minato-ku Shibakōen</td>\n",
       "      <td>35.658068</td>\n",
       "      <td>139.751599</td>\n",
       "      <td>NaN</td>\n",
       "      <td>NaN</td>\n",
       "      <td>NaN</td>\n",
       "    </tr>\n",
       "    <tr>\n",
       "      <th>...</th>\n",
       "      <td>...</td>\n",
       "      <td>...</td>\n",
       "      <td>...</td>\n",
       "      <td>...</td>\n",
       "      <td>...</td>\n",
       "      <td>...</td>\n",
       "      <td>...</td>\n",
       "      <td>...</td>\n",
       "      <td>...</td>\n",
       "      <td>...</td>\n",
       "      <td>...</td>\n",
       "    </tr>\n",
       "    <tr>\n",
       "      <th>963683</th>\n",
       "      <td>NaN</td>\n",
       "      <td>2017-04-24 19:00:00</td>\n",
       "      <td>2017-04-22 14:00:00</td>\n",
       "      <td>15</td>\n",
       "      <td>NaN</td>\n",
       "      <td>NaN</td>\n",
       "      <td>35.682504</td>\n",
       "      <td>139.773619</td>\n",
       "      <td>hpg_e106ddef2b137959</td>\n",
       "      <td>Japanese style</td>\n",
       "      <td>Tōkyō-to Chūō-ku None</td>\n",
       "    </tr>\n",
       "    <tr>\n",
       "      <th>963684</th>\n",
       "      <td>NaN</td>\n",
       "      <td>2017-04-24 19:00:00</td>\n",
       "      <td>2017-04-10 17:00:00</td>\n",
       "      <td>18</td>\n",
       "      <td>NaN</td>\n",
       "      <td>NaN</td>\n",
       "      <td>35.682504</td>\n",
       "      <td>139.773619</td>\n",
       "      <td>hpg_e106ddef2b137959</td>\n",
       "      <td>Japanese style</td>\n",
       "      <td>Tōkyō-to Chūō-ku None</td>\n",
       "    </tr>\n",
       "    <tr>\n",
       "      <th>963685</th>\n",
       "      <td>NaN</td>\n",
       "      <td>2017-04-28 18:00:00</td>\n",
       "      <td>2017-04-10 17:00:00</td>\n",
       "      <td>22</td>\n",
       "      <td>NaN</td>\n",
       "      <td>NaN</td>\n",
       "      <td>35.682504</td>\n",
       "      <td>139.773619</td>\n",
       "      <td>hpg_e106ddef2b137959</td>\n",
       "      <td>Japanese style</td>\n",
       "      <td>Tōkyō-to Chūō-ku None</td>\n",
       "    </tr>\n",
       "  </tbody>\n",
       "</table>\n",
       "<p>963686 rows × 11 columns</p>\n",
       "</div>"
      ],
      "text/plain": [
       "                air_store_id       visit_datetime     reserve_datetime  \\\n",
       "0       air_877f79706adbfb06  2016-01-01 19:00:00  2016-01-01 16:00:00   \n",
       "1       air_877f79706adbfb06  2016-01-01 20:00:00  2016-01-01 16:00:00   \n",
       "2       air_877f79706adbfb06  2016-01-02 18:00:00  2016-01-01 16:00:00   \n",
       "...                      ...                  ...                  ...   \n",
       "963683                   NaN  2017-04-24 19:00:00  2017-04-22 14:00:00   \n",
       "963684                   NaN  2017-04-24 19:00:00  2017-04-10 17:00:00   \n",
       "963685                   NaN  2017-04-28 18:00:00  2017-04-10 17:00:00   \n",
       "\n",
       "        reserve_visitors air_genre_name                 air_area_name  \\\n",
       "0                      1  Japanese food  Tōkyō-to Minato-ku Shibakōen   \n",
       "1                      2  Japanese food  Tōkyō-to Minato-ku Shibakōen   \n",
       "2                      2  Japanese food  Tōkyō-to Minato-ku Shibakōen   \n",
       "...                  ...            ...                           ...   \n",
       "963683                15            NaN                           NaN   \n",
       "963684                18            NaN                           NaN   \n",
       "963685                22            NaN                           NaN   \n",
       "\n",
       "         latitude   longitude          hpg_store_id  hpg_genre_name  \\\n",
       "0       35.658068  139.751599                   NaN             NaN   \n",
       "1       35.658068  139.751599                   NaN             NaN   \n",
       "2       35.658068  139.751599                   NaN             NaN   \n",
       "...           ...         ...                   ...             ...   \n",
       "963683  35.682504  139.773619  hpg_e106ddef2b137959  Japanese style   \n",
       "963684  35.682504  139.773619  hpg_e106ddef2b137959  Japanese style   \n",
       "963685  35.682504  139.773619  hpg_e106ddef2b137959  Japanese style   \n",
       "\n",
       "                hpg_area_name  \n",
       "0                         NaN  \n",
       "1                         NaN  \n",
       "2                         NaN  \n",
       "...                       ...  \n",
       "963683  Tōkyō-to Chūō-ku None  \n",
       "963684  Tōkyō-to Chūō-ku None  \n",
       "963685  Tōkyō-to Chūō-ku None  \n",
       "\n",
       "[963686 rows x 11 columns]"
      ]
     },
     "execution_count": 225,
     "metadata": {},
     "output_type": "execute_result"
    }
   ],
   "source": [
    "full"
   ]
  },
  {
   "cell_type": "code",
   "execution_count": 226,
   "metadata": {
    "_cell_guid": "b22b114a-460f-40a1-ac75-ec310536e66f",
    "_uuid": "dcc991a9081862e2dca69132bc4f2627fc9ce370"
   },
   "outputs": [],
   "source": [
    "#\n",
    "from sklearn.cluster import KMeans\n",
    "kmeans = KMeans(n_clusters=10, random_state=0).fit(full[['longitude','latitude']])\n",
    "full['cluster'] = kmeans.predict(full[['longitude','latitude']])"
   ]
  },
  {
   "cell_type": "code",
   "execution_count": 227,
   "metadata": {},
   "outputs": [
    {
     "data": {
      "text/plain": [
       "<matplotlib.collections.PathCollection at 0x1133edbe0>"
      ]
     },
     "execution_count": 227,
     "metadata": {},
     "output_type": "execute_result"
    },
    {
     "data": {
      "image/png": "[encoded data removed]",
      "text/plain": [
       "<Figure size 432x288 with 1 Axes>"
      ]
     },
     "metadata": {},
     "output_type": "display_data"
    }
   ],
   "source": [
    "import matplotlib.pyplot as plt\n",
    "plt.scatter(full.longitude, full.latitude)"
   ]
  },
  {
   "cell_type": "code",
   "execution_count": 228,
   "metadata": {
    "scrolled": true
   },
   "outputs": [
    {
     "data": {
      "text/plain": [
       "0    402108\n",
       "1    136345\n",
       "3     96026\n",
       "      ...  \n",
       "4     36354\n",
       "7     34913\n",
       "8     16092\n",
       "Name: cluster, Length: 10, dtype: int64"
      ]
     },
     "execution_count": 228,
     "metadata": {},
     "output_type": "execute_result"
    }
   ],
   "source": [
    "full['cluster'].value_counts()"
   ]
  },
  {
   "cell_type": "markdown",
   "metadata": {},
   "source": [
    "![](japanese-map.png)"
   ]
  },
  {
   "cell_type": "markdown",
   "metadata": {
    "_cell_guid": "0ceaf953-0cd1-47d8-b52e-d561fbf2e47a",
    "_uuid": "d9439774d4774430215ca0685287e2a87c75eac4"
   },
   "source": [
    "Let's try to relate the identified groups with the biggest cities:\n",
    "\n",
    "* Cluster 0 refers to Tokyo.\n",
    "* Cluster 1 refers  to Osaka\n",
    "* Cluster 2 refers to Sapporo\n",
    "* Cluster 3 refers to Fukuoka\n",
    "* Cluster 4 refers to Niigata\n",
    "* Cluster 5 referst to Hiroshima\n",
    "* Cluster 6 refers to Shizouku\n",
    "* Cluster 7 refers to Sendai\n",
    "* Cluster 9 refers to Kobe"
   ]
  },
  {
   "cell_type": "code",
   "execution_count": 229,
   "metadata": {},
   "outputs": [],
   "source": [
    "import matplotlib.pyplot as plt"
   ]
  },
  {
   "cell_type": "code",
   "execution_count": 230,
   "metadata": {
    "_cell_guid": "1234ed4d-1d3c-422d-835b-e896d2cb9bc4",
    "_uuid": "d5b84929459a4b07b29b53ef74c5aee8ea52f743",
    "scrolled": false
   },
   "outputs": [
    {
     "data": {
      "image/png": "[encoded data removed]",
      "text/plain": [
       "<Figure size 1080x432 with 2 Axes>"
      ]
     },
     "metadata": {},
     "output_type": "display_data"
    }
   ],
   "source": [
    "f,axa = plt.subplots(1,2,figsize=(15,6))\n",
    "hist_clust = full.groupby(['cluster'], as_index=False).count()\n",
    "sns.barplot(x=hist_clust.cluster, y=hist_clust.air_store_id, ax=axa[0])\n",
    "sns.barplot(x=hist_clust.cluster, y=hist_clust.hpg_store_id, ax=axa[1])\n",
    "plt.show()"
   ]
  },
  {
   "cell_type": "markdown",
   "metadata": {
    "_cell_guid": "c928e1e4-991a-4bdc-a846-349f6a69b326",
    "_uuid": "bf2cf080471b716510ebe8d5adf7e713331e94c2"
   },
   "source": [
    "let's see now how data is distributed"
   ]
  },
  {
   "cell_type": "code",
   "execution_count": 231,
   "metadata": {
    "_cell_guid": "753f487e-469c-4a26-a0ff-c0c3b549ceba",
    "_uuid": "b34cda8e7f2519d2ec0c3fd026f02d349d98b709"
   },
   "outputs": [
    {
     "data": {
      "image/png": "[encoded data removed]",
      "text/plain": [
       "<Figure size 1080x432 with 1 Axes>"
      ]
     },
     "metadata": {},
     "output_type": "display_data"
    }
   ],
   "source": [
    "#\n",
    "f,ax = plt.subplots(1,1,figsize=(15,6))\n",
    "airhist = air.groupby(['air_store_id'], as_index=False).count() # 青\n",
    "sns.distplot(airhist.visit_datetime)\n",
    "hpghist = hpg.groupby(['hpg_store_id'], as_index=False).count() #　オレンジ\n",
    "sns.distplot(hpghist.visit_datetime)\n",
    "plt.show()\n",
    "#sns.barplot(x= airhist.air_store_id,y = airhist.visit_datetime)"
   ]
  },
  {
   "cell_type": "markdown",
   "metadata": {
    "_cell_guid": "110b796f-cb58-4e69-a08f-5375a0c077cf",
    "_uuid": "e40204ecd1b51892850b7e52361197410a402f10"
   },
   "source": [
    "## Cousine Genres"
   ]
  },
  {
   "cell_type": "markdown",
   "metadata": {
    "_cell_guid": "a85cef03-c989-42ec-975d-4620730bd1bc",
    "_uuid": "c40c2bc510a39c65d56d6525fd92739812784cb6"
   },
   "source": [
    "Now let's check out wht are the genres appreciated in Japan. I have prepared two heatmaps: the former with thenumber of restaurants for each genre (columns) in each region (row) for thos with AIR reservation  system; the latter with the HPG.\n",
    "\n",
    "For  the AIR restaurants, It looks like Izakayas, which I learned is a casual place for after-work drinking (like a pub?) https://en.wikipedia.org/wiki/Izakaya,  are the places with the wider appreciation, among regions. \n",
    "\n",
    "Italian and French Restaurants are instead the most appreciated in Tokyo, among the restaurants with the AIR system, which makes me happy since I am Italian :).\n"
   ]
  },
  {
   "cell_type": "code",
   "execution_count": 232,
   "metadata": {},
   "outputs": [],
   "source": [
    "def missing_values_table(df): \n",
    "    mis_val = df.isnull().sum()\n",
    "    mis_val_percent = 100 * df.isnull().sum()/len(df)\n",
    "    mis_val_table = pd.concat([mis_val, mis_val_percent], axis=1)\n",
    "    mis_val_table_ren_columns = mis_val_table.rename(\n",
    "    columns = {0 : 'Missing Values', 1 : '% of Total Values'})\n",
    "    return mis_val_table_ren_columns "
   ]
  },
  {
   "cell_type": "code",
   "execution_count": 233,
   "metadata": {},
   "outputs": [
    {
     "data": {
      "text/html": [
       "<div>\n",
       "<style scoped>\n",
       "    .dataframe tbody tr th:only-of-type {\n",
       "        vertical-align: middle;\n",
       "    }\n",
       "\n",
       "    .dataframe tbody tr th {\n",
       "        vertical-align: top;\n",
       "    }\n",
       "\n",
       "    .dataframe thead th {\n",
       "        text-align: right;\n",
       "    }\n",
       "</style>\n",
       "<table border=\"1\" class=\"dataframe\">\n",
       "  <thead>\n",
       "    <tr style=\"text-align: right;\">\n",
       "      <th></th>\n",
       "      <th>air_store_id</th>\n",
       "      <th>visit_datetime</th>\n",
       "      <th>reserve_datetime</th>\n",
       "      <th>reserve_visitors</th>\n",
       "      <th>air_genre_name</th>\n",
       "      <th>air_area_name</th>\n",
       "      <th>latitude</th>\n",
       "      <th>longitude</th>\n",
       "      <th>hpg_store_id</th>\n",
       "      <th>hpg_genre_name</th>\n",
       "      <th>hpg_area_name</th>\n",
       "      <th>cluster</th>\n",
       "    </tr>\n",
       "  </thead>\n",
       "  <tbody>\n",
       "    <tr>\n",
       "      <th>Missing Values</th>\n",
       "      <td>857780.000000</td>\n",
       "      <td>0.0</td>\n",
       "      <td>0.0</td>\n",
       "      <td>0.0</td>\n",
       "      <td>871308.000000</td>\n",
       "      <td>871308.000000</td>\n",
       "      <td>0.0</td>\n",
       "      <td>0.0</td>\n",
       "      <td>56114.000000</td>\n",
       "      <td>92378.000000</td>\n",
       "      <td>92378.000000</td>\n",
       "      <td>0.0</td>\n",
       "    </tr>\n",
       "    <tr>\n",
       "      <th>% of Total Values</th>\n",
       "      <td>89.010321</td>\n",
       "      <td>0.0</td>\n",
       "      <td>0.0</td>\n",
       "      <td>0.0</td>\n",
       "      <td>90.414098</td>\n",
       "      <td>90.414098</td>\n",
       "      <td>0.0</td>\n",
       "      <td>0.0</td>\n",
       "      <td>5.822851</td>\n",
       "      <td>9.585902</td>\n",
       "      <td>9.585902</td>\n",
       "      <td>0.0</td>\n",
       "    </tr>\n",
       "  </tbody>\n",
       "</table>\n",
       "</div>"
      ],
      "text/plain": [
       "                    air_store_id  visit_datetime  reserve_datetime  \\\n",
       "Missing Values     857780.000000             0.0               0.0   \n",
       "% of Total Values      89.010321             0.0               0.0   \n",
       "\n",
       "                   reserve_visitors  air_genre_name  air_area_name  latitude  \\\n",
       "Missing Values                  0.0   871308.000000  871308.000000       0.0   \n",
       "% of Total Values               0.0       90.414098      90.414098       0.0   \n",
       "\n",
       "                   longitude  hpg_store_id  hpg_genre_name  hpg_area_name  \\\n",
       "Missing Values           0.0  56114.000000    92378.000000   92378.000000   \n",
       "% of Total Values        0.0      5.822851        9.585902       9.585902   \n",
       "\n",
       "                   cluster  \n",
       "Missing Values         0.0  \n",
       "% of Total Values      0.0  "
      ]
     },
     "execution_count": 233,
     "metadata": {},
     "output_type": "execute_result"
    }
   ],
   "source": [
    "missing_values_table(full).T"
   ]
  },
  {
   "cell_type": "code",
   "execution_count": 234,
   "metadata": {},
   "outputs": [],
   "source": [
    "#\n",
    "air_genre = full.loc[full.air_genre_name.isnull() == False].groupby(\n",
    "    ['cluster','air_genre_name'], as_index=False).count()\n",
    "hpg_genre = full.loc[full.hpg_genre_name.isnull() == False].groupby(\n",
    "    ['cluster','hpg_genre_name'], as_index=False).count()"
   ]
  },
  {
   "cell_type": "code",
   "execution_count": 235,
   "metadata": {
    "scrolled": true
   },
   "outputs": [
    {
     "name": "stdout",
     "output_type": "stream",
     "text": [
      "(65, 12)\n"
     ]
    },
    {
     "data": {
      "text/html": [
       "<div>\n",
       "<style scoped>\n",
       "    .dataframe tbody tr th:only-of-type {\n",
       "        vertical-align: middle;\n",
       "    }\n",
       "\n",
       "    .dataframe tbody tr th {\n",
       "        vertical-align: top;\n",
       "    }\n",
       "\n",
       "    .dataframe thead th {\n",
       "        text-align: right;\n",
       "    }\n",
       "</style>\n",
       "<table border=\"1\" class=\"dataframe\">\n",
       "  <thead>\n",
       "    <tr style=\"text-align: right;\">\n",
       "      <th></th>\n",
       "      <th>cluster</th>\n",
       "      <th>air_genre_name</th>\n",
       "      <th>air_store_id</th>\n",
       "      <th>visit_datetime</th>\n",
       "      <th>reserve_datetime</th>\n",
       "      <th>reserve_visitors</th>\n",
       "      <th>air_area_name</th>\n",
       "      <th>latitude</th>\n",
       "      <th>longitude</th>\n",
       "      <th>hpg_store_id</th>\n",
       "      <th>hpg_genre_name</th>\n",
       "      <th>hpg_area_name</th>\n",
       "    </tr>\n",
       "  </thead>\n",
       "  <tbody>\n",
       "    <tr>\n",
       "      <th>0</th>\n",
       "      <td>0</td>\n",
       "      <td>Asian</td>\n",
       "      <td>2</td>\n",
       "      <td>2</td>\n",
       "      <td>2</td>\n",
       "      <td>2</td>\n",
       "      <td>2</td>\n",
       "      <td>2</td>\n",
       "      <td>2</td>\n",
       "      <td>0</td>\n",
       "      <td>0</td>\n",
       "      <td>0</td>\n",
       "    </tr>\n",
       "    <tr>\n",
       "      <th>1</th>\n",
       "      <td>0</td>\n",
       "      <td>Bar/Cocktail</td>\n",
       "      <td>189</td>\n",
       "      <td>189</td>\n",
       "      <td>189</td>\n",
       "      <td>189</td>\n",
       "      <td>189</td>\n",
       "      <td>189</td>\n",
       "      <td>189</td>\n",
       "      <td>10</td>\n",
       "      <td>0</td>\n",
       "      <td>0</td>\n",
       "    </tr>\n",
       "    <tr>\n",
       "      <th>2</th>\n",
       "      <td>0</td>\n",
       "      <td>Cafe/Sweets</td>\n",
       "      <td>809</td>\n",
       "      <td>809</td>\n",
       "      <td>809</td>\n",
       "      <td>809</td>\n",
       "      <td>809</td>\n",
       "      <td>809</td>\n",
       "      <td>809</td>\n",
       "      <td>0</td>\n",
       "      <td>0</td>\n",
       "      <td>0</td>\n",
       "    </tr>\n",
       "    <tr>\n",
       "      <th>...</th>\n",
       "      <td>...</td>\n",
       "      <td>...</td>\n",
       "      <td>...</td>\n",
       "      <td>...</td>\n",
       "      <td>...</td>\n",
       "      <td>...</td>\n",
       "      <td>...</td>\n",
       "      <td>...</td>\n",
       "      <td>...</td>\n",
       "      <td>...</td>\n",
       "      <td>...</td>\n",
       "      <td>...</td>\n",
       "    </tr>\n",
       "    <tr>\n",
       "      <th>62</th>\n",
       "      <td>9</td>\n",
       "      <td>Japanese food</td>\n",
       "      <td>604</td>\n",
       "      <td>604</td>\n",
       "      <td>604</td>\n",
       "      <td>604</td>\n",
       "      <td>604</td>\n",
       "      <td>604</td>\n",
       "      <td>604</td>\n",
       "      <td>604</td>\n",
       "      <td>0</td>\n",
       "      <td>0</td>\n",
       "    </tr>\n",
       "    <tr>\n",
       "      <th>63</th>\n",
       "      <td>9</td>\n",
       "      <td>Okonomiyaki/Monja/Teppanyaki</td>\n",
       "      <td>117</td>\n",
       "      <td>117</td>\n",
       "      <td>117</td>\n",
       "      <td>117</td>\n",
       "      <td>117</td>\n",
       "      <td>117</td>\n",
       "      <td>117</td>\n",
       "      <td>0</td>\n",
       "      <td>0</td>\n",
       "      <td>0</td>\n",
       "    </tr>\n",
       "    <tr>\n",
       "      <th>64</th>\n",
       "      <td>9</td>\n",
       "      <td>Yakiniku/Korean food</td>\n",
       "      <td>368</td>\n",
       "      <td>368</td>\n",
       "      <td>368</td>\n",
       "      <td>368</td>\n",
       "      <td>368</td>\n",
       "      <td>368</td>\n",
       "      <td>368</td>\n",
       "      <td>368</td>\n",
       "      <td>0</td>\n",
       "      <td>0</td>\n",
       "    </tr>\n",
       "  </tbody>\n",
       "</table>\n",
       "<p>65 rows × 12 columns</p>\n",
       "</div>"
      ],
      "text/plain": [
       "    cluster                air_genre_name  air_store_id  visit_datetime  \\\n",
       "0         0                         Asian             2               2   \n",
       "1         0                  Bar/Cocktail           189             189   \n",
       "2         0                   Cafe/Sweets           809             809   \n",
       "..      ...                           ...           ...             ...   \n",
       "62        9                 Japanese food           604             604   \n",
       "63        9  Okonomiyaki/Monja/Teppanyaki           117             117   \n",
       "64        9          Yakiniku/Korean food           368             368   \n",
       "\n",
       "    reserve_datetime  reserve_visitors  air_area_name  latitude  longitude  \\\n",
       "0                  2                 2              2         2          2   \n",
       "1                189               189            189       189        189   \n",
       "2                809               809            809       809        809   \n",
       "..               ...               ...            ...       ...        ...   \n",
       "62               604               604            604       604        604   \n",
       "63               117               117            117       117        117   \n",
       "64               368               368            368       368        368   \n",
       "\n",
       "    hpg_store_id  hpg_genre_name  hpg_area_name  \n",
       "0              0               0              0  \n",
       "1             10               0              0  \n",
       "2              0               0              0  \n",
       "..           ...             ...            ...  \n",
       "62           604               0              0  \n",
       "63             0               0              0  \n",
       "64           368               0              0  \n",
       "\n",
       "[65 rows x 12 columns]"
      ]
     },
     "execution_count": 235,
     "metadata": {},
     "output_type": "execute_result"
    }
   ],
   "source": [
    "print(air_genre.shape) # air_genre_name =14, cluster = 10\n",
    "air_genre"
   ]
  },
  {
   "cell_type": "code",
   "execution_count": 236,
   "metadata": {
    "_cell_guid": "7a84b2c6-e2b9-4eb2-b529-ce27f0503fd4",
    "_uuid": "ac6e2175f4f21907801ace168c5cf5341959e7f9",
    "scrolled": false
   },
   "outputs": [
    {
     "data": {
      "image/png": "[encoded data removed]",
      "text/plain": [
       "<Figure size 1080x2592 with 4 Axes>"
      ]
     },
     "metadata": {},
     "output_type": "display_data"
    }
   ],
   "source": [
    "#\n",
    "genres = air.air_genre_name.unique()\n",
    "f,axa= plt.subplots(2,1,figsize=(15,36))\n",
    "hm = []\n",
    "for i in range(10):\n",
    "    genres_count = [air_genre.loc[air_genre.cluster==i].loc[air_genre.air_genre_name==name]\n",
    "                    ['air_store_id'].values[0] \n",
    "                    if name in air_genre.loc[air_genre.cluster==i].air_genre_name.values \n",
    "                    else 0 for name in genres] \n",
    "    hm.append(genres_count)\n",
    "hm = pd.DataFrame(hm, columns=genres,)\n",
    "sns.heatmap(hm.transpose(), cmap=\"YlGnBu\", ax=axa[0])\n",
    "\n",
    "genres = hpg.hpg_genre_name.unique()\n",
    "hm = []\n",
    "for i in range(10):\n",
    "    genres_count = [hpg_genre.loc[hpg_genre.cluster==i].loc[hpg_genre.hpg_genre_name==name]\n",
    "                    ['hpg_store_id'].values[0] \n",
    "                    if name in hpg_genre.loc[hpg_genre.cluster==i].hpg_genre_name.values \n",
    "                    else 0 for name in genres] \n",
    "    hm.append(genres_count)\n",
    "hm = pd.DataFrame(hm,columns=genres,)\n",
    "sns.heatmap(hm.transpose(),cmap=\"YlGnBu\",ax=axa[1])\n",
    "\n",
    "\n",
    "plt.show()"
   ]
  },
  {
   "cell_type": "markdown",
   "metadata": {
    "_cell_guid": "5fe0a3b0-062c-4014-a800-91cfca021e16",
    "_uuid": "06910c8310d0f44bbd0b1b2bc41890f161d209bb"
   },
   "source": [
    "## Japanese Holidays"
   ]
  },
  {
   "cell_type": "markdown",
   "metadata": {
    "_cell_guid": "efaac7a0-573f-4224-8b7b-2fbd33a44081",
    "_uuid": "c3e485e7246e172e52864a9a1d87ffdffd516240"
   },
   "source": [
    "Let's check what are the Japanese holidays excluding Saturday and Sundays"
   ]
  },
  {
   "cell_type": "code",
   "execution_count": 237,
   "metadata": {
    "_cell_guid": "141878d5-9e07-4e13-865d-7d1179664cb3",
    "_uuid": "78c8bcdcdeffa554ef87db31d7610aa5e71c5bb6"
   },
   "outputs": [
    {
     "data": {
      "text/html": [
       "<div>\n",
       "<style scoped>\n",
       "    .dataframe tbody tr th:only-of-type {\n",
       "        vertical-align: middle;\n",
       "    }\n",
       "\n",
       "    .dataframe tbody tr th {\n",
       "        vertical-align: top;\n",
       "    }\n",
       "\n",
       "    .dataframe thead th {\n",
       "        text-align: right;\n",
       "    }\n",
       "</style>\n",
       "<table border=\"1\" class=\"dataframe\">\n",
       "  <thead>\n",
       "    <tr style=\"text-align: right;\">\n",
       "      <th></th>\n",
       "      <th>calendar_date</th>\n",
       "      <th>day_of_week</th>\n",
       "      <th>holiday_flg</th>\n",
       "    </tr>\n",
       "  </thead>\n",
       "  <tbody>\n",
       "    <tr>\n",
       "      <th>0</th>\n",
       "      <td>2016-01-01</td>\n",
       "      <td>Friday</td>\n",
       "      <td>1</td>\n",
       "    </tr>\n",
       "    <tr>\n",
       "      <th>10</th>\n",
       "      <td>2016-01-11</td>\n",
       "      <td>Monday</td>\n",
       "      <td>1</td>\n",
       "    </tr>\n",
       "    <tr>\n",
       "      <th>41</th>\n",
       "      <td>2016-02-11</td>\n",
       "      <td>Thursday</td>\n",
       "      <td>1</td>\n",
       "    </tr>\n",
       "    <tr>\n",
       "      <th>...</th>\n",
       "      <td>...</td>\n",
       "      <td>...</td>\n",
       "      <td>...</td>\n",
       "    </tr>\n",
       "    <tr>\n",
       "      <th>488</th>\n",
       "      <td>2017-05-03</td>\n",
       "      <td>Wednesday</td>\n",
       "      <td>1</td>\n",
       "    </tr>\n",
       "    <tr>\n",
       "      <th>489</th>\n",
       "      <td>2017-05-04</td>\n",
       "      <td>Thursday</td>\n",
       "      <td>1</td>\n",
       "    </tr>\n",
       "    <tr>\n",
       "      <th>490</th>\n",
       "      <td>2017-05-05</td>\n",
       "      <td>Friday</td>\n",
       "      <td>1</td>\n",
       "    </tr>\n",
       "  </tbody>\n",
       "</table>\n",
       "<p>26 rows × 3 columns</p>\n",
       "</div>"
      ],
      "text/plain": [
       "    calendar_date day_of_week  holiday_flg\n",
       "0      2016-01-01      Friday            1\n",
       "10     2016-01-11      Monday            1\n",
       "41     2016-02-11    Thursday            1\n",
       "..            ...         ...          ...\n",
       "488    2017-05-03   Wednesday            1\n",
       "489    2017-05-04    Thursday            1\n",
       "490    2017-05-05      Friday            1\n",
       "\n",
       "[26 rows x 3 columns]"
      ]
     },
     "execution_count": 237,
     "metadata": {},
     "output_type": "execute_result"
    }
   ],
   "source": [
    "#\n",
    "dates = pd.read_csv('date_info.csv')\n",
    "dates.loc[dates.holiday_flg==1].loc[(dates.day_of_week != 'Saturday')].loc[dates.day_of_week \n",
    "                                                                          != 'Sunday']\n",
    "# 土日以外の祝日を表示"
   ]
  },
  {
   "cell_type": "markdown",
   "metadata": {
    "_cell_guid": "7e2573c1-ccce-449b-8156-5a132d802e80",
    "_uuid": "856cc3b1094fc49abbe5aaababf04e1146fffca0"
   },
   "source": [
    "I want to learn more about that so I will rely on this list https://www.officeholidays.com/countries/japan/index.php\n",
    "\n",
    "* Jan 1st - **New Years day **;\n",
    "* 2nd Monday of January - **Coming of Age day **: The day honors young Japanese who will reach the age of 20 at any point during the year. Twenty is the age of majority in Japan, and people who have reached this age gain the right to vote in elections as well as to drink;\n",
    "* Feb 11th - **National Foundation day**:  a national holiday for Japanese people to remind themselves of the nation's founding and foster their love for the nation;\n",
    "* March 20th or 21st- **Vernal Equinox day**: The day is intended to celebrate the love of nature and living things.In modern Japan, the day still maintains its older traditions as visiting family graves and holding family reunions is a common way of celebrating the equinox;\n",
    "* April 29th - ** Showa day**: Showa Day honours the birthday of Emperor Hirohito, the reigning Emperor before, during, and after World War II (from 1926 - 1989);\n",
    "\n",
    "continue...\n"
   ]
  },
  {
   "cell_type": "markdown",
   "metadata": {
    "_cell_guid": "ade9ab36-817e-4a07-a29e-7b99a43a65f0",
    "_uuid": "a18daac72b461ae0866ffa46268a048380e514e8"
   },
   "source": [
    "Now I am going to create two features telling me whther the reservation or the visit occurred in a holiday (reservation_holiday and visit_holiday are the new columns)."
   ]
  },
  {
   "cell_type": "code",
   "execution_count": 238,
   "metadata": {},
   "outputs": [],
   "source": [
    "#\n",
    "vdt = pd.to_datetime(full.visit_datetime)\n",
    "rdt = pd.to_datetime(full.reserve_datetime)\n",
    "full['vd']=vdt.dt.date\n",
    "full['vt']=vdt.dt.time\n",
    "full['rd']=rdt.dt.date\n",
    "full['rt']=rdt.dt.time"
   ]
  },
  {
   "cell_type": "code",
   "execution_count": 239,
   "metadata": {},
   "outputs": [
    {
     "data": {
      "text/html": [
       "<div>\n",
       "<style scoped>\n",
       "    .dataframe tbody tr th:only-of-type {\n",
       "        vertical-align: middle;\n",
       "    }\n",
       "\n",
       "    .dataframe tbody tr th {\n",
       "        vertical-align: top;\n",
       "    }\n",
       "\n",
       "    .dataframe thead th {\n",
       "        text-align: right;\n",
       "    }\n",
       "</style>\n",
       "<table border=\"1\" class=\"dataframe\">\n",
       "  <thead>\n",
       "    <tr style=\"text-align: right;\">\n",
       "      <th></th>\n",
       "      <th>calendar_date</th>\n",
       "      <th>day_of_week</th>\n",
       "      <th>holiday_flg</th>\n",
       "    </tr>\n",
       "  </thead>\n",
       "  <tbody>\n",
       "    <tr>\n",
       "      <th>0</th>\n",
       "      <td>2016-01-01</td>\n",
       "      <td>Friday</td>\n",
       "      <td>1</td>\n",
       "    </tr>\n",
       "    <tr>\n",
       "      <th>1</th>\n",
       "      <td>2016-01-02</td>\n",
       "      <td>Saturday</td>\n",
       "      <td>1</td>\n",
       "    </tr>\n",
       "    <tr>\n",
       "      <th>2</th>\n",
       "      <td>2016-01-03</td>\n",
       "      <td>Sunday</td>\n",
       "      <td>1</td>\n",
       "    </tr>\n",
       "    <tr>\n",
       "      <th>...</th>\n",
       "      <td>...</td>\n",
       "      <td>...</td>\n",
       "      <td>...</td>\n",
       "    </tr>\n",
       "    <tr>\n",
       "      <th>514</th>\n",
       "      <td>2017-05-29</td>\n",
       "      <td>Monday</td>\n",
       "      <td>0</td>\n",
       "    </tr>\n",
       "    <tr>\n",
       "      <th>515</th>\n",
       "      <td>2017-05-30</td>\n",
       "      <td>Tuesday</td>\n",
       "      <td>0</td>\n",
       "    </tr>\n",
       "    <tr>\n",
       "      <th>516</th>\n",
       "      <td>2017-05-31</td>\n",
       "      <td>Wednesday</td>\n",
       "      <td>0</td>\n",
       "    </tr>\n",
       "  </tbody>\n",
       "</table>\n",
       "<p>517 rows × 3 columns</p>\n",
       "</div>"
      ],
      "text/plain": [
       "    calendar_date day_of_week  holiday_flg\n",
       "0      2016-01-01      Friday            1\n",
       "1      2016-01-02    Saturday            1\n",
       "2      2016-01-03      Sunday            1\n",
       "..            ...         ...          ...\n",
       "514    2017-05-29      Monday            0\n",
       "515    2017-05-30     Tuesday            0\n",
       "516    2017-05-31   Wednesday            0\n",
       "\n",
       "[517 rows x 3 columns]"
      ]
     },
     "execution_count": 239,
     "metadata": {},
     "output_type": "execute_result"
    }
   ],
   "source": [
    "dates"
   ]
  },
  {
   "cell_type": "code",
   "execution_count": 240,
   "metadata": {},
   "outputs": [],
   "source": [
    "#\n",
    "dts = pd.to_datetime(dates.calendar_date)\n",
    "days = ['Sunday','Monday','Tuesday','Wednesday','Thursday','Friday','Saturday']\n",
    "dates['calendar_date'] = pd.to_datetime(dates['calendar_date']).dt.date"
   ]
  },
  {
   "cell_type": "code",
   "execution_count": 241,
   "metadata": {},
   "outputs": [
    {
     "data": {
      "text/html": [
       "<div>\n",
       "<style scoped>\n",
       "    .dataframe tbody tr th:only-of-type {\n",
       "        vertical-align: middle;\n",
       "    }\n",
       "\n",
       "    .dataframe tbody tr th {\n",
       "        vertical-align: top;\n",
       "    }\n",
       "\n",
       "    .dataframe thead th {\n",
       "        text-align: right;\n",
       "    }\n",
       "</style>\n",
       "<table border=\"1\" class=\"dataframe\">\n",
       "  <thead>\n",
       "    <tr style=\"text-align: right;\">\n",
       "      <th></th>\n",
       "      <th>calendar_date</th>\n",
       "      <th>day_of_week</th>\n",
       "      <th>holiday_flg</th>\n",
       "      <th>dy</th>\n",
       "      <th>dw</th>\n",
       "    </tr>\n",
       "  </thead>\n",
       "  <tbody>\n",
       "    <tr>\n",
       "      <th>0</th>\n",
       "      <td>2016-01-01</td>\n",
       "      <td>Friday</td>\n",
       "      <td>1</td>\n",
       "      <td>1</td>\n",
       "      <td>5</td>\n",
       "    </tr>\n",
       "    <tr>\n",
       "      <th>1</th>\n",
       "      <td>2016-01-02</td>\n",
       "      <td>Saturday</td>\n",
       "      <td>1</td>\n",
       "      <td>2</td>\n",
       "      <td>6</td>\n",
       "    </tr>\n",
       "    <tr>\n",
       "      <th>2</th>\n",
       "      <td>2016-01-03</td>\n",
       "      <td>Sunday</td>\n",
       "      <td>1</td>\n",
       "      <td>3</td>\n",
       "      <td>0</td>\n",
       "    </tr>\n",
       "    <tr>\n",
       "      <th>...</th>\n",
       "      <td>...</td>\n",
       "      <td>...</td>\n",
       "      <td>...</td>\n",
       "      <td>...</td>\n",
       "      <td>...</td>\n",
       "    </tr>\n",
       "    <tr>\n",
       "      <th>514</th>\n",
       "      <td>2017-05-29</td>\n",
       "      <td>Monday</td>\n",
       "      <td>0</td>\n",
       "      <td>149</td>\n",
       "      <td>1</td>\n",
       "    </tr>\n",
       "    <tr>\n",
       "      <th>515</th>\n",
       "      <td>2017-05-30</td>\n",
       "      <td>Tuesday</td>\n",
       "      <td>0</td>\n",
       "      <td>150</td>\n",
       "      <td>2</td>\n",
       "    </tr>\n",
       "    <tr>\n",
       "      <th>516</th>\n",
       "      <td>2017-05-31</td>\n",
       "      <td>Wednesday</td>\n",
       "      <td>0</td>\n",
       "      <td>151</td>\n",
       "      <td>3</td>\n",
       "    </tr>\n",
       "  </tbody>\n",
       "</table>\n",
       "<p>517 rows × 5 columns</p>\n",
       "</div>"
      ],
      "text/plain": [
       "    calendar_date day_of_week  holiday_flg   dy  dw\n",
       "0      2016-01-01      Friday            1    1   5\n",
       "1      2016-01-02    Saturday            1    2   6\n",
       "2      2016-01-03      Sunday            1    3   0\n",
       "..            ...         ...          ...  ...  ..\n",
       "514    2017-05-29      Monday            0  149   1\n",
       "515    2017-05-30     Tuesday            0  150   2\n",
       "516    2017-05-31   Wednesday            0  151   3\n",
       "\n",
       "[517 rows x 5 columns]"
      ]
     },
     "execution_count": 241,
     "metadata": {},
     "output_type": "execute_result"
    }
   ],
   "source": [
    "#\n",
    "dates['dy'] = dts.dt.dayofyear\n",
    "dates['dw'] = [days.index(dw) for dw in dates.day_of_week]\n",
    "#dts.dt.dayofweek　でもできるが、これはMondayが0になる\n",
    "dates"
   ]
  },
  {
   "cell_type": "code",
   "execution_count": 242,
   "metadata": {},
   "outputs": [],
   "source": [
    "#\n",
    "nf = pd.merge(full, dates[['calendar_date', 'holiday_flg']], how='left', left_on='vd',\n",
    "              right_on='calendar_date')\n",
    "nf = nf.rename(index = str, columns = {'holiday_flg':'visit_holiday'}) # index を int64→object　へ。\n",
    "nf = nf.drop(['calendar_date'],axis=1)"
   ]
  },
  {
   "cell_type": "code",
   "execution_count": 243,
   "metadata": {},
   "outputs": [],
   "source": [
    "#\n",
    "nf = pd.merge(nf, dates[['calendar_date','holiday_flg']], how = 'left', \n",
    "              left_on='rd', right_on='calendar_date')\n",
    "nf = nf.rename(index = str, columns = {'holiday_flg': 'reservation_holiday'})\n",
    "nf = nf.drop(['calendar_date'], axis=1)"
   ]
  },
  {
   "cell_type": "code",
   "execution_count": 244,
   "metadata": {
    "_cell_guid": "347cbf1f-4177-48c2-a50b-2650d28dfc65",
    "_uuid": "0c671d8481c84812d74f009cf2afc7186830d41d",
    "scrolled": true
   },
   "outputs": [
    {
     "data": {
      "text/html": [
       "<div>\n",
       "<style scoped>\n",
       "    .dataframe tbody tr th:only-of-type {\n",
       "        vertical-align: middle;\n",
       "    }\n",
       "\n",
       "    .dataframe tbody tr th {\n",
       "        vertical-align: top;\n",
       "    }\n",
       "\n",
       "    .dataframe thead th {\n",
       "        text-align: right;\n",
       "    }\n",
       "</style>\n",
       "<table border=\"1\" class=\"dataframe\">\n",
       "  <thead>\n",
       "    <tr style=\"text-align: right;\">\n",
       "      <th></th>\n",
       "      <th>air_store_id</th>\n",
       "      <th>visit_datetime</th>\n",
       "      <th>reserve_datetime</th>\n",
       "      <th>reserve_visitors</th>\n",
       "      <th>air_genre_name</th>\n",
       "      <th>air_area_name</th>\n",
       "      <th>latitude</th>\n",
       "      <th>longitude</th>\n",
       "      <th>hpg_store_id</th>\n",
       "      <th>hpg_genre_name</th>\n",
       "      <th>hpg_area_name</th>\n",
       "      <th>cluster</th>\n",
       "      <th>vd</th>\n",
       "      <th>vt</th>\n",
       "      <th>rd</th>\n",
       "      <th>rt</th>\n",
       "      <th>visit_holiday</th>\n",
       "      <th>reservation_holiday</th>\n",
       "    </tr>\n",
       "  </thead>\n",
       "  <tbody>\n",
       "    <tr>\n",
       "      <th>0</th>\n",
       "      <td>air_877f79706adbfb06</td>\n",
       "      <td>2016-01-01 19:00:00</td>\n",
       "      <td>2016-01-01 16:00:00</td>\n",
       "      <td>1</td>\n",
       "      <td>Japanese food</td>\n",
       "      <td>Tōkyō-to Minato-ku Shibakōen</td>\n",
       "      <td>35.658068</td>\n",
       "      <td>139.751599</td>\n",
       "      <td>NaN</td>\n",
       "      <td>NaN</td>\n",
       "      <td>NaN</td>\n",
       "      <td>0</td>\n",
       "      <td>1</td>\n",
       "      <td>19:00:00</td>\n",
       "      <td>1</td>\n",
       "      <td>16:00:00</td>\n",
       "      <td>1</td>\n",
       "      <td>1</td>\n",
       "    </tr>\n",
       "    <tr>\n",
       "      <th>1</th>\n",
       "      <td>air_877f79706adbfb06</td>\n",
       "      <td>2016-01-01 20:00:00</td>\n",
       "      <td>2016-01-01 16:00:00</td>\n",
       "      <td>2</td>\n",
       "      <td>Japanese food</td>\n",
       "      <td>Tōkyō-to Minato-ku Shibakōen</td>\n",
       "      <td>35.658068</td>\n",
       "      <td>139.751599</td>\n",
       "      <td>NaN</td>\n",
       "      <td>NaN</td>\n",
       "      <td>NaN</td>\n",
       "      <td>0</td>\n",
       "      <td>1</td>\n",
       "      <td>20:00:00</td>\n",
       "      <td>1</td>\n",
       "      <td>16:00:00</td>\n",
       "      <td>1</td>\n",
       "      <td>1</td>\n",
       "    </tr>\n",
       "    <tr>\n",
       "      <th>2</th>\n",
       "      <td>air_877f79706adbfb06</td>\n",
       "      <td>2016-01-02 18:00:00</td>\n",
       "      <td>2016-01-01 16:00:00</td>\n",
       "      <td>2</td>\n",
       "      <td>Japanese food</td>\n",
       "      <td>Tōkyō-to Minato-ku Shibakōen</td>\n",
       "      <td>35.658068</td>\n",
       "      <td>139.751599</td>\n",
       "      <td>NaN</td>\n",
       "      <td>NaN</td>\n",
       "      <td>NaN</td>\n",
       "      <td>0</td>\n",
       "      <td>2</td>\n",
       "      <td>18:00:00</td>\n",
       "      <td>1</td>\n",
       "      <td>16:00:00</td>\n",
       "      <td>1</td>\n",
       "      <td>1</td>\n",
       "    </tr>\n",
       "    <tr>\n",
       "      <th>...</th>\n",
       "      <td>...</td>\n",
       "      <td>...</td>\n",
       "      <td>...</td>\n",
       "      <td>...</td>\n",
       "      <td>...</td>\n",
       "      <td>...</td>\n",
       "      <td>...</td>\n",
       "      <td>...</td>\n",
       "      <td>...</td>\n",
       "      <td>...</td>\n",
       "      <td>...</td>\n",
       "      <td>...</td>\n",
       "      <td>...</td>\n",
       "      <td>...</td>\n",
       "      <td>...</td>\n",
       "      <td>...</td>\n",
       "      <td>...</td>\n",
       "      <td>...</td>\n",
       "    </tr>\n",
       "    <tr>\n",
       "      <th>963683</th>\n",
       "      <td>NaN</td>\n",
       "      <td>2017-04-24 19:00:00</td>\n",
       "      <td>2017-04-22 14:00:00</td>\n",
       "      <td>15</td>\n",
       "      <td>NaN</td>\n",
       "      <td>NaN</td>\n",
       "      <td>35.682504</td>\n",
       "      <td>139.773619</td>\n",
       "      <td>hpg_e106ddef2b137959</td>\n",
       "      <td>Japanese style</td>\n",
       "      <td>Tōkyō-to Chūō-ku None</td>\n",
       "      <td>0</td>\n",
       "      <td>114</td>\n",
       "      <td>19:00:00</td>\n",
       "      <td>112</td>\n",
       "      <td>14:00:00</td>\n",
       "      <td>0</td>\n",
       "      <td>0</td>\n",
       "    </tr>\n",
       "    <tr>\n",
       "      <th>963684</th>\n",
       "      <td>NaN</td>\n",
       "      <td>2017-04-24 19:00:00</td>\n",
       "      <td>2017-04-10 17:00:00</td>\n",
       "      <td>18</td>\n",
       "      <td>NaN</td>\n",
       "      <td>NaN</td>\n",
       "      <td>35.682504</td>\n",
       "      <td>139.773619</td>\n",
       "      <td>hpg_e106ddef2b137959</td>\n",
       "      <td>Japanese style</td>\n",
       "      <td>Tōkyō-to Chūō-ku None</td>\n",
       "      <td>0</td>\n",
       "      <td>114</td>\n",
       "      <td>19:00:00</td>\n",
       "      <td>100</td>\n",
       "      <td>17:00:00</td>\n",
       "      <td>0</td>\n",
       "      <td>0</td>\n",
       "    </tr>\n",
       "    <tr>\n",
       "      <th>963685</th>\n",
       "      <td>NaN</td>\n",
       "      <td>2017-04-28 18:00:00</td>\n",
       "      <td>2017-04-10 17:00:00</td>\n",
       "      <td>22</td>\n",
       "      <td>NaN</td>\n",
       "      <td>NaN</td>\n",
       "      <td>35.682504</td>\n",
       "      <td>139.773619</td>\n",
       "      <td>hpg_e106ddef2b137959</td>\n",
       "      <td>Japanese style</td>\n",
       "      <td>Tōkyō-to Chūō-ku None</td>\n",
       "      <td>0</td>\n",
       "      <td>118</td>\n",
       "      <td>18:00:00</td>\n",
       "      <td>100</td>\n",
       "      <td>17:00:00</td>\n",
       "      <td>0</td>\n",
       "      <td>0</td>\n",
       "    </tr>\n",
       "  </tbody>\n",
       "</table>\n",
       "<p>963686 rows × 18 columns</p>\n",
       "</div>"
      ],
      "text/plain": [
       "                air_store_id       visit_datetime     reserve_datetime  \\\n",
       "0       air_877f79706adbfb06  2016-01-01 19:00:00  2016-01-01 16:00:00   \n",
       "1       air_877f79706adbfb06  2016-01-01 20:00:00  2016-01-01 16:00:00   \n",
       "2       air_877f79706adbfb06  2016-01-02 18:00:00  2016-01-01 16:00:00   \n",
       "...                      ...                  ...                  ...   \n",
       "963683                   NaN  2017-04-24 19:00:00  2017-04-22 14:00:00   \n",
       "963684                   NaN  2017-04-24 19:00:00  2017-04-10 17:00:00   \n",
       "963685                   NaN  2017-04-28 18:00:00  2017-04-10 17:00:00   \n",
       "\n",
       "        reserve_visitors air_genre_name                 air_area_name  \\\n",
       "0                      1  Japanese food  Tōkyō-to Minato-ku Shibakōen   \n",
       "1                      2  Japanese food  Tōkyō-to Minato-ku Shibakōen   \n",
       "2                      2  Japanese food  Tōkyō-to Minato-ku Shibakōen   \n",
       "...                  ...            ...                           ...   \n",
       "963683                15            NaN                           NaN   \n",
       "963684                18            NaN                           NaN   \n",
       "963685                22            NaN                           NaN   \n",
       "\n",
       "         latitude   longitude          hpg_store_id  hpg_genre_name  \\\n",
       "0       35.658068  139.751599                   NaN             NaN   \n",
       "1       35.658068  139.751599                   NaN             NaN   \n",
       "2       35.658068  139.751599                   NaN             NaN   \n",
       "...           ...         ...                   ...             ...   \n",
       "963683  35.682504  139.773619  hpg_e106ddef2b137959  Japanese style   \n",
       "963684  35.682504  139.773619  hpg_e106ddef2b137959  Japanese style   \n",
       "963685  35.682504  139.773619  hpg_e106ddef2b137959  Japanese style   \n",
       "\n",
       "                hpg_area_name  cluster   vd        vt   rd        rt  \\\n",
       "0                         NaN        0    1  19:00:00    1  16:00:00   \n",
       "1                         NaN        0    1  20:00:00    1  16:00:00   \n",
       "2                         NaN        0    2  18:00:00    1  16:00:00   \n",
       "...                       ...      ...  ...       ...  ...       ...   \n",
       "963683  Tōkyō-to Chūō-ku None        0  114  19:00:00  112  14:00:00   \n",
       "963684  Tōkyō-to Chūō-ku None        0  114  19:00:00  100  17:00:00   \n",
       "963685  Tōkyō-to Chūō-ku None        0  118  18:00:00  100  17:00:00   \n",
       "\n",
       "        visit_holiday  reservation_holiday  \n",
       "0                   1                    1  \n",
       "1                   1                    1  \n",
       "2                   1                    1  \n",
       "...               ...                  ...  \n",
       "963683              0                    0  \n",
       "963684              0                    0  \n",
       "963685              0                    0  \n",
       "\n",
       "[963686 rows x 18 columns]"
      ]
     },
     "execution_count": 244,
     "metadata": {},
     "output_type": "execute_result"
    }
   ],
   "source": [
    "#\n",
    "nf['vd'] = pd.to_datetime(nf['vd']).dt.dayofyear # object　から datetime、そして1年(365番)までの番号。\n",
    "nf['rd'] = pd.to_datetime(nf['rd']).dt.dayofyear\n",
    "nf"
   ]
  },
  {
   "cell_type": "markdown",
   "metadata": {
    "_cell_guid": "2fe5a416-6c29-49b6-a377-31800782dc1c",
    "_uuid": "52922863d36c8bd732a4eda6a3cdbc941186a684"
   },
   "source": [
    "We can check how many days before the visit japenese people make the reservation."
   ]
  },
  {
   "cell_type": "code",
   "execution_count": 245,
   "metadata": {
    "scrolled": true
   },
   "outputs": [
    {
     "data": {
      "text/plain": [
       "0        2016-01-01 19:00:00\n",
       "1        2016-01-01 20:00:00\n",
       "2        2016-01-02 18:00:00\n",
       "                 ...        \n",
       "963683   2017-04-24 19:00:00\n",
       "963684   2017-04-24 19:00:00\n",
       "963685   2017-04-28 18:00:00\n",
       "Name: visit_datetime, Length: 963686, dtype: datetime64[ns]"
      ]
     },
     "execution_count": 245,
     "metadata": {},
     "output_type": "execute_result"
    }
   ],
   "source": [
    "vdt"
   ]
  },
  {
   "cell_type": "code",
   "execution_count": 246,
   "metadata": {
    "_cell_guid": "c1574275-79c5-413e-b336-d15423a66de3",
    "_uuid": "eb2c69ae09b2e22684efa0dd14c418aa2e49f4a7"
   },
   "outputs": [
    {
     "data": {
      "text/plain": [
       "count    963686.000000\n",
       "mean          6.909061\n",
       "std          11.507296\n",
       "             ...      \n",
       "50%           4.000000\n",
       "75%           9.000000\n",
       "max         393.000000\n",
       "Length: 8, dtype: float64"
      ]
     },
     "execution_count": 246,
     "metadata": {},
     "output_type": "execute_result"
    }
   ],
   "source": [
    "#\n",
    "deltatime = vdt - rdt\n",
    "days = deltatime.dt.days\n",
    "days.describe()"
   ]
  },
  {
   "cell_type": "code",
   "execution_count": 247,
   "metadata": {},
   "outputs": [
    {
     "data": {
      "image/png": "[encoded data removed]",
      "text/plain": [
       "<Figure size 432x288 with 1 Axes>"
      ]
     },
     "metadata": {},
     "output_type": "display_data"
    }
   ],
   "source": [
    "plt.hist(days, bins=50)\n",
    "plt.xlim(0,40)\n",
    "plt.show()"
   ]
  },
  {
   "cell_type": "code",
   "execution_count": 249,
   "metadata": {
    "_cell_guid": "38989141-95d5-431e-8320-cc9c0980ac80",
    "_uuid": "c8826b2b930ce2337e040d6db7c34b2c93a09314",
    "scrolled": false
   },
   "outputs": [
    {
     "data": {
      "image/png": "[encoded data removed]",
      "text/plain": [
       "<Figure size 1080x432 with 1 Axes>"
      ]
     },
     "metadata": {},
     "output_type": "display_data"
    }
   ],
   "source": [
    "#\n",
    "f,axa = plt.subplots(1,1,figsize=(15,6))\n",
    "sns.distplot(days)\n",
    "plt.xlim(0,40)\n",
    "axa.set_title('Days between Reservation and Visit')\n",
    "plt.show()"
   ]
  },
  {
   "cell_type": "code",
   "execution_count": 250,
   "metadata": {
    "scrolled": true
   },
   "outputs": [
    {
     "data": {
      "text/html": [
       "<div>\n",
       "<style scoped>\n",
       "    .dataframe tbody tr th:only-of-type {\n",
       "        vertical-align: middle;\n",
       "    }\n",
       "\n",
       "    .dataframe tbody tr th {\n",
       "        vertical-align: top;\n",
       "    }\n",
       "\n",
       "    .dataframe thead th {\n",
       "        text-align: right;\n",
       "    }\n",
       "</style>\n",
       "<table border=\"1\" class=\"dataframe\">\n",
       "  <thead>\n",
       "    <tr style=\"text-align: right;\">\n",
       "      <th></th>\n",
       "      <th>air_store_id</th>\n",
       "      <th>visit_datetime</th>\n",
       "      <th>reserve_datetime</th>\n",
       "      <th>reserve_visitors</th>\n",
       "      <th>air_genre_name</th>\n",
       "      <th>air_area_name</th>\n",
       "      <th>latitude</th>\n",
       "      <th>longitude</th>\n",
       "      <th>hpg_store_id</th>\n",
       "      <th>hpg_genre_name</th>\n",
       "      <th>hpg_area_name</th>\n",
       "      <th>cluster</th>\n",
       "      <th>vd</th>\n",
       "      <th>vt</th>\n",
       "      <th>rd</th>\n",
       "      <th>rt</th>\n",
       "      <th>visit_holiday</th>\n",
       "      <th>reservation_holiday</th>\n",
       "    </tr>\n",
       "  </thead>\n",
       "  <tbody>\n",
       "    <tr>\n",
       "      <th>0</th>\n",
       "      <td>air_877f79706adbfb06</td>\n",
       "      <td>2016-01-01 19:00:00</td>\n",
       "      <td>2016-01-01 16:00:00</td>\n",
       "      <td>1</td>\n",
       "      <td>Japanese food</td>\n",
       "      <td>Tōkyō-to Minato-ku Shibakōen</td>\n",
       "      <td>35.658068</td>\n",
       "      <td>139.751599</td>\n",
       "      <td>NaN</td>\n",
       "      <td>NaN</td>\n",
       "      <td>NaN</td>\n",
       "      <td>0</td>\n",
       "      <td>1</td>\n",
       "      <td>19:00:00</td>\n",
       "      <td>1</td>\n",
       "      <td>16:00:00</td>\n",
       "      <td>1</td>\n",
       "      <td>1</td>\n",
       "    </tr>\n",
       "    <tr>\n",
       "      <th>1</th>\n",
       "      <td>air_877f79706adbfb06</td>\n",
       "      <td>2016-01-01 20:00:00</td>\n",
       "      <td>2016-01-01 16:00:00</td>\n",
       "      <td>2</td>\n",
       "      <td>Japanese food</td>\n",
       "      <td>Tōkyō-to Minato-ku Shibakōen</td>\n",
       "      <td>35.658068</td>\n",
       "      <td>139.751599</td>\n",
       "      <td>NaN</td>\n",
       "      <td>NaN</td>\n",
       "      <td>NaN</td>\n",
       "      <td>0</td>\n",
       "      <td>1</td>\n",
       "      <td>20:00:00</td>\n",
       "      <td>1</td>\n",
       "      <td>16:00:00</td>\n",
       "      <td>1</td>\n",
       "      <td>1</td>\n",
       "    </tr>\n",
       "    <tr>\n",
       "      <th>2</th>\n",
       "      <td>air_877f79706adbfb06</td>\n",
       "      <td>2016-01-02 18:00:00</td>\n",
       "      <td>2016-01-01 16:00:00</td>\n",
       "      <td>2</td>\n",
       "      <td>Japanese food</td>\n",
       "      <td>Tōkyō-to Minato-ku Shibakōen</td>\n",
       "      <td>35.658068</td>\n",
       "      <td>139.751599</td>\n",
       "      <td>NaN</td>\n",
       "      <td>NaN</td>\n",
       "      <td>NaN</td>\n",
       "      <td>0</td>\n",
       "      <td>2</td>\n",
       "      <td>18:00:00</td>\n",
       "      <td>1</td>\n",
       "      <td>16:00:00</td>\n",
       "      <td>1</td>\n",
       "      <td>1</td>\n",
       "    </tr>\n",
       "    <tr>\n",
       "      <th>...</th>\n",
       "      <td>...</td>\n",
       "      <td>...</td>\n",
       "      <td>...</td>\n",
       "      <td>...</td>\n",
       "      <td>...</td>\n",
       "      <td>...</td>\n",
       "      <td>...</td>\n",
       "      <td>...</td>\n",
       "      <td>...</td>\n",
       "      <td>...</td>\n",
       "      <td>...</td>\n",
       "      <td>...</td>\n",
       "      <td>...</td>\n",
       "      <td>...</td>\n",
       "      <td>...</td>\n",
       "      <td>...</td>\n",
       "      <td>...</td>\n",
       "      <td>...</td>\n",
       "    </tr>\n",
       "    <tr>\n",
       "      <th>963683</th>\n",
       "      <td>NaN</td>\n",
       "      <td>2017-04-24 19:00:00</td>\n",
       "      <td>2017-04-22 14:00:00</td>\n",
       "      <td>15</td>\n",
       "      <td>NaN</td>\n",
       "      <td>NaN</td>\n",
       "      <td>35.682504</td>\n",
       "      <td>139.773619</td>\n",
       "      <td>hpg_e106ddef2b137959</td>\n",
       "      <td>Japanese style</td>\n",
       "      <td>Tōkyō-to Chūō-ku None</td>\n",
       "      <td>0</td>\n",
       "      <td>114</td>\n",
       "      <td>19:00:00</td>\n",
       "      <td>112</td>\n",
       "      <td>14:00:00</td>\n",
       "      <td>0</td>\n",
       "      <td>0</td>\n",
       "    </tr>\n",
       "    <tr>\n",
       "      <th>963684</th>\n",
       "      <td>NaN</td>\n",
       "      <td>2017-04-24 19:00:00</td>\n",
       "      <td>2017-04-10 17:00:00</td>\n",
       "      <td>18</td>\n",
       "      <td>NaN</td>\n",
       "      <td>NaN</td>\n",
       "      <td>35.682504</td>\n",
       "      <td>139.773619</td>\n",
       "      <td>hpg_e106ddef2b137959</td>\n",
       "      <td>Japanese style</td>\n",
       "      <td>Tōkyō-to Chūō-ku None</td>\n",
       "      <td>0</td>\n",
       "      <td>114</td>\n",
       "      <td>19:00:00</td>\n",
       "      <td>100</td>\n",
       "      <td>17:00:00</td>\n",
       "      <td>0</td>\n",
       "      <td>0</td>\n",
       "    </tr>\n",
       "    <tr>\n",
       "      <th>963685</th>\n",
       "      <td>NaN</td>\n",
       "      <td>2017-04-28 18:00:00</td>\n",
       "      <td>2017-04-10 17:00:00</td>\n",
       "      <td>22</td>\n",
       "      <td>NaN</td>\n",
       "      <td>NaN</td>\n",
       "      <td>35.682504</td>\n",
       "      <td>139.773619</td>\n",
       "      <td>hpg_e106ddef2b137959</td>\n",
       "      <td>Japanese style</td>\n",
       "      <td>Tōkyō-to Chūō-ku None</td>\n",
       "      <td>0</td>\n",
       "      <td>118</td>\n",
       "      <td>18:00:00</td>\n",
       "      <td>100</td>\n",
       "      <td>17:00:00</td>\n",
       "      <td>0</td>\n",
       "      <td>0</td>\n",
       "    </tr>\n",
       "  </tbody>\n",
       "</table>\n",
       "<p>963686 rows × 18 columns</p>\n",
       "</div>"
      ],
      "text/plain": [
       "                air_store_id       visit_datetime     reserve_datetime  \\\n",
       "0       air_877f79706adbfb06  2016-01-01 19:00:00  2016-01-01 16:00:00   \n",
       "1       air_877f79706adbfb06  2016-01-01 20:00:00  2016-01-01 16:00:00   \n",
       "2       air_877f79706adbfb06  2016-01-02 18:00:00  2016-01-01 16:00:00   \n",
       "...                      ...                  ...                  ...   \n",
       "963683                   NaN  2017-04-24 19:00:00  2017-04-22 14:00:00   \n",
       "963684                   NaN  2017-04-24 19:00:00  2017-04-10 17:00:00   \n",
       "963685                   NaN  2017-04-28 18:00:00  2017-04-10 17:00:00   \n",
       "\n",
       "        reserve_visitors air_genre_name                 air_area_name  \\\n",
       "0                      1  Japanese food  Tōkyō-to Minato-ku Shibakōen   \n",
       "1                      2  Japanese food  Tōkyō-to Minato-ku Shibakōen   \n",
       "2                      2  Japanese food  Tōkyō-to Minato-ku Shibakōen   \n",
       "...                  ...            ...                           ...   \n",
       "963683                15            NaN                           NaN   \n",
       "963684                18            NaN                           NaN   \n",
       "963685                22            NaN                           NaN   \n",
       "\n",
       "         latitude   longitude          hpg_store_id  hpg_genre_name  \\\n",
       "0       35.658068  139.751599                   NaN             NaN   \n",
       "1       35.658068  139.751599                   NaN             NaN   \n",
       "2       35.658068  139.751599                   NaN             NaN   \n",
       "...           ...         ...                   ...             ...   \n",
       "963683  35.682504  139.773619  hpg_e106ddef2b137959  Japanese style   \n",
       "963684  35.682504  139.773619  hpg_e106ddef2b137959  Japanese style   \n",
       "963685  35.682504  139.773619  hpg_e106ddef2b137959  Japanese style   \n",
       "\n",
       "                hpg_area_name  cluster   vd        vt   rd        rt  \\\n",
       "0                         NaN        0    1  19:00:00    1  16:00:00   \n",
       "1                         NaN        0    1  20:00:00    1  16:00:00   \n",
       "2                         NaN        0    2  18:00:00    1  16:00:00   \n",
       "...                       ...      ...  ...       ...  ...       ...   \n",
       "963683  Tōkyō-to Chūō-ku None        0  114  19:00:00  112  14:00:00   \n",
       "963684  Tōkyō-to Chūō-ku None        0  114  19:00:00  100  17:00:00   \n",
       "963685  Tōkyō-to Chūō-ku None        0  118  18:00:00  100  17:00:00   \n",
       "\n",
       "        visit_holiday  reservation_holiday  \n",
       "0                   1                    1  \n",
       "1                   1                    1  \n",
       "2                   1                    1  \n",
       "...               ...                  ...  \n",
       "963683              0                    0  \n",
       "963684              0                    0  \n",
       "963685              0                    0  \n",
       "\n",
       "[963686 rows x 18 columns]"
      ]
     },
     "execution_count": 250,
     "metadata": {},
     "output_type": "execute_result"
    }
   ],
   "source": [
    "nf"
   ]
  },
  {
   "cell_type": "code",
   "execution_count": 252,
   "metadata": {
    "_cell_guid": "ef2b9777-b785-442e-ae0f-9724d0394818",
    "_uuid": "98c35e2b05a284e504375815980d3a7214362950",
    "scrolled": false
   },
   "outputs": [
    {
     "data": {
      "image/png": "[encoded data removed]",
      "text/plain": [
       "<Figure size 1080x432 with 1 Axes>"
      ]
     },
     "metadata": {},
     "output_type": "display_data"
    }
   ],
   "source": [
    "#\n",
    "f,ax = plt.subplots(1,1, figsize=(15,6))\n",
    "vholidayhist= nf[nf['visit_holiday']==1].groupby(['vd'], as_index=False).count()\n",
    "sns.barplot(x = vholidayhist.vd, y=vholidayhist.visit_datetime)\n",
    "ax.set_title('Visits in Japanese Holidays')\n",
    "plt.show()\n",
    "\n",
    "#1年間の祝日(29日間)にどのくらい客が来ているか"
   ]
  },
  {
   "cell_type": "code",
   "execution_count": 254,
   "metadata": {
    "_cell_guid": "7654bed4-fb88-4f76-ba1f-ef8bfe0617e2",
    "_uuid": "4ff8b3f192fa19b33495eb01c5f39effa63637c6"
   },
   "outputs": [
    {
     "data": {
      "image/png": "[encoded data removed]",
      "text/plain": [
       "<Figure size 1080x432 with 1 Axes>"
      ]
     },
     "metadata": {},
     "output_type": "display_data"
    }
   ],
   "source": [
    "#\n",
    "f,ax = plt.subplots(1,1, figsize=(15,6))\n",
    "vholidayhist= nf[nf['visit_holiday']==0].groupby(['vd'],as_index=False).count()\n",
    "sns.barplot(x = vholidayhist.vd[0:50],y=vholidayhist.visit_datetime)\n",
    "ax.set_title('Visits in Other Days')\n",
    "plt.show()\n",
    "\n",
    "#祝日をのぞいた日にどのくらい客が来ているか"
   ]
  },
  {
   "cell_type": "markdown",
   "metadata": {
    "_cell_guid": "09a75284-edbc-48c1-bd13-2f52419c8f63",
    "_uuid": "3e8f1c66143f1345f85658d4174db85107c36b67",
    "collapsed": true
   },
   "source": [
    "## Weather Data"
   ]
  },
  {
   "cell_type": "code",
   "execution_count": 255,
   "metadata": {
    "_cell_guid": "c27cba35-f631-4ae4-9822-a91aa900076f",
    "_uuid": "36f4cb9f70cc7e70b99c4ad3e3bb75e04de31403",
    "scrolled": true
   },
   "outputs": [
    {
     "data": {
      "text/html": [
       "<div>\n",
       "<style scoped>\n",
       "    .dataframe tbody tr th:only-of-type {\n",
       "        vertical-align: middle;\n",
       "    }\n",
       "\n",
       "    .dataframe tbody tr th {\n",
       "        vertical-align: top;\n",
       "    }\n",
       "\n",
       "    .dataframe thead th {\n",
       "        text-align: right;\n",
       "    }\n",
       "</style>\n",
       "<table border=\"1\" class=\"dataframe\">\n",
       "  <thead>\n",
       "    <tr style=\"text-align: right;\">\n",
       "      <th></th>\n",
       "      <th>area_name</th>\n",
       "      <th>calendar_date</th>\n",
       "      <th>precipitation</th>\n",
       "      <th>avg_temperature</th>\n",
       "      <th>total_snowfall</th>\n",
       "      <th>deepest_snowfall</th>\n",
       "      <th>hours_sunlight</th>\n",
       "      <th>avg_wind_speed</th>\n",
       "      <th>avg_vapor_pressure</th>\n",
       "      <th>avg_humidity</th>\n",
       "      <th>avg_sea_pressure</th>\n",
       "      <th>avg_local_pressure</th>\n",
       "      <th>solar_radiation</th>\n",
       "      <th>cloud_cover</th>\n",
       "      <th>high_temperature</th>\n",
       "      <th>low_temperature</th>\n",
       "    </tr>\n",
       "  </thead>\n",
       "  <tbody>\n",
       "    <tr>\n",
       "      <th>0</th>\n",
       "      <td>fukuoka_dazaifu-kana_dasaif</td>\n",
       "      <td>1/1/16</td>\n",
       "      <td>0.0</td>\n",
       "      <td>5.7</td>\n",
       "      <td>NaN</td>\n",
       "      <td>NaN</td>\n",
       "      <td>5.1</td>\n",
       "      <td>1.9</td>\n",
       "      <td>NaN</td>\n",
       "      <td>NaN</td>\n",
       "      <td>NaN</td>\n",
       "      <td>NaN</td>\n",
       "      <td>NaN</td>\n",
       "      <td>NaN</td>\n",
       "      <td>11.0</td>\n",
       "      <td>2.1</td>\n",
       "    </tr>\n",
       "    <tr>\n",
       "      <th>1</th>\n",
       "      <td>fukuoka_dazaifu-kana_dasaif</td>\n",
       "      <td>1/2/16</td>\n",
       "      <td>0.5</td>\n",
       "      <td>10.2</td>\n",
       "      <td>NaN</td>\n",
       "      <td>NaN</td>\n",
       "      <td>1.3</td>\n",
       "      <td>2.2</td>\n",
       "      <td>NaN</td>\n",
       "      <td>NaN</td>\n",
       "      <td>NaN</td>\n",
       "      <td>NaN</td>\n",
       "      <td>NaN</td>\n",
       "      <td>NaN</td>\n",
       "      <td>15.3</td>\n",
       "      <td>6.1</td>\n",
       "    </tr>\n",
       "    <tr>\n",
       "      <th>2</th>\n",
       "      <td>fukuoka_dazaifu-kana_dasaif</td>\n",
       "      <td>1/3/16</td>\n",
       "      <td>0.0</td>\n",
       "      <td>11.2</td>\n",
       "      <td>NaN</td>\n",
       "      <td>NaN</td>\n",
       "      <td>0.5</td>\n",
       "      <td>0.9</td>\n",
       "      <td>NaN</td>\n",
       "      <td>NaN</td>\n",
       "      <td>NaN</td>\n",
       "      <td>NaN</td>\n",
       "      <td>NaN</td>\n",
       "      <td>NaN</td>\n",
       "      <td>15.5</td>\n",
       "      <td>7.1</td>\n",
       "    </tr>\n",
       "    <tr>\n",
       "      <th>3</th>\n",
       "      <td>fukuoka_dazaifu-kana_dasaif</td>\n",
       "      <td>1/4/16</td>\n",
       "      <td>0.0</td>\n",
       "      <td>9.4</td>\n",
       "      <td>NaN</td>\n",
       "      <td>NaN</td>\n",
       "      <td>4.2</td>\n",
       "      <td>1.8</td>\n",
       "      <td>NaN</td>\n",
       "      <td>NaN</td>\n",
       "      <td>NaN</td>\n",
       "      <td>NaN</td>\n",
       "      <td>NaN</td>\n",
       "      <td>NaN</td>\n",
       "      <td>16.1</td>\n",
       "      <td>5.9</td>\n",
       "    </tr>\n",
       "    <tr>\n",
       "      <th>4</th>\n",
       "      <td>fukuoka_dazaifu-kana_dasaif</td>\n",
       "      <td>1/5/16</td>\n",
       "      <td>1.5</td>\n",
       "      <td>8.8</td>\n",
       "      <td>NaN</td>\n",
       "      <td>NaN</td>\n",
       "      <td>0.0</td>\n",
       "      <td>0.8</td>\n",
       "      <td>NaN</td>\n",
       "      <td>NaN</td>\n",
       "      <td>NaN</td>\n",
       "      <td>NaN</td>\n",
       "      <td>NaN</td>\n",
       "      <td>NaN</td>\n",
       "      <td>12.3</td>\n",
       "      <td>7.1</td>\n",
       "    </tr>\n",
       "  </tbody>\n",
       "</table>\n",
       "</div>"
      ],
      "text/plain": [
       "                     area_name calendar_date  precipitation  avg_temperature  \\\n",
       "0  fukuoka_dazaifu-kana_dasaif        1/1/16            0.0              5.7   \n",
       "1  fukuoka_dazaifu-kana_dasaif        1/2/16            0.5             10.2   \n",
       "2  fukuoka_dazaifu-kana_dasaif        1/3/16            0.0             11.2   \n",
       "3  fukuoka_dazaifu-kana_dasaif        1/4/16            0.0              9.4   \n",
       "4  fukuoka_dazaifu-kana_dasaif        1/5/16            1.5              8.8   \n",
       "\n",
       "   total_snowfall  deepest_snowfall  hours_sunlight  avg_wind_speed  \\\n",
       "0             NaN               NaN             5.1             1.9   \n",
       "1             NaN               NaN             1.3             2.2   \n",
       "2             NaN               NaN             0.5             0.9   \n",
       "3             NaN               NaN             4.2             1.8   \n",
       "4             NaN               NaN             0.0             0.8   \n",
       "\n",
       "   avg_vapor_pressure  avg_humidity  avg_sea_pressure  avg_local_pressure  \\\n",
       "0                 NaN           NaN               NaN                 NaN   \n",
       "1                 NaN           NaN               NaN                 NaN   \n",
       "2                 NaN           NaN               NaN                 NaN   \n",
       "3                 NaN           NaN               NaN                 NaN   \n",
       "4                 NaN           NaN               NaN                 NaN   \n",
       "\n",
       "   solar_radiation  cloud_cover  high_temperature  low_temperature  \n",
       "0              NaN          NaN              11.0              2.1  \n",
       "1              NaN          NaN              15.3              6.1  \n",
       "2              NaN          NaN              15.5              7.1  \n",
       "3              NaN          NaN              16.1              5.9  \n",
       "4              NaN          NaN              12.3              7.1  "
      ]
     },
     "execution_count": 255,
     "metadata": {},
     "output_type": "execute_result"
    }
   ],
   "source": [
    "#\n",
    "wd = pd.read_csv('WeatherData.csv')\n",
    "wd.head()"
   ]
  },
  {
   "cell_type": "code",
   "execution_count": 288,
   "metadata": {},
   "outputs": [],
   "source": [
    "#\n",
    "import re\n",
    "def area2group(area): # match は頭文字がそうなっているか検証するもの\n",
    "    if re.match('tokyo', area) !=None: # r は基本つかなくてもいいが、バックスラッシュも認識してくれる\n",
    "        return 0\n",
    "    if re.match('osaka', area) !=None:\n",
    "        return 1\n",
    "    if re.match('hokkaido', area) !=None:\n",
    "        return 2    \n",
    "    if re.match('fukuoka', area) !=None:\n",
    "        return 3\n",
    "    if re.match('niigata', area) !=None:\n",
    "        return 4\n",
    "    if re.match('hiroshima', area) !=None:\n",
    "        return 5\n",
    "    if re.match('shizuoka', area) !=None:\n",
    "        return 6\n",
    "    if re.match('miyagi', area) !=None:\n",
    "        return 7\n",
    "    else:\n",
    "        return -1"
   ]
  },
  {
   "cell_type": "code",
   "execution_count": 289,
   "metadata": {
    "_cell_guid": "01918d4a-b516-41b3-bc44-7973a581fff1",
    "_uuid": "06a74168bb6286ef8bb1b39531ea7067cf42ff97",
    "scrolled": false
   },
   "outputs": [],
   "source": [
    "#\n",
    "warea = [area2group(area) for area in wd.area_name]\n",
    "wd['cluster'] = warea"
   ]
  },
  {
   "cell_type": "code",
   "execution_count": 294,
   "metadata": {
    "scrolled": true
   },
   "outputs": [
    {
     "data": {
      "text/plain": [
       "-1    5170\n",
       " 0    4653\n",
       " 1    4136\n",
       "      ... \n",
       " 6    3619\n",
       " 5    1551\n",
       " 7    1551\n",
       "Name: cluster, Length: 9, dtype: int64"
      ]
     },
     "execution_count": 294,
     "metadata": {},
     "output_type": "execute_result"
    }
   ],
   "source": [
    "wd.cluster.value_counts().sort_values(ascending=False)"
   ]
  },
  {
   "cell_type": "code",
   "execution_count": 295,
   "metadata": {},
   "outputs": [
    {
     "data": {
      "text/html": [
       "<div>\n",
       "<style scoped>\n",
       "    .dataframe tbody tr th:only-of-type {\n",
       "        vertical-align: middle;\n",
       "    }\n",
       "\n",
       "    .dataframe tbody tr th {\n",
       "        vertical-align: top;\n",
       "    }\n",
       "\n",
       "    .dataframe thead th {\n",
       "        text-align: right;\n",
       "    }\n",
       "</style>\n",
       "<table border=\"1\" class=\"dataframe\">\n",
       "  <thead>\n",
       "    <tr style=\"text-align: right;\">\n",
       "      <th></th>\n",
       "      <th>area_name</th>\n",
       "      <th>calendar_date</th>\n",
       "      <th>precipitation</th>\n",
       "      <th>avg_temperature</th>\n",
       "      <th>total_snowfall</th>\n",
       "      <th>deepest_snowfall</th>\n",
       "      <th>hours_sunlight</th>\n",
       "      <th>avg_wind_speed</th>\n",
       "      <th>avg_vapor_pressure</th>\n",
       "      <th>avg_humidity</th>\n",
       "      <th>avg_sea_pressure</th>\n",
       "      <th>avg_local_pressure</th>\n",
       "      <th>solar_radiation</th>\n",
       "      <th>cloud_cover</th>\n",
       "      <th>high_temperature</th>\n",
       "      <th>low_temperature</th>\n",
       "      <th>cluster</th>\n",
       "    </tr>\n",
       "  </thead>\n",
       "  <tbody>\n",
       "    <tr>\n",
       "      <th>0</th>\n",
       "      <td>fukuoka_dazaifu-kana_dasaif</td>\n",
       "      <td>1/1/16</td>\n",
       "      <td>0.0</td>\n",
       "      <td>5.7</td>\n",
       "      <td>NaN</td>\n",
       "      <td>NaN</td>\n",
       "      <td>5.1</td>\n",
       "      <td>1.9</td>\n",
       "      <td>NaN</td>\n",
       "      <td>NaN</td>\n",
       "      <td>NaN</td>\n",
       "      <td>NaN</td>\n",
       "      <td>NaN</td>\n",
       "      <td>NaN</td>\n",
       "      <td>11.0</td>\n",
       "      <td>2.1</td>\n",
       "      <td>3</td>\n",
       "    </tr>\n",
       "    <tr>\n",
       "      <th>1</th>\n",
       "      <td>fukuoka_dazaifu-kana_dasaif</td>\n",
       "      <td>1/2/16</td>\n",
       "      <td>0.5</td>\n",
       "      <td>10.2</td>\n",
       "      <td>NaN</td>\n",
       "      <td>NaN</td>\n",
       "      <td>1.3</td>\n",
       "      <td>2.2</td>\n",
       "      <td>NaN</td>\n",
       "      <td>NaN</td>\n",
       "      <td>NaN</td>\n",
       "      <td>NaN</td>\n",
       "      <td>NaN</td>\n",
       "      <td>NaN</td>\n",
       "      <td>15.3</td>\n",
       "      <td>6.1</td>\n",
       "      <td>3</td>\n",
       "    </tr>\n",
       "    <tr>\n",
       "      <th>2</th>\n",
       "      <td>fukuoka_dazaifu-kana_dasaif</td>\n",
       "      <td>1/3/16</td>\n",
       "      <td>0.0</td>\n",
       "      <td>11.2</td>\n",
       "      <td>NaN</td>\n",
       "      <td>NaN</td>\n",
       "      <td>0.5</td>\n",
       "      <td>0.9</td>\n",
       "      <td>NaN</td>\n",
       "      <td>NaN</td>\n",
       "      <td>NaN</td>\n",
       "      <td>NaN</td>\n",
       "      <td>NaN</td>\n",
       "      <td>NaN</td>\n",
       "      <td>15.5</td>\n",
       "      <td>7.1</td>\n",
       "      <td>3</td>\n",
       "    </tr>\n",
       "    <tr>\n",
       "      <th>...</th>\n",
       "      <td>...</td>\n",
       "      <td>...</td>\n",
       "      <td>...</td>\n",
       "      <td>...</td>\n",
       "      <td>...</td>\n",
       "      <td>...</td>\n",
       "      <td>...</td>\n",
       "      <td>...</td>\n",
       "      <td>...</td>\n",
       "      <td>...</td>\n",
       "      <td>...</td>\n",
       "      <td>...</td>\n",
       "      <td>...</td>\n",
       "      <td>...</td>\n",
       "      <td>...</td>\n",
       "      <td>...</td>\n",
       "      <td>...</td>\n",
       "    </tr>\n",
       "    <tr>\n",
       "      <th>33085</th>\n",
       "      <td>yamaguchi__shimonoseki-kana__shimonoseki</td>\n",
       "      <td>5/29/17</td>\n",
       "      <td>NaN</td>\n",
       "      <td>23.2</td>\n",
       "      <td>NaN</td>\n",
       "      <td>NaN</td>\n",
       "      <td>12.8</td>\n",
       "      <td>3.7</td>\n",
       "      <td>15.2</td>\n",
       "      <td>55.0</td>\n",
       "      <td>1012.8</td>\n",
       "      <td>1010.6</td>\n",
       "      <td>26.96</td>\n",
       "      <td>0.0</td>\n",
       "      <td>27.7</td>\n",
       "      <td>19.2</td>\n",
       "      <td>-1</td>\n",
       "    </tr>\n",
       "    <tr>\n",
       "      <th>33086</th>\n",
       "      <td>yamaguchi__shimonoseki-kana__shimonoseki</td>\n",
       "      <td>5/30/17</td>\n",
       "      <td>NaN</td>\n",
       "      <td>23.6</td>\n",
       "      <td>NaN</td>\n",
       "      <td>NaN</td>\n",
       "      <td>12.1</td>\n",
       "      <td>2.4</td>\n",
       "      <td>18.4</td>\n",
       "      <td>64.0</td>\n",
       "      <td>1010.6</td>\n",
       "      <td>1008.4</td>\n",
       "      <td>25.24</td>\n",
       "      <td>6.3</td>\n",
       "      <td>28.8</td>\n",
       "      <td>19.4</td>\n",
       "      <td>-1</td>\n",
       "    </tr>\n",
       "    <tr>\n",
       "      <th>33087</th>\n",
       "      <td>yamaguchi__shimonoseki-kana__shimonoseki</td>\n",
       "      <td>5/31/17</td>\n",
       "      <td>0.0</td>\n",
       "      <td>23.0</td>\n",
       "      <td>NaN</td>\n",
       "      <td>NaN</td>\n",
       "      <td>3.1</td>\n",
       "      <td>1.5</td>\n",
       "      <td>20.4</td>\n",
       "      <td>73.0</td>\n",
       "      <td>1005.4</td>\n",
       "      <td>1003.1</td>\n",
       "      <td>14.75</td>\n",
       "      <td>8.5</td>\n",
       "      <td>26.5</td>\n",
       "      <td>20.9</td>\n",
       "      <td>-1</td>\n",
       "    </tr>\n",
       "  </tbody>\n",
       "</table>\n",
       "<p>33088 rows × 17 columns</p>\n",
       "</div>"
      ],
      "text/plain": [
       "                                      area_name calendar_date  precipitation  \\\n",
       "0                   fukuoka_dazaifu-kana_dasaif        1/1/16            0.0   \n",
       "1                   fukuoka_dazaifu-kana_dasaif        1/2/16            0.5   \n",
       "2                   fukuoka_dazaifu-kana_dasaif        1/3/16            0.0   \n",
       "...                                         ...           ...            ...   \n",
       "33085  yamaguchi__shimonoseki-kana__shimonoseki       5/29/17            NaN   \n",
       "33086  yamaguchi__shimonoseki-kana__shimonoseki       5/30/17            NaN   \n",
       "33087  yamaguchi__shimonoseki-kana__shimonoseki       5/31/17            0.0   \n",
       "\n",
       "       avg_temperature  total_snowfall  deepest_snowfall  hours_sunlight  \\\n",
       "0                  5.7             NaN               NaN             5.1   \n",
       "1                 10.2             NaN               NaN             1.3   \n",
       "2                 11.2             NaN               NaN             0.5   \n",
       "...                ...             ...               ...             ...   \n",
       "33085             23.2             NaN               NaN            12.8   \n",
       "33086             23.6             NaN               NaN            12.1   \n",
       "33087             23.0             NaN               NaN             3.1   \n",
       "\n",
       "       avg_wind_speed  avg_vapor_pressure  avg_humidity  avg_sea_pressure  \\\n",
       "0                 1.9                 NaN           NaN               NaN   \n",
       "1                 2.2                 NaN           NaN               NaN   \n",
       "2                 0.9                 NaN           NaN               NaN   \n",
       "...               ...                 ...           ...               ...   \n",
       "33085             3.7                15.2          55.0            1012.8   \n",
       "33086             2.4                18.4          64.0            1010.6   \n",
       "33087             1.5                20.4          73.0            1005.4   \n",
       "\n",
       "       avg_local_pressure  solar_radiation  cloud_cover  high_temperature  \\\n",
       "0                     NaN              NaN          NaN              11.0   \n",
       "1                     NaN              NaN          NaN              15.3   \n",
       "2                     NaN              NaN          NaN              15.5   \n",
       "...                   ...              ...          ...               ...   \n",
       "33085              1010.6            26.96          0.0              27.7   \n",
       "33086              1008.4            25.24          6.3              28.8   \n",
       "33087              1003.1            14.75          8.5              26.5   \n",
       "\n",
       "       low_temperature  cluster  \n",
       "0                  2.1        3  \n",
       "1                  6.1        3  \n",
       "2                  7.1        3  \n",
       "...                ...      ...  \n",
       "33085             19.2       -1  \n",
       "33086             19.4       -1  \n",
       "33087             20.9       -1  \n",
       "\n",
       "[33088 rows x 17 columns]"
      ]
     },
     "execution_count": 295,
     "metadata": {},
     "output_type": "execute_result"
    }
   ],
   "source": [
    "wd"
   ]
  },
  {
   "cell_type": "code",
   "execution_count": 296,
   "metadata": {
    "_uuid": "d30fc3af00a2f0e1bd7dcc09518fd4789a77a3bd"
   },
   "outputs": [],
   "source": [
    "wd['calendar_date'] = pd.to_datetime(wd.calendar_date).dt.date"
   ]
  },
  {
   "cell_type": "code",
   "execution_count": 298,
   "metadata": {},
   "outputs": [
    {
     "data": {
      "text/plain": [
       "0         2016-01-01\n",
       "1         2016-01-01\n",
       "2         2016-01-02\n",
       "             ...    \n",
       "963683    2017-04-24\n",
       "963684    2017-04-24\n",
       "963685    2017-04-28\n",
       "Name: visit_datetime, Length: 963686, dtype: object"
      ]
     },
     "execution_count": 298,
     "metadata": {},
     "output_type": "execute_result"
    }
   ],
   "source": [
    "pd.to_datetime(nf.visit_datetime).dt.date"
   ]
  },
  {
   "cell_type": "code",
   "execution_count": 300,
   "metadata": {
    "_uuid": "bdc96ec916a61e0014c39103237f3a4a727cdbb0"
   },
   "outputs": [],
   "source": [
    "nf['visit_date'] = pd.to_datetime(nf.visit_datetime).dt.date"
   ]
  },
  {
   "cell_type": "code",
   "execution_count": 303,
   "metadata": {
    "_cell_guid": "7b41e6b2-ad05-4d48-a8c3-727fa1350699",
    "_uuid": "367aa158b0a33fea311c1b384ad626bd9a0fd415"
   },
   "outputs": [],
   "source": [
    "wdg = wd.groupby(['cluster','calendar_date'],as_index=False).mean()\n",
    "wnf = pd.merge(wdg, nf ,left_on=['cluster','calendar_date'], right_on=['cluster','visit_date'])"
   ]
  },
  {
   "cell_type": "code",
   "execution_count": 307,
   "metadata": {
    "_uuid": "cec5a2f6970179a4b7ffdb2970c220913393455b"
   },
   "outputs": [],
   "source": [
    "airvisit['visit_date'] = pd.to_datetime(airvisit['visit_date']).dt.date\n",
    "wnf = pd.merge(wnf, airvisit, on=['air_store_id','visit_date'])"
   ]
  },
  {
   "cell_type": "code",
   "execution_count": 308,
   "metadata": {
    "_uuid": "5a268d82f832bc2c9cb3bd472e57e043b561a8cf",
    "scrolled": true
   },
   "outputs": [
    {
     "data": {
      "text/plain": [
       "<matplotlib.axes._subplots.AxesSubplot at 0x10f40ae48>"
      ]
     },
     "execution_count": 308,
     "metadata": {},
     "output_type": "execute_result"
    },
    {
     "data": {
      "image/png": "[encoded data removed]",
      "text/plain": [
       "<Figure size 1080x720 with 2 Axes>"
      ]
     },
     "metadata": {},
     "output_type": "display_data"
    }
   ],
   "source": [
    "f,axa = plt.subplots(1,1,figsize=(15,10))\n",
    "sns.heatmap(wnf.corr()[['visitors']])"
   ]
  },
  {
   "cell_type": "markdown",
   "metadata": {
    "_cell_guid": "3997111b-153c-4d6d-addf-e4b8f9595cce",
    "_uuid": "975f97de7143128edecd8a73542263b820c79155"
   },
   "source": [
    "Apparently there number of visitors is not correlated with the weather conditions"
   ]
  },
  {
   "cell_type": "code",
   "execution_count": null,
   "metadata": {
    "_uuid": "4d036d0a94f4ea177e1dc68fd6fff366105c0476"
   },
   "outputs": [],
   "source": []
  }
 ],
 "metadata": {
  "kernelspec": {
   "display_name": "Python 3",
   "language": "python",
   "name": "python3"
  },
  "language_info": {
   "codemirror_mode": {
    "name": "ipython",
    "version": 3
   },
   "file_extension": ".py",
   "mimetype": "text/x-python",
   "name": "python",
   "nbconvert_exporter": "python",
   "pygments_lexer": "ipython3",
   "version": "3.6.1"
  },
  "toc": {
   "base_numbering": 1,
   "nav_menu": {},
   "number_sections": true,
   "sideBar": true,
   "skip_h1_title": false,
   "title_cell": "Table of Contents",
   "title_sidebar": "Contents",
   "toc_cell": false,
   "toc_position": {},
   "toc_section_display": true,
   "toc_window_display": false
  }
 },
 "nbformat": 4,
 "nbformat_minor": 1
}
